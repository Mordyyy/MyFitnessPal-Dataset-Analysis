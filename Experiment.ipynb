{
 "cells": [
  {
   "cell_type": "code",
   "execution_count": 208,
   "metadata": {},
   "outputs": [],
   "source": [
    "import pandas as pd\n",
    "import numpy as np\n",
    "import json\n",
    "import seaborn as sns\n",
    "import matplotlib.pyplot as plt\n",
    "import datetime\n",
    "from sklearn.cluster import KMeans\n",
    "from yellowbrick.cluster import KElbowVisualizer, SilhouetteVisualizer\n",
    "from itertools import product\n",
    "from tqdm import tqdm_notebook"
   ]
  },
  {
   "cell_type": "code",
   "execution_count": 209,
   "metadata": {},
   "outputs": [],
   "source": [
    "# import dataset as pandas.DataFrame\n",
    "data = pd.read_csv('a.tsv', sep='\\t', header=0, names=['Person', 'Date', 'Input', 'Result'])"
   ]
  },
  {
   "cell_type": "code",
   "execution_count": 211,
   "metadata": {},
   "outputs": [],
   "source": [
    "# აბრუნებს data[row[col]-ის მნიშვნელობას. jsn=True იმ შემთხვევაში თუ სვეტის ელემენტი json ფორმატში არის შენახული\n",
    "# და ჭირდება დესერილიზაცია\n",
    "\n",
    "def get_value(data, row, col, jsn):\n",
    "    if jsn:\n",
    "        return json.loads(data.iloc[row, col])\n",
    "    else:\n",
    "        return data.iloc[row, col]\n",
    "    \n",
    "def get_size(data, person):\n",
    "    return data.loc[data.Person == person, ['Person']].shape[0]"
   ]
  },
  {
   "cell_type": "code",
   "execution_count": 212,
   "metadata": {},
   "outputs": [
    {
     "data": {
      "text/html": [
       "<div>\n",
       "<style scoped>\n",
       "    .dataframe tbody tr th:only-of-type {\n",
       "        vertical-align: middle;\n",
       "    }\n",
       "\n",
       "    .dataframe tbody tr th {\n",
       "        vertical-align: top;\n",
       "    }\n",
       "\n",
       "    .dataframe thead th {\n",
       "        text-align: right;\n",
       "    }\n",
       "</style>\n",
       "<table border=\"1\" class=\"dataframe\">\n",
       "  <thead>\n",
       "    <tr style=\"text-align: right;\">\n",
       "      <th></th>\n",
       "      <th>Person</th>\n",
       "      <th>Date</th>\n",
       "      <th>Input</th>\n",
       "      <th>Result</th>\n",
       "      <th>cnt</th>\n",
       "    </tr>\n",
       "  </thead>\n",
       "  <tbody>\n",
       "    <tr>\n",
       "      <th>0</th>\n",
       "      <td>1</td>\n",
       "      <td>2014-09-15</td>\n",
       "      <td>[{\"meal\": \"MY food\", \"dishes\": [{\"nutritions\":...</td>\n",
       "      <td>{\"total\": [{\"name\": \"Calories\", \"value\": 2430}...</td>\n",
       "      <td>173</td>\n",
       "    </tr>\n",
       "    <tr>\n",
       "      <th>1</th>\n",
       "      <td>1</td>\n",
       "      <td>2014-09-16</td>\n",
       "      <td>[{\"meal\": \"MY food\", \"dishes\": [{\"nutritions\":...</td>\n",
       "      <td>{\"total\": [{\"name\": \"Calories\", \"value\": 1862}...</td>\n",
       "      <td>173</td>\n",
       "    </tr>\n",
       "    <tr>\n",
       "      <th>2</th>\n",
       "      <td>1</td>\n",
       "      <td>2014-09-17</td>\n",
       "      <td>[{\"meal\": \"MY food\", \"dishes\": [{\"nutritions\":...</td>\n",
       "      <td>{\"total\": [{\"name\": \"Calories\", \"value\": 2251}...</td>\n",
       "      <td>173</td>\n",
       "    </tr>\n",
       "    <tr>\n",
       "      <th>3</th>\n",
       "      <td>1</td>\n",
       "      <td>2014-09-18</td>\n",
       "      <td>[{\"meal\": \"MY food\", \"dishes\": [{\"nutritions\":...</td>\n",
       "      <td>{\"total\": [{\"name\": \"Calories\", \"value\": 2001}...</td>\n",
       "      <td>173</td>\n",
       "    </tr>\n",
       "    <tr>\n",
       "      <th>4</th>\n",
       "      <td>1</td>\n",
       "      <td>2014-09-19</td>\n",
       "      <td>[{\"meal\": \"MY food\", \"dishes\": [{\"nutritions\":...</td>\n",
       "      <td>{\"total\": [{\"name\": \"Calories\", \"value\": 2158}...</td>\n",
       "      <td>173</td>\n",
       "    </tr>\n",
       "  </tbody>\n",
       "</table>\n",
       "</div>"
      ],
      "text/plain": [
       "   Person        Date                                              Input  \\\n",
       "0       1  2014-09-15  [{\"meal\": \"MY food\", \"dishes\": [{\"nutritions\":...   \n",
       "1       1  2014-09-16  [{\"meal\": \"MY food\", \"dishes\": [{\"nutritions\":...   \n",
       "2       1  2014-09-17  [{\"meal\": \"MY food\", \"dishes\": [{\"nutritions\":...   \n",
       "3       1  2014-09-18  [{\"meal\": \"MY food\", \"dishes\": [{\"nutritions\":...   \n",
       "4       1  2014-09-19  [{\"meal\": \"MY food\", \"dishes\": [{\"nutritions\":...   \n",
       "\n",
       "                                              Result  cnt  \n",
       "0  {\"total\": [{\"name\": \"Calories\", \"value\": 2430}...  173  \n",
       "1  {\"total\": [{\"name\": \"Calories\", \"value\": 1862}...  173  \n",
       "2  {\"total\": [{\"name\": \"Calories\", \"value\": 2251}...  173  \n",
       "3  {\"total\": [{\"name\": \"Calories\", \"value\": 2001}...  173  \n",
       "4  {\"total\": [{\"name\": \"Calories\", \"value\": 2158}...  173  "
      ]
     },
     "execution_count": 212,
     "metadata": {},
     "output_type": "execute_result"
    }
   ],
   "source": [
    "persons = data['Person'].unique()\n",
    "dt = data.copy()\n",
    "mp = {}\n",
    "for person in persons:\n",
    "    mp[person] = get_size(data, person)\n",
    "rs = []\n",
    "for i in data.index:\n",
    "    rs.append(mp[get_value(data, i, 0, False)])\n",
    "dt['cnt'] = rs\n",
    "dt = dt.loc[dt.cnt >= 50, :]\n",
    "data = dt\n",
    "data.head()"
   ]
  },
  {
   "cell_type": "code",
   "execution_count": 214,
   "metadata": {},
   "outputs": [],
   "source": [
    "def calories_goal_distribution(data, row):\n",
    "    result = get_value(data, row, 3, True)\n",
    "    for i in range(len(result['total'])):\n",
    "        if result['goal'][i]['name'] == 'Calories':\n",
    "            return result['goal'][i]['value']\n",
    "    return -1"
   ]
  },
  {
   "cell_type": "code",
   "execution_count": 215,
   "metadata": {},
   "outputs": [],
   "source": [
    "def calories_total_distribution(data, row):\n",
    "    result = get_value(data, row, 3, True)\n",
    "    for i in range(len(result['total'])):\n",
    "        if result['total'][i]['name'] == 'Calories':\n",
    "            return result['total'][i]['value']\n",
    "    return -1"
   ]
  },
  {
   "cell_type": "code",
   "execution_count": 216,
   "metadata": {},
   "outputs": [],
   "source": [
    "def get_difference(data, row):\n",
    "    result = get_value(data, row, 3, True)\n",
    "    total_calories = 0\n",
    "    goal_calories = 0\n",
    "    total_sugar = 0\n",
    "    goal_sugar = 0\n",
    "    for i in range(len(result['total'])):\n",
    "        if result['total'][i]['name'] == 'Sugar':\n",
    "            total_sugar = result['total'][i]['value']\n",
    "        if result['total'][i]['name'] == 'Calories':\n",
    "            total_calories = result['total'][i]['value']\n",
    "        if result['goal'][i]['name'] == 'Calories':\n",
    "            goal_calories = result['goal'][i]['value']\n",
    "        if result['goal'][i]['name'] == 'Sugar':\n",
    "            goal_sugar = result['goal'][i]['value']\n",
    "    return abs(goal_calories - total_calories), abs(goal_sugar - total_sugar)"
   ]
  },
  {
   "cell_type": "code",
   "execution_count": 217,
   "metadata": {},
   "outputs": [],
   "source": [
    "def get_date_index(dates, date):\n",
    "    for i in range(len(dates)):\n",
    "        if dates[i] == date:\n",
    "            return i\n",
    "    return -1"
   ]
  },
  {
   "cell_type": "code",
   "execution_count": 218,
   "metadata": {},
   "outputs": [],
   "source": [
    "def dates_contains_date(dates, date):\n",
    "    for cur_date in dates:\n",
    "        if cur_date == date:\n",
    "            return True\n",
    "    return False"
   ]
  },
  {
   "cell_type": "code",
   "execution_count": 231,
   "metadata": {},
   "outputs": [],
   "source": [
    "remaining_persons = data['Person'].to_numpy()\n",
    "person_id = remaining_persons[276];\n",
    "person_dt = data.loc[data.Person == person_id, :].copy()\n",
    "person_dates = person_dt['Date'].to_numpy()\n",
    "dates = data['Date'].unique()"
   ]
  },
  {
   "cell_type": "code",
   "execution_count": 232,
   "metadata": {},
   "outputs": [],
   "source": [
    "new_dates = []\n",
    "for date in dates:\n",
    "    x = datetime.datetime(int(date[0:4]), int(date[5:7]), int(date[8:10]))\n",
    "    new_dates.append(x)\n",
    "dates = new_dates\n",
    "dates.sort()\n",
    "new_person_dates = []\n",
    "for date in person_dates:\n",
    "    x = datetime.datetime(int(date[0:4]), int(date[5:7]), int(date[8:10]))\n",
    "    new_person_dates.append(x)\n",
    "person_dates = new_person_dates\n",
    "person_dates.sort()"
   ]
  },
  {
   "cell_type": "code",
   "execution_count": 233,
   "metadata": {},
   "outputs": [],
   "source": [
    "# print(dates)\n",
    "# print(person_dates)\n",
    "beta = 0.7\n",
    "lst = []\n",
    "lst2 = []\n",
    "for i in person_dt.index:\n",
    "    lst.append(get_difference(data, i)[0])\n",
    "    lst2.append(get_difference(data, i)[1])\n",
    "mx = max(lst)\n",
    "mx2 = max(lst2)\n",
    "if mx == 0:\n",
    "    mx = 1\n",
    "if mx2 == 0:\n",
    "    mx2 = 1\n",
    "for i in range(len(lst)):\n",
    "    lst[i] /= mx \n",
    "    lst[i] = lst[i] * 0.7 * 100\n",
    "    lst2[i] /= mx2 \n",
    "    lst2[i] = lst2[i] * 0.3 * 100\n",
    "    \n",
    "results = []\n",
    "lsts_index = 0\n",
    "frm = get_date_index(dates, person_dates[0])\n",
    "to = get_date_index(dates, person_dates[len(person_dates) - 1])\n",
    "missed_days = 0\n",
    "for i in range(frm, to+1):\n",
    "    date = dates[i]\n",
    "    if not dates_contains_date(person_dates, date):\n",
    "        missed_days += 1\n",
    "        results.append(results[len(results) - 1] * beta)\n",
    "    else:\n",
    "        if len(results) == 0:\n",
    "            results.append((1 - beta) * (100 - lst[lsts_index] - lst2[lsts_index]))\n",
    "        else:\n",
    "            results.append(results[len(results) - 1] * beta + (1 - beta) * (100 - lst[lsts_index] - lst2[lsts_index]))\n",
    "        lsts_index += 1"
   ]
  },
  {
   "cell_type": "code",
   "execution_count": 234,
   "metadata": {},
   "outputs": [
    {
     "data": {
      "image/png": "[encoded data removed]",
      "text/plain": [
       "<Figure size 576x396 with 1 Axes>"
      ]
     },
     "metadata": {},
     "output_type": "display_data"
    }
   ],
   "source": [
    "# lst = []\n",
    "# lst2 = []\n",
    "# for i in person_dt.index:\n",
    "#     lst.append(get_difference(data, i)[0])\n",
    "#     lst2.append(get_difference(data, i)[1])\n",
    "# mx = max(lst)\n",
    "# mx2 = max(lst2)\n",
    "# lst3 = []\n",
    "# alpha = 0.7\n",
    "# for i in range(len(lst)):\n",
    "#     lst[i] /= mx \n",
    "#     lst[i] = lst[i] * 0.7 * 100\n",
    "#     lst2[i] /= mx2 \n",
    "#     lst2[i] = lst2[i] * 0.3 * 100\n",
    "#     if i > 0:\n",
    "#         lst3.append(alpha * lst3[i-1] + (1 - alpha) * (100 - lst[i] - lst2[i]))\n",
    "#     else: \n",
    "#         lst3.append( alpha * (100 - lst[i] - lst2[i]))\n",
    "plt.plot(results, color='black')\n",
    "plt.show()"
   ]
  },
  {
   "cell_type": "code",
   "execution_count": null,
   "metadata": {},
   "outputs": [],
   "source": []
  }
 ],
 "metadata": {
  "kernelspec": {
   "display_name": "Python 3",
   "language": "python",
   "name": "python3"
  },
  "language_info": {
   "codemirror_mode": {
    "name": "ipython",
    "version": 3
   },
   "file_extension": ".py",
   "mimetype": "text/x-python",
   "name": "python",
   "nbconvert_exporter": "python",
   "pygments_lexer": "ipython3",
   "version": "3.8.5"
  }
 },
 "nbformat": 4,
 "nbformat_minor": 4
}
