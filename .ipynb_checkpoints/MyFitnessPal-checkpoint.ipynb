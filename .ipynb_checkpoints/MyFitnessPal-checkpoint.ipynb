{
 "cells": [
  {
   "cell_type": "markdown",
   "metadata": {},
   "source": [
    "არ დასავიწყებელი ფაქტები !\n",
    "1. ნუტრიოტები შევამოწმე და მაქსიმალური რაოდენობა ერთ ცდაზე 6-ია, მეტი არ შეიძლება\n",
    "2. ნუტრიოტების მინიმალური რაოდენობა არის 1, რაც ნიშნავს რომ აქ ინფო არ აკლია.\n",
    "3. ჩავარდნა არ არის ახალ წელს, ჩავარდნა არის 25 დეკემბერს, მერე იწყება აღმასვლა.\n",
    "\n",
    "1. 1g protain = 4 calories, 1g carbs = 4 caliroes, 1g fat = 9 calories\n",
    "2. წონის დასაგდებად ყველაზე მნიშვნელოვანია კალორია და პროტეინი. ცხიმის მაგივრად იყენებენ კარბ.-ს\n",
    "3. ერთი ნუტრიოტის შესავსებად შესაძლოა მეორეს გამოყენებაც ! \n",
    "4. უმეტესად, ნებისმიერ საჭმელში ნუტრიოტი კავშირში იქნება კარბთან, ცხიმთან ან პროტეინთან.\n",
    "5. საჭმელები ბევრი შაქრით შეიცავენ ბევრ კალორიასაც.\n",
    "\n",
    "Vitamin A – vital for skin and eyes\n",
    "Vitamin C – for bone and muscle structure, as well as immune support\n",
    "\n",
    "1?. პირდაპირ ვერ ვიტყვით იმას, რომ 1 კვირიანი შუალედებია იმ გრაფიკზე, რომელ დღეს რამდენმა დაპოსტა. კარგი დაკვირებაა საჭირო კარგ მონაკვეთზე. შესაძლოა უფრო ღრმა რამ იყოს ჩამალული )\n",
    "\n",
    "ძააააან მაგარ გამოთქმები:\n",
    "1.Eating fat will make you fat is about as scientifically logical as saying that eating tomatoes will turn you red,” writes Dr. Richard K. Bernstein, author of Dr. Bernstein’s"
   ]
  },
  {
   "cell_type": "code",
   "execution_count": 1,
   "metadata": {},
   "outputs": [],
   "source": [
    "import pandas as pd\n",
    "import numpy as np\n",
    "from pandas import DataFrame\n",
    "import json\n",
    "import csv\n",
    "import matplotlib.pyplot as plt"
   ]
  },
  {
   "cell_type": "code",
   "execution_count": 2,
   "metadata": {},
   "outputs": [],
   "source": [
    "# import dataset as pandas.DataFrame\n",
    "data = pd.read_csv('a.tsv', sep='\\t', header=0, names=['Person', 'Date', 'Input', 'Result'])"
   ]
  },
  {
   "cell_type": "code",
   "execution_count": 53,
   "metadata": {},
   "outputs": [
    {
     "data": {
      "text/html": [
       "<div>\n",
       "<style scoped>\n",
       "    .dataframe tbody tr th:only-of-type {\n",
       "        vertical-align: middle;\n",
       "    }\n",
       "\n",
       "    .dataframe tbody tr th {\n",
       "        vertical-align: top;\n",
       "    }\n",
       "\n",
       "    .dataframe thead th {\n",
       "        text-align: right;\n",
       "    }\n",
       "</style>\n",
       "<table border=\"1\" class=\"dataframe\">\n",
       "  <thead>\n",
       "    <tr style=\"text-align: right;\">\n",
       "      <th></th>\n",
       "      <th>Person</th>\n",
       "      <th>Date</th>\n",
       "      <th>Input</th>\n",
       "      <th>Result</th>\n",
       "    </tr>\n",
       "  </thead>\n",
       "  <tbody>\n",
       "    <tr>\n",
       "      <th>0</th>\n",
       "      <td>1</td>\n",
       "      <td>2014-09-15</td>\n",
       "      <td>[{\"meal\": \"MY food\", \"dishes\": [{\"nutritions\":...</td>\n",
       "      <td>{\"total\": [{\"name\": \"Calories\", \"value\": 2430}...</td>\n",
       "    </tr>\n",
       "    <tr>\n",
       "      <th>1</th>\n",
       "      <td>1</td>\n",
       "      <td>2014-09-16</td>\n",
       "      <td>[{\"meal\": \"MY food\", \"dishes\": [{\"nutritions\":...</td>\n",
       "      <td>{\"total\": [{\"name\": \"Calories\", \"value\": 1862}...</td>\n",
       "    </tr>\n",
       "    <tr>\n",
       "      <th>2</th>\n",
       "      <td>1</td>\n",
       "      <td>2014-09-17</td>\n",
       "      <td>[{\"meal\": \"MY food\", \"dishes\": [{\"nutritions\":...</td>\n",
       "      <td>{\"total\": [{\"name\": \"Calories\", \"value\": 2251}...</td>\n",
       "    </tr>\n",
       "    <tr>\n",
       "      <th>3</th>\n",
       "      <td>1</td>\n",
       "      <td>2014-09-18</td>\n",
       "      <td>[{\"meal\": \"MY food\", \"dishes\": [{\"nutritions\":...</td>\n",
       "      <td>{\"total\": [{\"name\": \"Calories\", \"value\": 2001}...</td>\n",
       "    </tr>\n",
       "    <tr>\n",
       "      <th>4</th>\n",
       "      <td>1</td>\n",
       "      <td>2014-09-19</td>\n",
       "      <td>[{\"meal\": \"MY food\", \"dishes\": [{\"nutritions\":...</td>\n",
       "      <td>{\"total\": [{\"name\": \"Calories\", \"value\": 2158}...</td>\n",
       "    </tr>\n",
       "  </tbody>\n",
       "</table>\n",
       "</div>"
      ],
      "text/plain": [
       "   Person        Date                                              Input  \\\n",
       "0       1  2014-09-15  [{\"meal\": \"MY food\", \"dishes\": [{\"nutritions\":...   \n",
       "1       1  2014-09-16  [{\"meal\": \"MY food\", \"dishes\": [{\"nutritions\":...   \n",
       "2       1  2014-09-17  [{\"meal\": \"MY food\", \"dishes\": [{\"nutritions\":...   \n",
       "3       1  2014-09-18  [{\"meal\": \"MY food\", \"dishes\": [{\"nutritions\":...   \n",
       "4       1  2014-09-19  [{\"meal\": \"MY food\", \"dishes\": [{\"nutritions\":...   \n",
       "\n",
       "                                              Result  \n",
       "0  {\"total\": [{\"name\": \"Calories\", \"value\": 2430}...  \n",
       "1  {\"total\": [{\"name\": \"Calories\", \"value\": 1862}...  \n",
       "2  {\"total\": [{\"name\": \"Calories\", \"value\": 2251}...  \n",
       "3  {\"total\": [{\"name\": \"Calories\", \"value\": 2001}...  \n",
       "4  {\"total\": [{\"name\": \"Calories\", \"value\": 2158}...  "
      ]
     },
     "execution_count": 53,
     "metadata": {},
     "output_type": "execute_result"
    }
   ],
   "source": [
    "data.head(5)"
   ]
  },
  {
   "cell_type": "code",
   "execution_count": 3,
   "metadata": {},
   "outputs": [],
   "source": [
    "def get_real_total(data, row):\n",
    "    value = get_value(data, row, 2, True)\n",
    "    default = default_nutrition()\n",
    "    for j in range(len(value)):\n",
    "        val = value[j]['dishes']\n",
    "        for i in range(len(val)):\n",
    "            nutrs = val[i]['nutritions']\n",
    "            for k in nutrs:\n",
    "                merge_nutritions(default, k['name'], to_int(k['value']))\n",
    "    return default"
   ]
  },
  {
   "cell_type": "code",
   "execution_count": 4,
   "metadata": {},
   "outputs": [],
   "source": [
    "def get_meals(data, row):\n",
    "    meals = set()\n",
    "    value = get_value(data, row, 2, True)\n",
    "    for i in range(len(value)):\n",
    "        meals.add(value[i]['meal'])\n",
    "    return meals"
   ]
  },
  {
   "cell_type": "code",
   "execution_count": 5,
   "metadata": {},
   "outputs": [],
   "source": [
    "def is_missmatched(data, row):\n",
    "    default = get_real_total(data, row)\n",
    "    total = get_value(data, row, 3, True)['total']\n",
    "    total_default = default_nutrition()\n",
    "    for total_nutr in total:\n",
    "        merge_nutritions(total_default, total_nutr['name'], total_nutr['value'])\n",
    "    for key in default:\n",
    "        if default[key] - total_default[key] != 0:\n",
    "            return True\n",
    "    return False"
   ]
  },
  {
   "cell_type": "code",
   "execution_count": 6,
   "metadata": {},
   "outputs": [],
   "source": [
    "def is_negative(data, row):\n",
    "    value = get_value(data, row, 2, True)\n",
    "    for j in range(len(value)):\n",
    "        val = value[j]['dishes']\n",
    "        for i in range(len(val)):\n",
    "            nutrs = val[i]['nutritions']\n",
    "            for k in nutrs:\n",
    "                if to_int(k['value']) < 0:\n",
    "                    return True\n",
    "    return False"
   ]
  },
  {
   "cell_type": "code",
   "execution_count": 29,
   "metadata": {},
   "outputs": [],
   "source": [
    "def get_nutritions_sum(data, row, nutrition):\n",
    "    res = 0\n",
    "    cnt = 0\n",
    "    value = get_value(data, row, 2, True)\n",
    "    for j in range(len(value)):\n",
    "        val = value[j]['dishes']\n",
    "        for i in range(len(val)):\n",
    "            nutrs = val[i]['nutritions']\n",
    "            for nutr in nutrs:\n",
    "                if nutr['name'] == nutrition:\n",
    "                    res += to_int(nutr['value'])\n",
    "                    cnt += 1\n",
    "    return res, cnt"
   ]
  },
  {
   "cell_type": "code",
   "execution_count": 8,
   "metadata": {},
   "outputs": [],
   "source": [
    "def check_proportions(data, row):\n",
    "    calories = get_nutritions_sum(data, row, 'Calories')[0]\n",
    "    proteins = get_nutritions_sum(data, row, 'Protein')[0]\n",
    "    carbs = get_nutritions_sum(data, row, 'Carbs')[0]\n",
    "    fat = get_nutritions_sum(data, row, 'Fat')[0]\n",
    "    return abs(calories - 4 * proteins - 4 * carbs - 9 * fat) "
   ]
  },
  {
   "cell_type": "code",
   "execution_count": 9,
   "metadata": {},
   "outputs": [],
   "source": [
    "def to_int(string):\n",
    "    curr = \"\"\n",
    "    for dig in string:\n",
    "        if dig.isdigit() or dig == '-':\n",
    "            curr += dig\n",
    "    if len(curr) == 0:\n",
    "        return -1\n",
    "    return int(curr)"
   ]
  },
  {
   "cell_type": "code",
   "execution_count": 10,
   "metadata": {},
   "outputs": [],
   "source": [
    "def merge_nutritions(default, key, value):\n",
    "    default[key] += value"
   ]
  },
  {
   "cell_type": "code",
   "execution_count": 11,
   "metadata": {},
   "outputs": [],
   "source": [
    "def default_nutrition():\n",
    "    return {'Protein': 0,\n",
    "     'Calories': 0,\n",
    "     'Sodium': 0,\n",
    "     'Sugar': 0,\n",
    "     'Fat': 0,\n",
    "     'Carbs': 0,\n",
    "     'Fiber': 0,\n",
    "     'Potass.': 0,\n",
    "     'Iron': 0,\n",
    "     'Calcium': 0,\n",
    "     'Sat Fat': 0,\n",
    "     'Chol': 0,\n",
    "     'Vit A': 0,\n",
    "     'Vit C': 0,\n",
    "     'Trn Fat': 0,\n",
    "     'Mon Fat': 0,\n",
    "     'Ply Fat': 0}"
   ]
  },
  {
   "cell_type": "code",
   "execution_count": 38,
   "metadata": {},
   "outputs": [],
   "source": [
    "def get_total_nutrition(data,row, nutrition):\n",
    "    value = get_value(data, row, 3, True)['total']\n",
    "    for nutr in value:\n",
    "        if nutr['name'] == nutrition:\n",
    "            return nutr['value']\n",
    "    return 0"
   ]
  },
  {
   "cell_type": "code",
   "execution_count": 39,
   "metadata": {},
   "outputs": [],
   "source": [
    "def get_goal_nutrition(data,row, nutrition):\n",
    "    value = get_value(data, row, 3, True)['goal']\n",
    "    for nutr in value:\n",
    "        if nutr['name'] == nutrition:\n",
    "            return nutr['value']\n",
    "    return 0"
   ]
  },
  {
   "cell_type": "code",
   "execution_count": 14,
   "metadata": {},
   "outputs": [],
   "source": [
    "def get_value(data, row, col, jsn):\n",
    "    if jsn:\n",
    "        return json.loads(data.iloc[row, col])\n",
    "    else:\n",
    "        return data.iloc[row, col]"
   ]
  },
  {
   "cell_type": "code",
   "execution_count": 15,
   "metadata": {},
   "outputs": [],
   "source": [
    "def num_days_for_person(data, person):\n",
    "    mask = data.Person == person\n",
    "    return data.Person.loc[mask].shape[0]"
   ]
  },
  {
   "cell_type": "code",
   "execution_count": 16,
   "metadata": {},
   "outputs": [],
   "source": [
    "def num_persons_for_date(data, date):\n",
    "    mask = data.Date == date\n",
    "    return data.Date.loc[mask].shape[0]"
   ]
  },
  {
   "cell_type": "code",
   "execution_count": 17,
   "metadata": {},
   "outputs": [],
   "source": [
    "def get_nutritions(data, row):\n",
    "    val = get_value(data, row, 2, True)\n",
    "    nutritions = set()\n",
    "    for j in range(len(val)):\n",
    "        value = val[j]['dishes']\n",
    "        for i in range(len(value)):\n",
    "            nutrs = value[i]['nutritions']\n",
    "            for j in range(len(nutrs)):\n",
    "                nutritions.add(nutrs[j]['name'])\n",
    "    return nutritions"
   ]
  },
  {
   "cell_type": "code",
   "execution_count": 22,
   "metadata": {},
   "outputs": [],
   "source": [
    "def get_person_nutritions(data, person):\n",
    "    mask = data.Person == person\n",
    "    df = data.loc[mask, ['Person']]\n",
    "    person_nutritions = set()\n",
    "    for row in df.index:\n",
    "        person_nutritions = set.union(person_nutritions, get_nutritions(data, row))\n",
    "    return person_nutritions"
   ]
  },
  {
   "cell_type": "code",
   "execution_count": 30,
   "metadata": {},
   "outputs": [],
   "source": [
    "def get_daily_average_nutritions(data, day, anomalies):\n",
    "    mask = data.Date == day\n",
    "    df = data.loc[mask, ['Input']]\n",
    "    nutritions_sum = default_nutrition()\n",
    "    nutritions_cnt = default_nutrition()\n",
    "    for row in df.index:\n",
    "        if row in anomalies:\n",
    "            continue\n",
    "        for nutrition in nutritions_sum:\n",
    "            sm, cnt = get_nutritions_sum(data, row, nutrition)\n",
    "            nutritions_sum[nutrition] += sm\n",
    "            nutritions_cnt[nutrition] += cnt\n",
    "    for nutrition in nutritions_sum:\n",
    "        if nutritions_sum[nutrition] != 0:\n",
    "            nutritions_sum[nutrition] /= nutritions_cnt[nutrition]\n",
    "    return nutritions_sum"
   ]
  },
  {
   "cell_type": "code",
   "execution_count": 35,
   "metadata": {},
   "outputs": [],
   "source": [
    "def get_daily_average_difference(data, day, anomalies):\n",
    "    mask = data.Date == day\n",
    "    df = data.loc[mask, ['Result']]\n",
    "    cnt = df.shape[0]\n",
    "    nutritions_sum = default_nutrition()\n",
    "    for row in df.index:\n",
    "        if row in anomalies:\n",
    "            continue\n",
    "        for nutrition in nutritions_sum:\n",
    "            nutritions_sum[nutrition] += abs(get_goal_nutrition(data, row, nutrition) - get_total_nutrition(data, row, nutrition))\n",
    "    for nutrition in nutritions_sum:\n",
    "        nutritions_sum[nutrition] /= cnt\n",
    "    return nutritions_sum"
   ]
  },
  {
   "cell_type": "code",
   "execution_count": 19,
   "metadata": {},
   "outputs": [],
   "source": [
    "def get_range(num):\n",
    "    if num <= 50 and num != 0:\n",
    "        return 0\n",
    "    elif num <= 100:\n",
    "        return 1\n",
    "    elif num <= 150:\n",
    "        return 2\n",
    "    else:\n",
    "        return 3"
   ]
  },
  {
   "cell_type": "code",
   "execution_count": 20,
   "metadata": {},
   "outputs": [],
   "source": [
    "def increase_y_by_range(y, num):\n",
    "    y[get_range(num)]+=1"
   ]
  },
  {
   "cell_type": "code",
   "execution_count": 72,
   "metadata": {},
   "outputs": [
    {
     "data": {
      "text/plain": [
       "Person      9896\n",
       "Date         208\n",
       "Input     578774\n",
       "Result    581728\n",
       "dtype: int64"
      ]
     },
     "execution_count": 72,
     "metadata": {},
     "output_type": "execute_result"
    }
   ],
   "source": [
    "data.nunique(axis=0, dropna=False)"
   ]
  },
  {
   "cell_type": "code",
   "execution_count": 26,
   "metadata": {},
   "outputs": [],
   "source": [
    "y = [0,0,0,0]\n",
    "unique_people = data.iloc[:, 0].unique()\n",
    "for person in unique_people:\n",
    "    increase_y_by_range(y, data.loc[data.Person == person, ['Person']].shape[0])"
   ]
  },
  {
   "cell_type": "code",
   "execution_count": 74,
   "metadata": {},
   "outputs": [
    {
     "data": {
      "image/png": "[encoded data removed]",
      "text/plain": [
       "<Figure size 432x288 with 1 Axes>"
      ]
     },
     "metadata": {
      "needs_background": "light"
     },
     "output_type": "display_data"
    }
   ],
   "source": [
    "fig = plt.figure()\n",
    "ax = fig.add_axes([0,0,1,1])\n",
    "ranges = ['0-50', '51-100', '101-150', '151-200']\n",
    "ax.bar(ranges,y)\n",
    "plt.show()"
   ]
  },
  {
   "cell_type": "code",
   "execution_count": 75,
   "metadata": {},
   "outputs": [],
   "source": [
    "meals_distribution ={}\n",
    "p_range = {}\n",
    "p_meals = {}\n",
    "for person in unique_people:\n",
    "    mask = data.Person == person\n",
    "    person_meals = set()\n",
    "    person_data = data.loc[mask, ['Person']]\n",
    "    for i in person_data.index:\n",
    "        curr = get_meals(data, i)\n",
    "        person_meals = set.union(person_meals, curr)\n",
    "    n = len(person_meals)\n",
    "    \n",
    "    # რომელი საკვები რამდენჯერ გვხვდება\n",
    "    if n in meals_distribution:\n",
    "        meals_distribution[n] += 1\n",
    "    else:\n",
    "        meals_distribution[n] = 1\n",
    "        \n",
    "    # კონკრეტულმა ადამიანმა რამდენი განსხვავებული meal შეიყვანა და თითოეულმა ადამიანმა რამდენი მონაცემი შეიყვანა\n",
    "    p_meals[person] = len(person_meals)\n",
    "    p_range[person] = get_range(person_data.shape[0])"
   ]
  },
  {
   "cell_type": "code",
   "execution_count": 76,
   "metadata": {},
   "outputs": [
    {
     "data": {
      "image/png": "[encoded data removed]",
      "text/plain": [
       "<Figure size 576x288 with 1 Axes>"
      ]
     },
     "metadata": {
      "needs_background": "light"
     },
     "output_type": "display_data"
    }
   ],
   "source": [
    "fig = plt.figure(figsize=(8,4))\n",
    "ax = fig.add_axes([0,0,1,1])\n",
    "ax.bar(list(meals_distribution.keys()),list(meals_distribution.values()))\n",
    "plt.show()"
   ]
  },
  {
   "cell_type": "code",
   "execution_count": 77,
   "metadata": {},
   "outputs": [
    {
     "data": {
      "text/html": [
       "<div>\n",
       "<style scoped>\n",
       "    .dataframe tbody tr th:only-of-type {\n",
       "        vertical-align: middle;\n",
       "    }\n",
       "\n",
       "    .dataframe tbody tr th {\n",
       "        vertical-align: top;\n",
       "    }\n",
       "\n",
       "    .dataframe thead th {\n",
       "        text-align: right;\n",
       "    }\n",
       "</style>\n",
       "<table border=\"1\" class=\"dataframe\">\n",
       "  <thead>\n",
       "    <tr style=\"text-align: right;\">\n",
       "      <th></th>\n",
       "      <th>persons</th>\n",
       "      <th>meals_num</th>\n",
       "      <th>range</th>\n",
       "    </tr>\n",
       "  </thead>\n",
       "  <tbody>\n",
       "    <tr>\n",
       "      <th>persons</th>\n",
       "      <td>1.000000</td>\n",
       "      <td>0.005707</td>\n",
       "      <td>-0.001040</td>\n",
       "    </tr>\n",
       "    <tr>\n",
       "      <th>meals_num</th>\n",
       "      <td>0.005707</td>\n",
       "      <td>1.000000</td>\n",
       "      <td>0.222537</td>\n",
       "    </tr>\n",
       "    <tr>\n",
       "      <th>range</th>\n",
       "      <td>-0.001040</td>\n",
       "      <td>0.222537</td>\n",
       "      <td>1.000000</td>\n",
       "    </tr>\n",
       "  </tbody>\n",
       "</table>\n",
       "</div>"
      ],
      "text/plain": [
       "            persons  meals_num     range\n",
       "persons    1.000000   0.005707 -0.001040\n",
       "meals_num  0.005707   1.000000  0.222537\n",
       "range     -0.001040   0.222537  1.000000"
      ]
     },
     "execution_count": 77,
     "metadata": {},
     "output_type": "execute_result"
    }
   ],
   "source": [
    "pp_meals = []\n",
    "pp_range = []\n",
    "for person in unique_people:\n",
    "    pp_meals.append(p_meals[person])\n",
    "    pp_range.append(p_range[person])\n",
    "pre_data = {'persons' : unique_people, 'meals_num' : pp_meals, 'range' : pp_range}\n",
    "corr_data = pd.DataFrame(data=pre_data)\n",
    "corr_data.corr()"
   ]
  },
  {
   "cell_type": "code",
   "execution_count": 32,
   "metadata": {},
   "outputs": [
    {
     "name": "stdout",
     "output_type": "stream",
     "text": [
      "587186\n"
     ]
    }
   ],
   "source": [
    "unique_dates = data.iloc[:, 1].unique()\n",
    "unique_dates.sort()\n",
    "date_people = {}\n",
    "sm = 0\n",
    "for date in unique_dates:\n",
    "    mask = data.Date == date\n",
    "    sz = data.loc[mask, :].shape[0]\n",
    "    date_people[date] = sz\n",
    "    sm += sz\n",
    "print(sm)"
   ]
  },
  {
   "cell_type": "code",
   "execution_count": 79,
   "metadata": {},
   "outputs": [
    {
     "data": {
      "image/png": "[encoded data removed]",
      "text/plain": [
       "<Figure size 432x288 with 1 Axes>"
      ]
     },
     "metadata": {
      "needs_background": "light"
     },
     "output_type": "display_data"
    }
   ],
   "source": [
    "bla = [i for i in unique_dates]\n",
    "blu = [date_people[i] for i in unique_dates]\n",
    "plt.plot([i for i in range(1, 209)], blu, color='purple', label='Traffic')\n",
    "plt.ylabel('Num Users')\n",
    "plt.xlabel('Day')\n",
    "plt.legend()\n",
    "plt.show()"
   ]
  },
  {
   "cell_type": "code",
   "execution_count": 80,
   "metadata": {},
   "outputs": [
    {
     "data": {
      "text/plain": [
       "0"
      ]
     },
     "execution_count": 80,
     "metadata": {},
     "output_type": "execute_result"
    }
   ],
   "source": [
    "dates = []\n",
    "for date in unique_dates:\n",
    "    dates.append(int(date[len(date) - 2:]))\n",
    "missing = 0\n",
    "for i in range(1, len(dates)):\n",
    "    if dates[i - 1] > dates[i]:\n",
    "        if dates[i] != 1:\n",
    "            missing += 1\n",
    "missing"
   ]
  },
  {
   "cell_type": "code",
   "execution_count": 23,
   "metadata": {},
   "outputs": [],
   "source": [
    "nutritions = {}\n",
    "count_nutritions = {}\n",
    "missmatched = []\n",
    "negatives = []\n",
    "for i in data.index:\n",
    "    curr = get_nutritions(data, i)\n",
    "    if is_missmatched(data, i):\n",
    "        missmatched.append(i)\n",
    "    if is_negative(data, i):\n",
    "        negatives.append(i)\n",
    "        \n",
    "    for nutrition in curr:\n",
    "        if nutrition not in count_nutritions:\n",
    "            count_nutritions[nutrition]=1\n",
    "        else:\n",
    "            count_nutritions[nutrition]+=1\n",
    "    nutritions = set.union(curr, nutritions)"
   ]
  },
  {
   "cell_type": "code",
   "execution_count": 82,
   "metadata": {},
   "outputs": [
    {
     "data": {
      "image/png": "[encoded data removed]",
      "text/plain": [
       "<Figure size 1080x504 with 1 Axes>"
      ]
     },
     "metadata": {
      "needs_background": "light"
     },
     "output_type": "display_data"
    }
   ],
   "source": [
    "fig = plt.figure(figsize=(15,7))\n",
    "ax = fig.add_axes([0,0,1,1])\n",
    "ax.bar(list(count_nutritions.keys()),list(count_nutritions.values()))\n",
    "plt.show()"
   ]
  },
  {
   "cell_type": "code",
   "execution_count": 24,
   "metadata": {},
   "outputs": [
    {
     "data": {
      "text/plain": [
       "{'Carbs': 573048,\n",
       " 'Fat': 569334,\n",
       " 'Sodium': 390527,\n",
       " 'Calories': 587186,\n",
       " 'Sugar': 368917,\n",
       " 'Protein': 579872,\n",
       " 'Fiber': 242840,\n",
       " 'Potass.': 19416,\n",
       " 'Iron': 29016,\n",
       " 'Calcium': 22925,\n",
       " 'Sat Fat': 16576,\n",
       " 'Chol': 18252,\n",
       " 'Vit A': 774,\n",
       " 'Vit C': 2486,\n",
       " 'Trn Fat': 1828,\n",
       " 'Mon Fat': 428,\n",
       " 'Ply Fat': 761}"
      ]
     },
     "execution_count": 24,
     "metadata": {},
     "output_type": "execute_result"
    }
   ],
   "source": [
    "count_nutritions"
   ]
  },
  {
   "cell_type": "code",
   "execution_count": 27,
   "metadata": {},
   "outputs": [],
   "source": [
    "nutritions_distribution = {}\n",
    "for person in unique_people:\n",
    "    person_nutritions = get_person_nutritions(data, person)\n",
    "    for nutrition in person_nutritions:\n",
    "        if nutrition not in nutritions_distribution:\n",
    "            nutritions_distribution[nutrition] = 1\n",
    "        else:\n",
    "            nutritions_distribution[nutrition] += 1"
   ]
  },
  {
   "cell_type": "code",
   "execution_count": 85,
   "metadata": {},
   "outputs": [
    {
     "data": {
      "image/png": "[encoded data removed]",
      "text/plain": [
       "<Figure size 1080x504 with 1 Axes>"
      ]
     },
     "metadata": {
      "needs_background": "light"
     },
     "output_type": "display_data"
    }
   ],
   "source": [
    "fig = plt.figure(figsize=(15,7))\n",
    "ax = fig.add_axes([0,0,1,1])\n",
    "ax.bar(list(nutritions_distribution.keys()),list(nutritions_distribution.values()))\n",
    "plt.show()"
   ]
  },
  {
   "cell_type": "code",
   "execution_count": 86,
   "metadata": {},
   "outputs": [
    {
     "data": {
      "text/plain": [
       "{'Carbs': 9684,\n",
       " 'Sodium': 6676,\n",
       " 'Protein': 9760,\n",
       " 'Sugar': 6543,\n",
       " 'Fat': 9569,\n",
       " 'Calories': 9896,\n",
       " 'Fiber': 3629,\n",
       " 'Potass.': 287,\n",
       " 'Iron': 474,\n",
       " 'Calcium': 372,\n",
       " 'Sat Fat': 296,\n",
       " 'Chol': 310,\n",
       " 'Vit C': 49,\n",
       " 'Vit A': 20,\n",
       " 'Trn Fat': 48,\n",
       " 'Mon Fat': 12,\n",
       " 'Ply Fat': 14}"
      ]
     },
     "execution_count": 86,
     "metadata": {},
     "output_type": "execute_result"
    }
   ],
   "source": [
    "nutritions_distribution"
   ]
  },
  {
   "cell_type": "code",
   "execution_count": 87,
   "metadata": {},
   "outputs": [
    {
     "data": {
      "text/plain": [
       "918"
      ]
     },
     "execution_count": 87,
     "metadata": {},
     "output_type": "execute_result"
    }
   ],
   "source": [
    "len(missmatched)"
   ]
  },
  {
   "cell_type": "code",
   "execution_count": 88,
   "metadata": {},
   "outputs": [
    {
     "data": {
      "text/plain": [
       "1399"
      ]
     },
     "execution_count": 88,
     "metadata": {},
     "output_type": "execute_result"
    }
   ],
   "source": [
    "len(negatives)"
   ]
  },
  {
   "cell_type": "code",
   "execution_count": 28,
   "metadata": {},
   "outputs": [
    {
     "data": {
      "text/plain": [
       "877"
      ]
     },
     "execution_count": 28,
     "metadata": {},
     "output_type": "execute_result"
    }
   ],
   "source": [
    "duplicated = []\n",
    "anomalies = []\n",
    "for i in missmatched:\n",
    "    nutrs = get_nutritions(data, i)\n",
    "    curr = 0\n",
    "    for nutr in nutrs:\n",
    "        if get_total_nutrition(data, i, nutr) != None:\n",
    "            if (get_total_nutrition(data, i, nutr) * 2 == get_nutritions_sum(data, i, nutr)[0]): \n",
    "                curr = 1\n",
    "            elif get_total_nutrition(data,i, nutr) != get_nutritions_sum(data, i, nutr)[0]:\n",
    "                curr = 0\n",
    "                break\n",
    "        else:\n",
    "            anomalies.append(i)\n",
    "            curr = 0\n",
    "            break\n",
    "    if curr == 1:\n",
    "        duplicated.append(i)\n",
    "len(duplicated)"
   ]
  },
  {
   "cell_type": "code",
   "execution_count": 90,
   "metadata": {},
   "outputs": [
    {
     "data": {
      "text/plain": [
       "41"
      ]
     },
     "execution_count": 90,
     "metadata": {},
     "output_type": "execute_result"
    }
   ],
   "source": [
    "len(anomalies)"
   ]
  },
  {
   "cell_type": "code",
   "execution_count": 21,
   "metadata": {},
   "outputs": [],
   "source": [
    "def get_range2(num):\n",
    "    if num <= 50 and num != 0:\n",
    "        return 0\n",
    "    elif num <= 100:\n",
    "        return 1\n",
    "    elif num <= 150:\n",
    "        return 2\n",
    "    elif num <= 200:\n",
    "        return 3\n",
    "    elif num <= 250:\n",
    "        return 4\n",
    "    elif num <= 500:\n",
    "        return 5\n",
    "    else:\n",
    "        return 6"
   ]
  },
  {
   "cell_type": "code",
   "execution_count": 92,
   "metadata": {},
   "outputs": [],
   "source": [
    "nutritions_dif = [0, 0, 0, 0, 0, 0, 0]\n",
    "for row in data.index:\n",
    "    rang = get_range2(check_proportions(data, row))\n",
    "    nutritions_dif[rang] += 1"
   ]
  },
  {
   "cell_type": "code",
   "execution_count": 93,
   "metadata": {},
   "outputs": [
    {
     "data": {
      "image/png": "[encoded data removed]",
      "text/plain": [
       "<Figure size 432x288 with 1 Axes>"
      ]
     },
     "metadata": {
      "needs_background": "light"
     },
     "output_type": "display_data"
    }
   ],
   "source": [
    "fig = plt.figure()\n",
    "ax = fig.add_axes([0,0,1,1])\n",
    "ranges = ['0-50', '51-100', '101-150', '150-200', '200-250', '250-500', '500+']\n",
    "ax.bar(ranges, nutritions_dif)\n",
    "plt.show()"
   ]
  },
  {
   "cell_type": "code",
   "execution_count": 31,
   "metadata": {},
   "outputs": [],
   "source": [
    "# Daysta\n",
    "# unique users, unique meals, average nutritions difference, average nutritions sum"
   ]
  },
  {
   "cell_type": "code",
   "execution_count": 34,
   "metadata": {
    "scrolled": false
   },
   "outputs": [
    {
     "name": "stdout",
     "output_type": "stream",
     "text": [
      "[{'Protein': 6.245841035120148, 'Calories': 136.23105360443623, 'Sodium': 215.7216117216117, 'Sugar': 6.989051094890511, 'Fat': 5.641176470588236, 'Carbs': 13.127118644067796, 'Fiber': 1.3450134770889488, 'Potass.': 127.0909090909091, 'Iron': 3.8947368421052633, 'Calcium': 3.6222222222222222, 'Sat Fat': 2.625, 'Chol': 3.75, 'Vit A': 0, 'Vit C': 0, 'Trn Fat': 0, 'Mon Fat': 0, 'Ply Fat': 0}, {'Protein': 6.949937027707809, 'Calories': 126.00124378109453, 'Sodium': 181.6229674796748, 'Sugar': 5.273216031280548, 'Fat': 4.787349014621742, 'Carbs': 12.824838709677419, 'Fiber': 1.381948986265533, 'Potass.': 109.33333333333333, 'Iron': 4.197452229299363, 'Calcium': 3.882758620689655, 'Sat Fat': 2.3707865168539324, 'Chol': 28.495495495495497, 'Vit A': 2.5714285714285716, 'Vit C': 4.909090909090909, 'Trn Fat': 0, 'Mon Fat': 0, 'Ply Fat': 0.25}, {'Protein': 7.175121163166398, 'Calories': 128.07584, 'Sodium': 183.3759521218716, 'Sugar': 4.897581060216161, 'Fat': 4.616699539776463, 'Carbs': 13.330019880715707, 'Fiber': 1.5029860650298605, 'Potass.': 117.84057971014492, 'Iron': 3.494186046511628, 'Calcium': 6.530769230769231, 'Sat Fat': 1.5555555555555556, 'Chol': 33.839622641509436, 'Vit A': 15.5, 'Vit C': 14.35, 'Trn Fat': 0, 'Mon Fat': 0, 'Ply Fat': 0.16666666666666666}, {'Protein': 7.27998674618953, 'Calories': 132.67468688200395, 'Sodium': 185.93870601589103, 'Sugar': 4.899328859060403, 'Fat': 4.967643051771117, 'Carbs': 13.420027341079972, 'Fiber': 1.5299727520435968, 'Potass.': 104.60204081632654, 'Iron': 4.527363184079602, 'Calcium': 6.138686131386861, 'Sat Fat': 1.5104166666666667, 'Chol': 43.375, 'Vit A': 8.666666666666666, 'Vit C': 12.727272727272727, 'Trn Fat': 0, 'Mon Fat': 0, 'Ply Fat': 0.2}, {'Protein': 6.989593188268685, 'Calories': 127.45809792843691, 'Sodium': 183.88836477987422, 'Sugar': 4.790322580645161, 'Fat': 4.833858840650012, 'Carbs': 13.187240283549254, 'Fiber': 1.6432584269662922, 'Potass.': 106.56382978723404, 'Iron': 4.4358108108108105, 'Calcium': 6.964824120603015, 'Sat Fat': 1.3675213675213675, 'Chol': 40.705882352941174, 'Vit A': 9.571428571428571, 'Vit C': 8.466666666666667, 'Trn Fat': 0, 'Mon Fat': 0.5454545454545454, 'Ply Fat': 0}, {'Protein': 6.944834710743802, 'Calories': 134.21263071560386, 'Sodium': 196.24303457536087, 'Sugar': 4.9504950495049505, 'Fat': 5.187208809826345, 'Carbs': 13.718366483283962, 'Fiber': 1.484251968503937, 'Potass.': 65.47428571428571, 'Iron': 6.057926829268292, 'Calcium': 8.623188405797102, 'Sat Fat': 1.572192513368984, 'Chol': 20.18954248366013, 'Vit A': 12.857142857142858, 'Vit C': 16.130434782608695, 'Trn Fat': 0, 'Mon Fat': 0, 'Ply Fat': 1.8}, {'Protein': 6.9426862215360865, 'Calories': 144.9181208053691, 'Sodium': 210.93252487562188, 'Sugar': 4.957107075767063, 'Fat': 5.675154167495524, 'Carbs': 14.639801980198019, 'Fiber': 1.476984126984127, 'Potass.': 88.06145251396649, 'Iron': 4.0604534005037785, 'Calcium': 5.746724890829694, 'Sat Fat': 1.9195979899497488, 'Chol': 22.833333333333332, 'Vit A': 28.151515151515152, 'Vit C': 9.131578947368421, 'Trn Fat': 0, 'Mon Fat': 0, 'Ply Fat': 2.2}, {'Protein': 6.818443804034582, 'Calories': 139.18426444474798, 'Sodium': 196.6140193215008, 'Sugar': 4.896914285714286, 'Fat': 5.348293926093728, 'Carbs': 13.92867231638418, 'Fiber': 1.5721754284054603, 'Potass.': 111.3953488372093, 'Iron': 3.871900826446281, 'Calcium': 5.129716981132075, 'Sat Fat': 1.9730941704035874, 'Chol': 29.946428571428573, 'Vit A': 18.3125, 'Vit C': 11.944444444444445, 'Trn Fat': 0, 'Mon Fat': 0.3157894736842105, 'Ply Fat': 0.4772727272727273}, {'Protein': 6.866145319262015, 'Calories': 124.26329285768158, 'Sodium': 175.047261009667, 'Sugar': 4.741262389149713, 'Fat': 4.727308202606728, 'Carbs': 12.9712080277885, 'Fiber': 1.5385128376125374, 'Potass.': 96.66930693069307, 'Iron': 4.279955207166854, 'Calcium': 5.4541213063763605, 'Sat Fat': 1.6736842105263159, 'Chol': 17.629464285714285, 'Vit A': 36.0, 'Vit C': 11.99056603773585, 'Trn Fat': 0, 'Mon Fat': 0.32, 'Ply Fat': 0.6290322580645161}, {'Protein': 6.714413322273974, 'Calories': 123.7961763211382, 'Sodium': 175.24094407388404, 'Sugar': 4.743988528568277, 'Fat': 4.672999802774308, 'Carbs': 12.941096246265749, 'Fiber': 1.5166644177573876, 'Potass.': 104.01170568561874, 'Iron': 4.300900900900901, 'Calcium': 5.566568047337278, 'Sat Fat': 1.5078299776286352, 'Chol': 14.882583170254403, 'Vit A': 29.785714285714285, 'Vit C': 11.643478260869566, 'Trn Fat': 0, 'Mon Fat': 0.38, 'Ply Fat': 0.3230769230769231}, {'Protein': 6.587881987987592, 'Calories': 124.13863398007341, 'Sodium': 172.1363875170747, 'Sugar': 4.768069896743447, 'Fat': 4.618615363771847, 'Carbs': 13.000201436916672, 'Fiber': 1.5228104759222754, 'Potass.': 118.49766718506999, 'Iron': 4.227362204724409, 'Calcium': 5.432314410480349, 'Sat Fat': 1.6495098039215685, 'Chol': 15.996376811594203, 'Vit A': 16.805555555555557, 'Vit C': 13.686440677966102, 'Trn Fat': 0.021739130434782608, 'Mon Fat': 0.30612244897959184, 'Ply Fat': 0.30666666666666664}, {'Protein': 6.586587380244467, 'Calories': 123.39171535482177, 'Sodium': 169.9543757776856, 'Sugar': 4.6708117443868735, 'Fat': 4.647312117338357, 'Carbs': 12.900844730490748, 'Fiber': 1.5298507462686568, 'Potass.': 111.28470254957507, 'Iron': 4.691629955947136, 'Calcium': 6.021621621621621, 'Sat Fat': 1.8441247002398082, 'Chol': 14.969034608378871, 'Vit A': 6.466666666666667, 'Vit C': 14.294736842105262, 'Trn Fat': 0, 'Mon Fat': 0.3076923076923077, 'Ply Fat': 0.16216216216216217}, {'Protein': 6.641701828410689, 'Calories': 131.04915171402638, 'Sodium': 178.64246242263485, 'Sugar': 4.68576909243496, 'Fat': 4.873877756230697, 'Carbs': 13.406994207251662, 'Fiber': 1.4842011570983533, 'Potass.': 103.24182076813656, 'Iron': 4.801486199575372, 'Calcium': 6.336431226765799, 'Sat Fat': 1.478134110787172, 'Chol': 14.282744282744282, 'Vit A': 7.222222222222222, 'Vit C': 17.010526315789473, 'Trn Fat': 0, 'Mon Fat': 0.28, 'Ply Fat': 0.23376623376623376}, {'Protein': 6.89414017617771, 'Calories': 142.75731772219265, 'Sodium': 200.94261886980334, 'Sugar': 4.975287656903766, 'Fat': 5.456151272274531, 'Carbs': 14.245131640442436, 'Fiber': 1.4953821656050956, 'Potass.': 117.67109144542773, 'Iron': 5.126526082130965, 'Calcium': 5.8431372549019605, 'Sat Fat': 2.177142857142857, 'Chol': 18.908902691511386, 'Vit A': 1.8571428571428572, 'Vit C': 13.441176470588236, 'Trn Fat': 0, 'Mon Fat': 0.3191489361702128, 'Ply Fat': 0.3380281690140845}, {'Protein': 6.867569546120059, 'Calories': 138.577650554388, 'Sodium': 200.02058378881264, 'Sugar': 4.920086393088553, 'Fat': 5.47243623307652, 'Carbs': 14.085533184190902, 'Fiber': 1.4739042899179184, 'Potass.': 112.81962025316456, 'Iron': 5.40307328605201, 'Calcium': 6.447882736156352, 'Sat Fat': 1.860730593607306, 'Chol': 20.020576131687243, 'Vit A': 14.833333333333334, 'Vit C': 10.416666666666666, 'Trn Fat': 0.019230769230769232, 'Mon Fat': 0.3111111111111111, 'Ply Fat': 0.15873015873015872}, {'Protein': 6.606593813669198, 'Calories': 121.96315475917694, 'Sodium': 171.64411957233253, 'Sugar': 4.7457382953181275, 'Fat': 4.573513436924385, 'Carbs': 12.863229435200376, 'Fiber': 1.5389944576405383, 'Potass.': 108.66787878787879, 'Iron': 5.376895306859206, 'Calcium': 6.27872582480091, 'Sat Fat': 1.589540412044374, 'Chol': 17.416133162612034, 'Vit A': 8.842105263157896, 'Vit C': 13.237623762376238, 'Trn Fat': 0, 'Mon Fat': 0.27450980392156865, 'Ply Fat': 0.4461538461538462}, {'Protein': 6.643518309477582, 'Calories': 122.1188605108055, 'Sodium': 172.87804179788148, 'Sugar': 4.796964534613598, 'Fat': 4.556410961415086, 'Carbs': 12.691695991956491, 'Fiber': 1.5174878490422186, 'Potass.': 100.43824701195219, 'Iron': 5.029978586723769, 'Calcium': 5.9580712788259955, 'Sat Fat': 1.594679186228482, 'Chol': 14.757540603248259, 'Vit A': 7.111111111111111, 'Vit C': 14.73728813559322, 'Trn Fat': 0, 'Mon Fat': 0.2916666666666667, 'Ply Fat': 0.1746031746031746}, {'Protein': 6.759508189200349, 'Calories': 125.0743396568939, 'Sodium': 180.40013097576949, 'Sugar': 4.712238147739802, 'Fat': 4.682147701230064, 'Carbs': 12.885408461146378, 'Fiber': 1.5124235474006116, 'Potass.': 93.8864426419467, 'Iron': 5.074492099322799, 'Calcium': 5.3584070796460175, 'Sat Fat': 1.6402349486049927, 'Chol': 14.23889555822329, 'Vit A': 7.55, 'Vit C': 14.10204081632653, 'Trn Fat': 0.28378378378378377, 'Mon Fat': 0.28846153846153844, 'Ply Fat': 0.25}, {'Protein': 6.704276286050086, 'Calories': 124.58653975063682, 'Sodium': 176.18447566340288, 'Sugar': 4.687012495266944, 'Fat': 4.651215245811085, 'Carbs': 12.953264604810997, 'Fiber': 1.5857685009487665, 'Potass.': 104.05381727158948, 'Iron': 4.755045233124565, 'Calcium': 5.102449888641425, 'Sat Fat': 1.7615499254843516, 'Chol': 14.68903803131991, 'Vit A': 2.2, 'Vit C': 11.607843137254902, 'Trn Fat': 0, 'Mon Fat': 0.27450980392156865, 'Ply Fat': 0.12987012987012986}, {'Protein': 6.7301255230125525, 'Calories': 132.30084154844914, 'Sodium': 184.82845825716026, 'Sugar': 4.792608480448771, 'Fat': 4.959627021128856, 'Carbs': 13.682213868829756, 'Fiber': 1.5354602723023776, 'Potass.': 109.34411384217336, 'Iron': 5.8967065868263475, 'Calcium': 4.78429203539823, 'Sat Fat': 1.5047258979206048, 'Chol': 16.040431266846362, 'Vit A': 14.026315789473685, 'Vit C': 23.92452830188679, 'Trn Fat': 0, 'Mon Fat': 0.35185185185185186, 'Ply Fat': 0.3484848484848485}, {'Protein': 6.920710123618145, 'Calories': 144.27848169515286, 'Sodium': 197.55623879067383, 'Sugar': 4.942594296228151, 'Fat': 5.584074708515224, 'Carbs': 14.410186776035028, 'Fiber': 1.5010994097905335, 'Potass.': 95.95318595578674, 'Iron': 6.388888888888889, 'Calcium': 6.448954489544896, 'Sat Fat': 1.7770833333333333, 'Chol': 22.963800904977376, 'Vit A': 5.185185185185185, 'Vit C': 12.01086956521739, 'Trn Fat': 0.03225806451612903, 'Mon Fat': 0.4074074074074074, 'Ply Fat': 0.23880597014925373}, {'Protein': 6.86728280961183, 'Calories': 138.9515059769275, 'Sodium': 195.2143507407101, 'Sugar': 4.656763306704963, 'Fat': 5.488960342979635, 'Carbs': 14.020242914979757, 'Fiber': 1.4364957076821483, 'Potass.': 110.99253731343283, 'Iron': 5.367213114754098, 'Calcium': 5.716101694915254, 'Sat Fat': 1.7332155477031803, 'Chol': 23.46812080536913, 'Vit A': 5.631578947368421, 'Vit C': 11.623188405797102, 'Trn Fat': 0.029411764705882353, 'Mon Fat': 0.2857142857142857, 'Ply Fat': 0.4393939393939394}, {'Protein': 6.659173669467787, 'Calories': 123.38903520931522, 'Sodium': 176.59715956558063, 'Sugar': 4.686594524274141, 'Fat': 4.556872797180391, 'Carbs': 12.947389043242858, 'Fiber': 1.5610224586288417, 'Potass.': 115.84643510054845, 'Iron': 5.638783269961977, 'Calcium': 5.47233691164327, 'Sat Fat': 1.5151515151515151, 'Chol': 15.003468208092485, 'Vit A': 10.142857142857142, 'Vit C': 20.855172413793102, 'Trn Fat': 0.010869565217391304, 'Mon Fat': 0.2777777777777778, 'Ply Fat': 0.1791044776119403}, {'Protein': 6.566980543981102, 'Calories': 122.4044856167723, 'Sodium': 173.74435079373288, 'Sugar': 4.806154371196178, 'Fat': 4.5234375, 'Carbs': 12.843856257083806, 'Fiber': 1.520443281938326, 'Potass.': 102.52587017873941, 'Iron': 5.1319127346524605, 'Calcium': 5.5041825095057035, 'Sat Fat': 1.6189376443418013, 'Chol': 17.07497565725414, 'Vit A': 7.346153846153846, 'Vit C': 13.077464788732394, 'Trn Fat': 0.25675675675675674, 'Mon Fat': 0.2962962962962963, 'Ply Fat': 0.16176470588235295}, {'Protein': 6.534412955465587, 'Calories': 122.37914691943128, 'Sodium': 170.3287800777556, 'Sugar': 4.699895676364901, 'Fat': 4.581369248035915, 'Carbs': 12.88874897903621, 'Fiber': 1.5218671152228764, 'Potass.': 103.84313725490196, 'Iron': 4.962065331928345, 'Calcium': 5.534416086620263, 'Sat Fat': 1.5467546754675467, 'Chol': 13.953216374269006, 'Vit A': 6.0, 'Vit C': 29.06140350877193, 'Trn Fat': 0.022988505747126436, 'Mon Fat': 0.25, 'Ply Fat': 0.11842105263157894}, {'Protein': 6.834159908853294, 'Calories': 123.78739922364885, 'Sodium': 174.865551067513, 'Sugar': 4.735256633066852, 'Fat': 4.6676292722701636, 'Carbs': 12.89324522260449, 'Fiber': 1.510298769771529, 'Potass.': 99.09153543307086, 'Iron': 5.3058277462609595, 'Calcium': 6.210090361445783, 'Sat Fat': 1.4949944382647387, 'Chol': 15.83732057416268, 'Vit A': 17.170212765957448, 'Vit C': 10.48091603053435, 'Trn Fat': 0.023809523809523808, 'Mon Fat': 0.2727272727272727, 'Ply Fat': 0.22077922077922077}, {'Protein': 6.673569913349873, 'Calories': 131.44716719422414, 'Sodium': 189.14732650739478, 'Sugar': 4.846658822072212, 'Fat': 4.940306141087933, 'Carbs': 13.6309615455112, 'Fiber': 1.5438111600806752, 'Potass.': 111.19543378995434, 'Iron': 5.575790037493305, 'Calcium': 5.96443341604632, 'Sat Fat': 1.371559633027523, 'Chol': 17.51330049261084, 'Vit A': 21.162790697674417, 'Vit C': 20.25531914893617, 'Trn Fat': 0.08888888888888889, 'Mon Fat': 0.2777777777777778, 'Ply Fat': 0.25471698113207547}, {'Protein': 6.771874748450455, 'Calories': 140.6600725880429, 'Sodium': 191.41575982588657, 'Sugar': 4.790673575129533, 'Fat': 5.319166359579086, 'Carbs': 14.102675818981462, 'Fiber': 1.4686800894854586, 'Potass.': 101.3852140077821, 'Iron': 5.304624277456647, 'Calcium': 5.398601398601398, 'Sat Fat': 1.741209563994374, 'Chol': 22.06927374301676, 'Vit A': 9.6, 'Vit C': 13.905263157894737, 'Trn Fat': 0.012195121951219513, 'Mon Fat': 0.3333333333333333, 'Ply Fat': 0.3018867924528302}, {'Protein': 6.7046326003599654, 'Calories': 138.10350558497277, 'Sodium': 196.44314371074935, 'Sugar': 5.0410525607376, 'Fat': 5.264722288628576, 'Carbs': 14.020694605048048, 'Fiber': 1.4570135746606334, 'Potass.': 98.49169741697418, 'Iron': 5.586206896551724, 'Calcium': 5.109076433121019, 'Sat Fat': 1.7945736434108528, 'Chol': 21.935096153846153, 'Vit A': 11.666666666666666, 'Vit C': 14.714285714285714, 'Trn Fat': 0.04716981132075472, 'Mon Fat': 0.38181818181818183, 'Ply Fat': 0.30392156862745096}, {'Protein': 6.712721121591788, 'Calories': 124.44951868629671, 'Sodium': 175.42044835723362, 'Sugar': 4.845467470706477, 'Fat': 4.6719967199672, 'Carbs': 13.118992135158754, 'Fiber': 1.5809443507588532, 'Potass.': 114.53095411507647, 'Iron': 5.724762335898597, 'Calcium': 5.8669581511555275, 'Sat Fat': 1.5751445086705202, 'Chol': 17.733732876712327, 'Vit A': 14.826086956521738, 'Vit C': 16.217054263565892, 'Trn Fat': 0.15079365079365079, 'Mon Fat': 0.3076923076923077, 'Ply Fat': 0.3238095238095238}, {'Protein': 6.572970386517093, 'Calories': 122.19982144732697, 'Sodium': 174.862439747868, 'Sugar': 4.776746282109058, 'Fat': 4.520545720318337, 'Carbs': 12.95038374229813, 'Fiber': 1.540018241933645, 'Potass.': 109.1431520991053, 'Iron': 5.531671434409481, 'Calcium': 6.089073634204276, 'Sat Fat': 1.649339207048458, 'Chol': 16.807661612130886, 'Vit A': 43.847457627118644, 'Vit C': 10.91139240506329, 'Trn Fat': 0.025806451612903226, 'Mon Fat': 0.6166666666666667, 'Ply Fat': 0.3805309734513274}, {'Protein': 6.565006041964188, 'Calories': 122.58621063472275, 'Sodium': 174.63421663942182, 'Sugar': 4.702805295805944, 'Fat': 4.567471431772351, 'Carbs': 12.89647386759582, 'Fiber': 1.549742207640028, 'Potass.': 109.05799256505576, 'Iron': 5.44064901793339, 'Calcium': 5.738255033557047, 'Sat Fat': 1.410232558139535, 'Chol': 15.765505522514868, 'Vit A': 12.492537313432836, 'Vit C': 13.939597315436242, 'Trn Fat': 0.00684931506849315, 'Mon Fat': 0.3770491803278688, 'Ply Fat': 0.4019607843137255}, {'Protein': 6.653533079321095, 'Calories': 125.31933994528043, 'Sodium': 181.5058435308676, 'Sugar': 4.64886397167306, 'Fat': 4.712913459843723, 'Carbs': 13.068993839835729, 'Fiber': 1.5256914566687154, 'Potass.': 116.21328125, 'Iron': 5.419299004759845, 'Calcium': 5.5806228373702425, 'Sat Fat': 1.4321561338289963, 'Chol': 17.123762376237625, 'Vit A': 6.844827586206897, 'Vit C': 11.53968253968254, 'Trn Fat': 0.0891089108910891, 'Mon Fat': 0.45714285714285713, 'Ply Fat': 0.38461538461538464}, {'Protein': 6.740029639387453, 'Calories': 132.66543149683082, 'Sodium': 186.269989615784, 'Sugar': 4.886035403203147, 'Fat': 5.020523517932844, 'Carbs': 13.747805989147183, 'Fiber': 1.5235327473773745, 'Potass.': 114.19059613769942, 'Iron': 5.785984848484849, 'Calcium': 4.993661971830986, 'Sat Fat': 1.8569844789356984, 'Chol': 17.34626865671642, 'Vit A': 15.574468085106384, 'Vit C': 10.929292929292929, 'Trn Fat': 0.06837606837606838, 'Mon Fat': 0.23529411764705882, 'Ply Fat': 0.5377358490566038}, {'Protein': 6.832421950746558, 'Calories': 160.70741421568627, 'Sodium': 250.2533325142822, 'Sugar': 5.589736859373975, 'Fat': 5.307349050270505, 'Carbs': 16.156103147336413, 'Fiber': 1.7347571189279731, 'Potass.': 102.22706630336059, 'Iron': 5.497447532614861, 'Calcium': 5.351913477537438, 'Sat Fat': 1.651851851851852, 'Chol': 19.469730941704036, 'Vit A': 15.093023255813954, 'Vit C': 7.227722772277228, 'Trn Fat': 0.04819277108433735, 'Mon Fat': 0.28125, 'Ply Fat': 0.31}, {'Protein': 6.757325724861197, 'Calories': 136.25924656229765, 'Sodium': 194.92733394551576, 'Sugar': 4.916569124723631, 'Fat': 5.288600118133491, 'Carbs': 14.02215239591516, 'Fiber': 1.4759279071681344, 'Potass.': 93.51833976833977, 'Iron': 5.481159420289855, 'Calcium': 5.523724261414503, 'Sat Fat': 1.7822384428223845, 'Chol': 22.392344497607656, 'Vit A': 14.290909090909091, 'Vit C': 14.814814814814815, 'Trn Fat': 0.012987012987012988, 'Mon Fat': 1.0, 'Ply Fat': 0.40186915887850466}, {'Protein': 6.626994839221913, 'Calories': 121.63714964866912, 'Sodium': 171.87057392179895, 'Sugar': 4.718557064738049, 'Fat': 4.549947452100569, 'Carbs': 12.825291672254258, 'Fiber': 1.5636784464265552, 'Potass.': 113.76902713434811, 'Iron': 5.449855550969872, 'Calcium': 6.00796568627451, 'Sat Fat': 1.7799511002444988, 'Chol': 17.25428313796213, 'Vit A': 10.17741935483871, 'Vit C': 16.382716049382715, 'Trn Fat': 0.0072992700729927005, 'Mon Fat': 0.39285714285714285, 'Ply Fat': 0.39473684210526316}, {'Protein': 6.608994610667162, 'Calories': 122.26409005037783, 'Sodium': 173.28444990260016, 'Sugar': 4.671508229157299, 'Fat': 4.531275320045373, 'Carbs': 12.998386315959335, 'Fiber': 1.5702730030333671, 'Potass.': 105.98830811554333, 'Iron': 5.553017944535074, 'Calcium': 5.310469314079422, 'Sat Fat': 1.4776119402985075, 'Chol': 18.399636693914623, 'Vit A': 10.84, 'Vit C': 14.771653543307087, 'Trn Fat': 0.032520325203252036, 'Mon Fat': 0.35384615384615387, 'Ply Fat': 0.6416666666666667}, {'Protein': 6.557431512444856, 'Calories': 123.81054498548855, 'Sodium': 173.22023783969433, 'Sugar': 4.74112240635009, 'Fat': 4.624035740052167, 'Carbs': 13.00460384848652, 'Fiber': 1.5420160777282979, 'Potass.': 97.17195207892883, 'Iron': 5.916559139784947, 'Calcium': 5.447788697788698, 'Sat Fat': 1.497962510187449, 'Chol': 18.3578302712161, 'Vit A': 6.328571428571428, 'Vit C': 11.79020979020979, 'Trn Fat': 0.047619047619047616, 'Mon Fat': 0.18840579710144928, 'Ply Fat': 0.21495327102803738}, {'Protein': 6.631928472861086, 'Calories': 125.2815572493129, 'Sodium': 180.31667881216978, 'Sugar': 4.799028745217306, 'Fat': 4.754843800227944, 'Carbs': 13.13697633118868, 'Fiber': 1.519434628975265, 'Potass.': 92.66312594840667, 'Iron': 5.6479521398987576, 'Calcium': 5.594447797223898, 'Sat Fat': 1.4923076923076923, 'Chol': 16.3252688172043, 'Vit A': 4.163636363636364, 'Vit C': 8.46896551724138, 'Trn Fat': 0.05263157894736842, 'Mon Fat': 0.3050847457627119, 'Ply Fat': 0.25}, {'Protein': 6.709460793995655, 'Calories': 131.67610257076927, 'Sodium': 183.79651314077543, 'Sugar': 4.854595106726857, 'Fat': 4.933311003182046, 'Carbs': 13.642460529836768, 'Fiber': 1.5411542761319172, 'Potass.': 100.77731092436974, 'Iron': 5.507692307692308, 'Calcium': 5.071947674418604, 'Sat Fat': 1.4395604395604396, 'Chol': 17.847946725860155, 'Vit A': 8.885714285714286, 'Vit C': 17.433333333333334, 'Trn Fat': 0.028037383177570093, 'Mon Fat': 0.2857142857142857, 'Ply Fat': 0.225}, {'Protein': 6.812829278101749, 'Calories': 141.4838196708277, 'Sodium': 187.00679839888176, 'Sugar': 4.8820832192718315, 'Fat': 5.287067663032382, 'Carbs': 14.038624143167919, 'Fiber': 1.4334349593495934, 'Potass.': 86.56123432979749, 'Iron': 4.848880597014926, 'Calcium': 5.350752878653676, 'Sat Fat': 1.6438709677419354, 'Chol': 20.667068757539205, 'Vit A': 9.6875, 'Vit C': 13.76923076923077, 'Trn Fat': 0, 'Mon Fat': 0.3380281690140845, 'Ply Fat': 0.11842105263157894}, {'Protein': 6.686052435631148, 'Calories': 135.08127564052944, 'Sodium': 192.61190152171224, 'Sugar': 4.8431346981353505, 'Fat': 5.217154011632539, 'Carbs': 13.933155080213904, 'Fiber': 1.469784594753164, 'Potass.': 96.1985559566787, 'Iron': 5.392646093237032, 'Calcium': 4.991027732463295, 'Sat Fat': 1.5166240409207161, 'Chol': 24.13341346153846, 'Vit A': 7.045454545454546, 'Vit C': 12.043478260869565, 'Trn Fat': 0.045454545454545456, 'Mon Fat': 0.3728813559322034, 'Ply Fat': 0.39361702127659576}, {'Protein': 6.589702831586605, 'Calories': 121.82506589983225, 'Sodium': 173.1362037547146, 'Sugar': 4.624087924115287, 'Fat': 4.576418016832525, 'Carbs': 12.81622729135364, 'Fiber': 1.5328091576573972, 'Potass.': 100.24571428571429, 'Iron': 5.6474686483975844, 'Calcium': 7.246198830409357, 'Sat Fat': 1.4257845631891433, 'Chol': 14.989010989010989, 'Vit A': 8.236842105263158, 'Vit C': 10.481012658227849, 'Trn Fat': 0.04950495049504951, 'Mon Fat': 0.3, 'Ply Fat': 0.22916666666666666}, {'Protein': 6.66870055887038, 'Calories': 132.7213521517569, 'Sodium': 171.53416734501522, 'Sugar': 4.595818014705882, 'Fat': 4.621443661005789, 'Carbs': 12.795289408022812, 'Fiber': 1.531497418244406, 'Potass.': 98.9155524278677, 'Iron': 5.900800711743773, 'Calcium': 5.968677494199536, 'Sat Fat': 1.3812341504649197, 'Chol': 15.035449299258039, 'Vit A': 13.28, 'Vit C': 10.642857142857142, 'Trn Fat': 0.06315789473684211, 'Mon Fat': 0.2727272727272727, 'Ply Fat': 0.16129032258064516}, {'Protein': 6.657271125760073, 'Calories': 124.6857760799955, 'Sodium': 174.83126506561914, 'Sugar': 4.659184965188179, 'Fat': 4.71047762229675, 'Carbs': 13.000604995534557, 'Fiber': 1.5385537834272696, 'Potass.': 106.90795287187039, 'Iron': 5.433212996389892, 'Calcium': 5.738972809667674, 'Sat Fat': 1.5459770114942528, 'Chol': 16.048237476808904, 'Vit A': 15.0, 'Vit C': 15.484536082474227, 'Trn Fat': 0.043478260869565216, 'Mon Fat': 0.30434782608695654, 'Ply Fat': 0.4329896907216495}, {'Protein': 6.700784977682007, 'Calories': 125.92029933379978, 'Sodium': 177.56383338977312, 'Sugar': 4.874835379023336, 'Fat': 4.7102841762643965, 'Carbs': 13.2489375, 'Fiber': 1.5324455992205261, 'Potass.': 95.07692307692308, 'Iron': 5.772117962466488, 'Calcium': 5.226198514517218, 'Sat Fat': 1.560428849902534, 'Chol': 16.887005649717516, 'Vit A': 9.357142857142858, 'Vit C': 16.06779661016949, 'Trn Fat': 0.09722222222222222, 'Mon Fat': 0.3076923076923077, 'Ply Fat': 0.19}, {'Protein': 6.597607892431341, 'Calories': 136.49197195838988, 'Sodium': 186.9272981687656, 'Sugar': 5.024161605492474, 'Fat': 5.702197759603085, 'Carbs': 13.814344516930724, 'Fiber': 1.5204514528135755, 'Potass.': 89.26843910806176, 'Iron': 4.780307692307693, 'Calcium': 5.066508313539193, 'Sat Fat': 1.5225118483412323, 'Chol': 18.920047732696897, 'Vit A': 12.914285714285715, 'Vit C': 8.88888888888889, 'Trn Fat': 0.078125, 'Mon Fat': 0.7777777777777778, 'Ply Fat': 0.48}, {'Protein': 6.864455016566137, 'Calories': 142.97048326825376, 'Sodium': 202.91462925851704, 'Sugar': 4.975102820211516, 'Fat': 5.478929188255613, 'Carbs': 14.246968840989092, 'Fiber': 1.4670520231213873, 'Potass.': 85.47614107883817, 'Iron': 4.921369689283449, 'Calcium': 6.537225042301184, 'Sat Fat': 1.8272841051314144, 'Chol': 24.553947368421053, 'Vit A': 6.085714285714285, 'Vit C': 10.132352941176471, 'Trn Fat': 0.3142857142857143, 'Mon Fat': 0.47058823529411764, 'Ply Fat': 0.2727272727272727}, {'Protein': 6.852977445403556, 'Calories': 137.11041642090362, 'Sodium': 185.19757863205191, 'Sugar': 4.887184730743013, 'Fat': 5.275108638265037, 'Carbs': 13.616605765326836, 'Fiber': 1.398392750277849, 'Potass.': 95.78715919085312, 'Iron': 5.381422924901186, 'Calcium': 5.650040883074407, 'Sat Fat': 1.7382465057179162, 'Chol': 22.060766182298547, 'Vit A': 21.071428571428573, 'Vit C': 8.011363636363637, 'Trn Fat': 0.27906976744186046, 'Mon Fat': 0.32786885245901637, 'Ply Fat': 0.3258426966292135}, {'Protein': 6.617913981323162, 'Calories': 120.90064277721393, 'Sodium': 170.5687307138449, 'Sugar': 4.627073420198337, 'Fat': 4.553876760942037, 'Carbs': 12.744665490133162, 'Fiber': 1.5418161115855393, 'Potass.': 104.584388185654, 'Iron': 6.608479927830402, 'Calcium': 8.76346037507562, 'Sat Fat': 1.5135553834237025, 'Chol': 19.015332197614992, 'Vit A': 18.45098039215686, 'Vit C': 9.310344827586206, 'Trn Fat': 0.017241379310344827, 'Mon Fat': 0.2982456140350877, 'Ply Fat': 0.3125}, {'Protein': 6.641934263163585, 'Calories': 122.54322701187775, 'Sodium': 170.66143934898702, 'Sugar': 4.639204153839085, 'Fat': 4.601900041305246, 'Carbs': 12.82482092378626, 'Fiber': 1.526962061975094, 'Potass.': 96.98498498498499, 'Iron': 5.484257206208426, 'Calcium': 5.205471124620061, 'Sat Fat': 1.4723825226710634, 'Chol': 17.75296108291032, 'Vit A': 10.365384615384615, 'Vit C': 10.463087248322148, 'Trn Fat': 0.0546875, 'Mon Fat': 0.25, 'Ply Fat': 0.3942307692307692}, {'Protein': 6.677091455942965, 'Calories': 123.94470007990522, 'Sodium': 175.94927916120577, 'Sugar': 4.590461771385314, 'Fat': 4.679611098476234, 'Carbs': 12.890375314647736, 'Fiber': 1.5431469035045606, 'Potass.': 103.11591962905719, 'Iron': 5.4750815090824405, 'Calcium': 5.22378908645003, 'Sat Fat': 1.3730283911671923, 'Chol': 19.25800711743772, 'Vit A': 20.74576271186441, 'Vit C': 10.446666666666667, 'Trn Fat': 0, 'Mon Fat': 0.26153846153846155, 'Ply Fat': 0.3958333333333333}, {'Protein': 6.648966355897851, 'Calories': 125.47522374403111, 'Sodium': 178.4872355944566, 'Sugar': 4.753565652109984, 'Fat': 4.768664439253718, 'Carbs': 13.100429108864331, 'Fiber': 1.5394329577813544, 'Potass.': 87.63034705407587, 'Iron': 5.1155492154065625, 'Calcium': 5.892814371257485, 'Sat Fat': 1.3944491169049622, 'Chol': 18.990018148820326, 'Vit A': 8.666666666666666, 'Vit C': 9.681481481481482, 'Trn Fat': 0.2894736842105263, 'Mon Fat': 0.26666666666666666, 'Ply Fat': 0.32673267326732675}, {'Protein': 6.849512787255978, 'Calories': 133.51041598212527, 'Sodium': 187.94242535167075, 'Sugar': 4.749310829817159, 'Fat': 5.003324625979578, 'Carbs': 13.643447621628948, 'Fiber': 1.5693927241478087, 'Potass.': 100.96062346185398, 'Iron': 4.7874420998456, 'Calcium': 5.247922437673131, 'Sat Fat': 1.60813704496788, 'Chol': 19.654605263157894, 'Vit A': 9.0625, 'Vit C': 17.959183673469386, 'Trn Fat': 0.01639344262295082, 'Mon Fat': 0.4153846153846154, 'Ply Fat': 0.2391304347826087}, {'Protein': 6.789906616332208, 'Calories': 140.7350857862427, 'Sodium': 191.51648080832973, 'Sugar': 4.880545614153555, 'Fat': 5.354502947753608, 'Carbs': 14.13357693869265, 'Fiber': 1.457403305503493, 'Potass.': 88.53535353535354, 'Iron': 4.933420365535248, 'Calcium': 5.645869947275923, 'Sat Fat': 1.4959677419354838, 'Chol': 22.838461538461537, 'Vit A': 37.5, 'Vit C': 25.623529411764707, 'Trn Fat': 0, 'Mon Fat': 0.28125, 'Ply Fat': 0.30526315789473685}, {'Protein': 6.814104571070757, 'Calories': 136.14105442440194, 'Sodium': 188.86852000246563, 'Sugar': 4.810536845615205, 'Fat': 5.240433877681716, 'Carbs': 13.815714685986471, 'Fiber': 1.4456836018174308, 'Potass.': 100.74422899353647, 'Iron': 6.004438807863031, 'Calcium': 10.873275862068965, 'Sat Fat': 1.8615384615384616, 'Chol': 20.399026763990268, 'Vit A': 11.3, 'Vit C': 34.52542372881356, 'Trn Fat': 0.08333333333333333, 'Mon Fat': 0.19672131147540983, 'Ply Fat': 0.3063063063063063}, {'Protein': 6.700739016269186, 'Calories': 122.60895841690065, 'Sodium': 181.13619553666314, 'Sugar': 4.723101777059774, 'Fat': 4.551461455659518, 'Carbs': 12.88293568892925, 'Fiber': 1.5373550147828066, 'Potass.': 114.93496557000765, 'Iron': 5.476394849785407, 'Calcium': 7.463505926388023, 'Sat Fat': 1.3967213114754098, 'Chol': 16.246575342465754, 'Vit A': 9.379310344827585, 'Vit C': 12.36734693877551, 'Trn Fat': 0.058823529411764705, 'Mon Fat': 0.23076923076923078, 'Ply Fat': 0.2773722627737226}, {'Protein': 6.624405527891232, 'Calories': 123.76767229449212, 'Sodium': 172.38408562530157, 'Sugar': 4.598104714522625, 'Fat': 4.662314285714285, 'Carbs': 12.970966274242166, 'Fiber': 1.5260327403817742, 'Potass.': 111.71449067431851, 'Iron': 4.976744186046512, 'Calcium': 5.486968449931413, 'Sat Fat': 1.4885690093141406, 'Chol': 19.41089566020314, 'Vit A': 9.928571428571429, 'Vit C': 11.894736842105264, 'Trn Fat': 0.06306306306306306, 'Mon Fat': 0.41975308641975306, 'Ply Fat': 0.3358208955223881}, {'Protein': 6.622727145378645, 'Calories': 123.29070024910047, 'Sodium': 173.01625484812828, 'Sugar': 4.759703548862179, 'Fat': 4.638910305833976, 'Carbs': 13.008017741385192, 'Fiber': 1.5479857819905214, 'Potass.': 107.55112400290065, 'Iron': 4.918829636621048, 'Calcium': 7.43449637919684, 'Sat Fat': 1.542832909245123, 'Chol': 19.107485604606527, 'Vit A': 8.84375, 'Vit C': 11.264957264957266, 'Trn Fat': 0.1414141414141414, 'Mon Fat': 0.8024691358024691, 'Ply Fat': 0.3925925925925926}, {'Protein': 6.671980416741298, 'Calories': 125.30692806603774, 'Sodium': 176.10048974311587, 'Sugar': 4.66343419983753, 'Fat': 4.701287213274768, 'Carbs': 13.17066149510621, 'Fiber': 1.6171321920453083, 'Potass.': 97.65227629513343, 'Iron': 5.115204981837053, 'Calcium': 5.874671916010499, 'Sat Fat': 1.579047619047619, 'Chol': 18.232954545454547, 'Vit A': 6.346153846153846, 'Vit C': 19.560606060606062, 'Trn Fat': 0.05128205128205128, 'Mon Fat': 0.34177215189873417, 'Ply Fat': 0.24528301886792453}, {'Protein': 6.710726737298176, 'Calories': 131.728661908113, 'Sodium': 182.6802879525725, 'Sugar': 4.692749626565552, 'Fat': 4.876823114674777, 'Carbs': 13.46388382256788, 'Fiber': 1.558385183041528, 'Potass.': 110.73646850044365, 'Iron': 4.955403087478559, 'Calcium': 5.465067043048695, 'Sat Fat': 1.5595854922279793, 'Chol': 18.680634201585505, 'Vit A': 12.903225806451612, 'Vit C': 12.604938271604938, 'Trn Fat': 0.023809523809523808, 'Mon Fat': 0.8117647058823529, 'Ply Fat': 0.23776223776223776}, {'Protein': 6.814263164285425, 'Calories': 142.59927927927927, 'Sodium': 197.11639805576874, 'Sugar': 4.928561791689153, 'Fat': 5.359633863485752, 'Carbs': 14.22154648132059, 'Fiber': 1.480488869489306, 'Potass.': 108.64905284147558, 'Iron': 4.02108843537415, 'Calcium': 5.072379367720466, 'Sat Fat': 1.7035110533159947, 'Chol': 23.204427083333332, 'Vit A': 5.625, 'Vit C': 9.48062015503876, 'Trn Fat': 0.021739130434782608, 'Mon Fat': 0.7317073170731707, 'Ply Fat': 0.23423423423423423}, {'Protein': 6.832839476907274, 'Calories': 137.9450154363203, 'Sodium': 191.37887590973028, 'Sugar': 4.871887523815781, 'Fat': 5.256825525040388, 'Carbs': 14.00687757909216, 'Fiber': 1.4684715855029842, 'Potass.': 104.56410256410257, 'Iron': 4.804651162790698, 'Calcium': 5.635258358662614, 'Sat Fat': 1.6852861035422344, 'Chol': 21.247252747252748, 'Vit A': 7.580645161290323, 'Vit C': 29.535714285714285, 'Trn Fat': 0, 'Mon Fat': 0.640625, 'Ply Fat': 0.25510204081632654}, {'Protein': 6.667492277293852, 'Calories': 121.90968593586712, 'Sodium': 171.653555613441, 'Sugar': 4.655976132761514, 'Fat': 4.532563562937262, 'Carbs': 12.838618426635739, 'Fiber': 1.582588894727623, 'Potass.': 115.91081081081082, 'Iron': 5.487639360155114, 'Calcium': 5.785982478097622, 'Sat Fat': 1.4257620452310718, 'Chol': 15.849315068493151, 'Vit A': 3.0588235294117645, 'Vit C': 14.686868686868687, 'Trn Fat': 0.05263157894736842, 'Mon Fat': 0.42424242424242425, 'Ply Fat': 0.39823008849557523}, {'Protein': 6.6165373369320735, 'Calories': 123.08749861157392, 'Sodium': 171.0031026044398, 'Sugar': 4.612102515424774, 'Fat': 4.64059761528516, 'Carbs': 12.923386751221184, 'Fiber': 1.5710050400237177, 'Potass.': 114.98671586715867, 'Iron': 5.265977443609023, 'Calcium': 6.055518394648829, 'Sat Fat': 1.4481675392670157, 'Chol': 18.63274336283186, 'Vit A': 13.5, 'Vit C': 11.0859375, 'Trn Fat': 0.029411764705882353, 'Mon Fat': 0.5714285714285714, 'Ply Fat': 0.31313131313131315}, {'Protein': 6.589720998531571, 'Calories': 123.89803489652773, 'Sodium': 182.50227512984327, 'Sugar': 4.630988837301195, 'Fat': 4.584878530988827, 'Carbs': 12.980887719088352, 'Fiber': 1.5425499042086397, 'Potass.': 103.49962434259955, 'Iron': 5.016417910447761, 'Calcium': 5.604590163934426, 'Sat Fat': 1.5093411996066863, 'Chol': 17.698094282848544, 'Vit A': 8.38888888888889, 'Vit C': 13.875, 'Trn Fat': 0.02564102564102564, 'Mon Fat': 0.4722222222222222, 'Ply Fat': 0.3711340206185567}, {'Protein': 6.676694757714711, 'Calories': 125.58294853368399, 'Sodium': 179.14586943963027, 'Sugar': 4.827051464017242, 'Fat': 4.648666540571212, 'Carbs': 13.18033148474918, 'Fiber': 1.550834403080873, 'Potass.': 103.72174657534246, 'Iron': 5.37460815047022, 'Calcium': 5.770392749244713, 'Sat Fat': 1.5397316821465428, 'Chol': 17.955020920502093, 'Vit A': 7.555555555555555, 'Vit C': 18.103092783505154, 'Trn Fat': 0.02, 'Mon Fat': 0.3194444444444444, 'Ply Fat': 0.34444444444444444}, {'Protein': 6.674496882086168, 'Calories': 132.43894758939192, 'Sodium': 182.42232318808846, 'Sugar': 4.784379896348078, 'Fat': 4.983667435823478, 'Carbs': 13.653592176956662, 'Fiber': 1.5967251981921908, 'Potass.': 97.48289345063539, 'Iron': 5.315987124463519, 'Calcium': 5.57395498392283, 'Sat Fat': 1.755784061696658, 'Chol': 20.332560834298956, 'Vit A': 17.823529411764707, 'Vit C': 11.801724137931034, 'Trn Fat': 0.1206896551724138, 'Mon Fat': 0.5882352941176471, 'Ply Fat': 0.2755102040816326}, {'Protein': 6.757615894039735, 'Calories': 140.04093327875563, 'Sodium': 198.19705483433444, 'Sugar': 4.737868829534331, 'Fat': 5.236659912191827, 'Carbs': 13.952004731927838, 'Fiber': 1.5386671264764205, 'Potass.': 98.81042654028435, 'Iron': 5.260621433100824, 'Calcium': 5.512842465753424, 'Sat Fat': 1.6344725111441307, 'Chol': 23.516129032258064, 'Vit A': 9.21875, 'Vit C': 6.833333333333333, 'Trn Fat': 0, 'Mon Fat': 0.3116883116883117, 'Ply Fat': 0.3}, {'Protein': 6.703483881458596, 'Calories': 134.56369248035915, 'Sodium': 187.08008071126804, 'Sugar': 4.740712868577684, 'Fat': 5.168308227114716, 'Carbs': 13.546716386989848, 'Fiber': 1.4578179646848077, 'Potass.': 98.34985968194574, 'Iron': 5.2701778385772915, 'Calcium': 5.665243381725022, 'Sat Fat': 1.6359649122807018, 'Chol': 19.717821782178216, 'Vit A': 7.117647058823529, 'Vit C': 9.385714285714286, 'Trn Fat': 0.017543859649122806, 'Mon Fat': 0.3230769230769231, 'Ply Fat': 0.26436781609195403}, {'Protein': 6.557771225339697, 'Calories': 122.34603041300501, 'Sodium': 170.55990358712606, 'Sugar': 4.656715645695364, 'Fat': 4.565399534522886, 'Carbs': 12.865195927182969, 'Fiber': 1.5806037251123957, 'Potass.': 110.50040883074408, 'Iron': 4.789549376797699, 'Calcium': 5.686031331592689, 'Sat Fat': 1.3517948717948718, 'Chol': 14.520958083832335, 'Vit A': 5.409090909090909, 'Vit C': 13.104166666666666, 'Trn Fat': 0.05084745762711865, 'Mon Fat': 0.4861111111111111, 'Ply Fat': 0.18867924528301888}, {'Protein': 6.658664468260511, 'Calories': 124.55796393933477, 'Sodium': 172.93661358865393, 'Sugar': 4.680396128741841, 'Fat': 4.665716202616571, 'Carbs': 13.068017656500803, 'Fiber': 1.5828362921900216, 'Potass.': 113.33363148479428, 'Iron': 5.322158198009429, 'Calcium': 6.293090356871678, 'Sat Fat': 1.3866799204771372, 'Chol': 17.252208047105004, 'Vit A': 6.809523809523809, 'Vit C': 10.7125, 'Trn Fat': 0.05263157894736842, 'Mon Fat': 0.2777777777777778, 'Ply Fat': 0.1875}, {'Protein': 6.715939140765722, 'Calories': 131.1156661230991, 'Sodium': 179.26308174584037, 'Sugar': 4.861190538081622, 'Fat': 4.927890625, 'Carbs': 13.606032155850253, 'Fiber': 1.5321746160064673, 'Potass.': 97.66043307086615, 'Iron': 5.15605493133583, 'Calcium': 6.391659111514053, 'Sat Fat': 1.6040914560770156, 'Chol': 18.923884514435695, 'Vit A': 8.35, 'Vit C': 10.144927536231885, 'Trn Fat': 0.04, 'Mon Fat': 0.2465753424657534, 'Ply Fat': 0.2616822429906542}, {'Protein': 6.299393326592518, 'Calories': 150.47127414673207, 'Sodium': 182.84465086483024, 'Sugar': 5.04580797836376, 'Fat': 4.867218849675893, 'Carbs': 14.015794363580056, 'Fiber': 1.3876079117036388, 'Potass.': 106.55452127659575, 'Iron': 5.251192368839428, 'Calcium': 5.438341968911917, 'Sat Fat': 1.4733542319749215, 'Chol': 21.12280701754386, 'Vit A': 29.545454545454547, 'Vit C': 8.636363636363637, 'Trn Fat': 0.05, 'Mon Fat': 0.20408163265306123, 'Ply Fat': 0.3088235294117647}, {'Protein': 6.865724553224553, 'Calories': 145.6336053768603, 'Sodium': 198.30370029172425, 'Sugar': 4.846877534468775, 'Fat': 5.257640421878833, 'Carbs': 14.198783262439411, 'Fiber': 1.496430071398572, 'Potass.': 104.55586206896552, 'Iron': 4.480637813211845, 'Calcium': 5.635496183206107, 'Sat Fat': 1.5809968847352025, 'Chol': 21.58421052631579, 'Vit A': 14.0, 'Vit C': 14.714285714285714, 'Trn Fat': 0.041666666666666664, 'Mon Fat': 0.3787878787878788, 'Ply Fat': 0.3013698630136986}, {'Protein': 6.689489142471953, 'Calories': 142.7312538633446, 'Sodium': 199.52469847122993, 'Sugar': 4.905354720293672, 'Fat': 5.307763626604206, 'Carbs': 14.206697063293621, 'Fiber': 1.5141578180303976, 'Potass.': 106.12770809578107, 'Iron': 4.853658536585366, 'Calcium': 5.887429643527205, 'Sat Fat': 1.729903536977492, 'Chol': 17.675213675213676, 'Vit A': 12.0, 'Vit C': 10.8, 'Trn Fat': 0, 'Mon Fat': 0.3888888888888889, 'Ply Fat': 0.3287671232876712}, {'Protein': 6.750815154994259, 'Calories': 136.06423768853352, 'Sodium': 191.48256524552448, 'Sugar': 4.708817237163815, 'Fat': 5.137294128594026, 'Carbs': 13.562895291637385, 'Fiber': 1.5014070351758795, 'Potass.': 100.45819761129208, 'Iron': 5.12375859434683, 'Calcium': 5.954929577464789, 'Sat Fat': 1.575657894736842, 'Chol': 20.143484626647144, 'Vit A': 7.2272727272727275, 'Vit C': 11.238095238095237, 'Trn Fat': 0, 'Mon Fat': 0.3064516129032258, 'Ply Fat': 0.1348314606741573}, {'Protein': 6.6819645261370955, 'Calories': 123.52355702364395, 'Sodium': 176.40886610100276, 'Sugar': 4.646148555708391, 'Fat': 4.573049178365111, 'Carbs': 12.961882941053947, 'Fiber': 1.569962453066333, 'Potass.': 119.0058910162003, 'Iron': 5.246067985794014, 'Calcium': 6.030741410488246, 'Sat Fat': 1.305229455709712, 'Chol': 15.188434695912264, 'Vit A': 9.277777777777779, 'Vit C': 11.252525252525253, 'Trn Fat': 0.06521739130434782, 'Mon Fat': 0.515625, 'Ply Fat': 0.25316455696202533}, {'Protein': 6.717672413793103, 'Calories': 124.72241837121764, 'Sodium': 179.84387351778656, 'Sugar': 4.672669386130734, 'Fat': 4.6797143373711805, 'Carbs': 13.125209983201344, 'Fiber': 1.5791571753986333, 'Potass.': 114.30071942446042, 'Iron': 5.321342925659472, 'Calcium': 6.283524904214559, 'Sat Fat': 1.33585313174946, 'Chol': 14.299684542586752, 'Vit A': 7.682926829268292, 'Vit C': 19.12727272727273, 'Trn Fat': 0.125, 'Mon Fat': 0.2328767123287671, 'Ply Fat': 0.203125}, {'Protein': 6.649766830084897, 'Calories': 124.91211906449327, 'Sodium': 176.68035381750465, 'Sugar': 4.685204460966543, 'Fat': 4.6369407312458035, 'Carbs': 13.142072523137612, 'Fiber': 1.5406824146981628, 'Potass.': 115.0390625, 'Iron': 5.453694581280788, 'Calcium': 5.613511868533171, 'Sat Fat': 1.3377281947261663, 'Chol': 14.098290598290598, 'Vit A': 10.571428571428571, 'Vit C': 21.96938775510204, 'Trn Fat': 0.038834951456310676, 'Mon Fat': 0.2647058823529412, 'Ply Fat': 0.1111111111111111}, {'Protein': 6.759576021072006, 'Calories': 125.78848925371264, 'Sodium': 177.40149786727508, 'Sugar': 4.689634896028225, 'Fat': 4.679680682589445, 'Carbs': 13.06574962953418, 'Fiber': 1.5016648907831647, 'Potass.': 100.0719794344473, 'Iron': 5.402426160337553, 'Calcium': 5.825439783491205, 'Sat Fat': 1.4004796163069544, 'Chol': 16.446739130434782, 'Vit A': 8.666666666666666, 'Vit C': 20.282608695652176, 'Trn Fat': 0.15730337078651685, 'Mon Fat': 0.42028985507246375, 'Ply Fat': 0.17333333333333334}, {'Protein': 6.754640603916706, 'Calories': 132.67061406666187, 'Sodium': 185.4020283744516, 'Sugar': 4.750291500460264, 'Fat': 4.924996292451431, 'Carbs': 13.659296296296297, 'Fiber': 1.5177154944473823, 'Potass.': 96.37737737737737, 'Iron': 5.135055783910746, 'Calcium': 5.079721362229102, 'Sat Fat': 1.3689064558629775, 'Chol': 16.362250879249707, 'Vit A': 8.9375, 'Vit C': 20.417910447761194, 'Trn Fat': 0.14864864864864866, 'Mon Fat': 0.3150684931506849, 'Ply Fat': 0.2564102564102564}, {'Protein': 7.075542226278959, 'Calories': 145.37401608487338, 'Sodium': 204.35, 'Sugar': 5.0170822126917205, 'Fat': 5.56009360649947, 'Carbs': 14.515558698727016, 'Fiber': 1.4745855847605092, 'Potass.': 99.34306569343066, 'Iron': 5.108365019011407, 'Calcium': 5.841512469831054, 'Sat Fat': 1.6911076443057722, 'Chol': 19.196275071633238, 'Vit A': 7.333333333333333, 'Vit C': 15.39655172413793, 'Trn Fat': 0.22641509433962265, 'Mon Fat': 0.8235294117647058, 'Ply Fat': 0.1643835616438356}, {'Protein': 6.849417249417249, 'Calories': 136.19064928553522, 'Sodium': 189.7160633484163, 'Sugar': 4.904023440291574, 'Fat': 5.404776247848537, 'Carbs': 13.925452425171684, 'Fiber': 1.4735163861824623, 'Potass.': 107.59378468368479, 'Iron': 5.289921465968586, 'Calcium': 5.135045567522784, 'Sat Fat': 1.530701754385965, 'Chol': 22.933238636363637, 'Vit A': 5.791666666666667, 'Vit C': 7.931818181818182, 'Trn Fat': 0, 'Mon Fat': 0.375, 'Ply Fat': 0.13157894736842105}, {'Protein': 6.70839393939394, 'Calories': 123.6807537012113, 'Sodium': 176.83459000942506, 'Sugar': 4.8660160618074615, 'Fat': 4.611903879416852, 'Carbs': 12.896704513985046, 'Fiber': 1.5168949187252017, 'Potass.': 118.54759967453214, 'Iron': 5.564432989690721, 'Calcium': 5.215873015873016, 'Sat Fat': 1.400662251655629, 'Chol': 18.44391179290508, 'Vit A': 12.78125, 'Vit C': 21.273743016759777, 'Trn Fat': 0.11811023622047244, 'Mon Fat': 0.37142857142857144, 'Ply Fat': 0.19696969696969696}, {'Protein': 6.685600444773907, 'Calories': 124.46765198841993, 'Sodium': 173.76719881106476, 'Sugar': 4.654127535931095, 'Fat': 4.6866381210251244, 'Carbs': 13.10905903712515, 'Fiber': 1.5110313662945243, 'Potass.': 106.43128321943811, 'Iron': 5.1445, 'Calcium': 5.546451612903226, 'Sat Fat': 1.3748571428571428, 'Chol': 17.177121771217713, 'Vit A': 7.269230769230769, 'Vit C': 24.11111111111111, 'Trn Fat': 0.19047619047619047, 'Mon Fat': 0.25, 'Ply Fat': 0.15384615384615385}, {'Protein': 6.712127032910744, 'Calories': 129.96715663031452, 'Sodium': 180.85634721525338, 'Sugar': 4.670800569950921, 'Fat': 4.803233180927498, 'Carbs': 13.474917910205143, 'Fiber': 1.52675746319989, 'Potass.': 104.57508532423208, 'Iron': 5.51085776330076, 'Calcium': 5.546639231824417, 'Sat Fat': 1.5426195426195426, 'Chol': 15.48011639185257, 'Vit A': 22.859649122807017, 'Vit C': 19.71818181818182, 'Trn Fat': 0.1386861313868613, 'Mon Fat': 0.46875, 'Ply Fat': 0.15254237288135594}, {'Protein': 6.730344022522832, 'Calories': 128.8583848400462, 'Sodium': 181.4454054054054, 'Sugar': 4.735883001566943, 'Fat': 4.843804782273333, 'Carbs': 13.289240019576313, 'Fiber': 1.487694772098442, 'Potass.': 111.11491228070176, 'Iron': 5.250841750841751, 'Calcium': 6.137130801687764, 'Sat Fat': 1.4659340659340658, 'Chol': 20.462090163934427, 'Vit A': 22.318181818181817, 'Vit C': 14.489583333333334, 'Trn Fat': 0.18181818181818182, 'Mon Fat': 0.5625, 'Ply Fat': 0.3076923076923077}, {'Protein': 6.898253755997797, 'Calories': 136.12141469102215, 'Sodium': 188.55309679812092, 'Sugar': 4.791301460823373, 'Fat': 5.133073898740271, 'Carbs': 13.779842229607977, 'Fiber': 1.5113913751017087, 'Potass.': 106.84615384615384, 'Iron': 5.419396274887604, 'Calcium': 6.1613431613431615, 'Sat Fat': 1.4332036316472114, 'Chol': 16.80042689434365, 'Vit A': 11.658536585365853, 'Vit C': 15.75, 'Trn Fat': 0.1388888888888889, 'Mon Fat': 0.4722222222222222, 'Ply Fat': 0.2909090909090909}, {'Protein': 6.926674148896371, 'Calories': 144.07246175886132, 'Sodium': 195.83004962054875, 'Sugar': 4.917524141206269, 'Fat': 5.509538344143457, 'Carbs': 14.274260397313133, 'Fiber': 1.4900891972249752, 'Potass.': 93.43887775551102, 'Iron': 5.257731958762887, 'Calcium': 5.783266129032258, 'Sat Fat': 1.7082066869300911, 'Chol': 20.11023622047244, 'Vit A': 9.428571428571429, 'Vit C': 12.297297297297296, 'Trn Fat': 0.1794871794871795, 'Mon Fat': 0.7, 'Ply Fat': 0.22}, {'Protein': 6.901793681956095, 'Calories': 138.78635041001675, 'Sodium': 194.91956430666107, 'Sugar': 4.656226807184207, 'Fat': 5.328999409010319, 'Carbs': 13.844710905209611, 'Fiber': 1.451127098321343, 'Potass.': 98.92219917012449, 'Iron': 5.352490421455939, 'Calcium': 5.245300751879699, 'Sat Fat': 1.6296829971181557, 'Chol': 21.946047678795484, 'Vit A': 10.91304347826087, 'Vit C': 9.714285714285714, 'Trn Fat': 0.27906976744186046, 'Mon Fat': 0.6346153846153846, 'Ply Fat': 0.30952380952380953}, {'Protein': 6.620249869859448, 'Calories': 123.86768537880006, 'Sodium': 171.03970768601798, 'Sugar': 4.878844669826921, 'Fat': 4.6388188453881884, 'Carbs': 13.059786028949025, 'Fiber': 1.503139074655384, 'Potass.': 100.34040880503144, 'Iron': 5.349526066350711, 'Calcium': 5.373452544704264, 'Sat Fat': 1.4705882352941178, 'Chol': 19.014311270125223, 'Vit A': 6.25531914893617, 'Vit C': 9.49586776859504, 'Trn Fat': 0.15, 'Mon Fat': 0.23809523809523808, 'Ply Fat': 0.17333333333333334}, {'Protein': 6.735810742207331, 'Calories': 126.41473269442682, 'Sodium': 177.048283546453, 'Sugar': 4.740428702430078, 'Fat': 4.815634931601492, 'Carbs': 13.200953818705825, 'Fiber': 1.5373567284562049, 'Potass.': 104.5261106780982, 'Iron': 5.085592769803296, 'Calcium': 5.713475177304964, 'Sat Fat': 1.5826771653543308, 'Chol': 19.749229188078107, 'Vit A': 4.833333333333333, 'Vit C': 9.09322033898305, 'Trn Fat': 0.1791044776119403, 'Mon Fat': 0.581081081081081, 'Ply Fat': 0.10869565217391304}, {'Protein': 6.659184183291103, 'Calories': 128.58577523890122, 'Sodium': 176.3673560899053, 'Sugar': 4.587975028789623, 'Fat': 4.8039772727272725, 'Carbs': 13.18626989017362, 'Fiber': 1.4854865393292225, 'Potass.': 95.726473175022, 'Iron': 5.411662817551963, 'Calcium': 5.813262195121951, 'Sat Fat': 1.7380952380952381, 'Chol': 20.4232044198895, 'Vit A': 15.285714285714286, 'Vit C': 10.938461538461539, 'Trn Fat': 0.12987012987012986, 'Mon Fat': 0.2054794520547945, 'Ply Fat': 0.24675324675324675}, {'Protein': 6.798401489873516, 'Calories': 132.7825570251102, 'Sodium': 192.01782238442823, 'Sugar': 4.954219931731477, 'Fat': 4.952862618041013, 'Carbs': 13.649575685810143, 'Fiber': 1.5, 'Potass.': 92.61917562724014, 'Iron': 5.208455666470933, 'Calcium': 5.681528662420382, 'Sat Fat': 1.4519104084321475, 'Chol': 16.735154394299286, 'Vit A': 29.641025641025642, 'Vit C': 30.626262626262626, 'Trn Fat': 0.136986301369863, 'Mon Fat': 0.3, 'Ply Fat': 0.25333333333333335}, {'Protein': 6.956871280092387, 'Calories': 139.178038285915, 'Sodium': 190.92246136865342, 'Sugar': 4.780405145189864, 'Fat': 5.281362979031091, 'Carbs': 13.856368563685637, 'Fiber': 1.4674398707101435, 'Potass.': 91.88159111933395, 'Iron': 4.890745501285347, 'Calcium': 5.813321647677476, 'Sat Fat': 1.7834101382488479, 'Chol': 17.829201101928376, 'Vit A': 5.0625, 'Vit C': 9.990384615384615, 'Trn Fat': 0.5, 'Mon Fat': 0.2465753424657534, 'Ply Fat': 0.16666666666666666}, {'Protein': 6.8990565080653345, 'Calories': 143.13605578688606, 'Sodium': 192.8842708988058, 'Sugar': 4.930545897079277, 'Fat': 5.437184115523466, 'Carbs': 14.349654706890284, 'Fiber': 2.2740813220265275, 'Potass.': 87.41343424787134, 'Iron': 5.351451973194341, 'Calcium': 4.8587285570131185, 'Sat Fat': 1.4826388888888888, 'Chol': 23.192248062015505, 'Vit A': 15.027777777777779, 'Vit C': 37.53521126760563, 'Trn Fat': 0.37037037037037035, 'Mon Fat': 0.8309859154929577, 'Ply Fat': 0.16417910447761194}, {'Protein': 6.912626288267249, 'Calories': 142.30981179422835, 'Sodium': 195.43210664963678, 'Sugar': 4.7563934712402895, 'Fat': 5.494358762032916, 'Carbs': 14.092703193975591, 'Fiber': 1.398753894080997, 'Potass.': 102.05555555555556, 'Iron': 5.242990654205608, 'Calcium': 5.407327586206897, 'Sat Fat': 1.843806104129264, 'Chol': 28.60223642172524, 'Vit A': 6.634146341463414, 'Vit C': 12.844155844155845, 'Trn Fat': 0.2564102564102564, 'Mon Fat': 0.36923076923076925, 'Ply Fat': 0.19117647058823528}, {'Protein': 6.809846637179116, 'Calories': 131.36197246394573, 'Sodium': 180.39909677419354, 'Sugar': 4.708159365933055, 'Fat': 5.002113449995773, 'Carbs': 13.420687042182369, 'Fiber': 1.4839077435762518, 'Potass.': 98.98961038961039, 'Iron': 4.738919247115969, 'Calcium': 5.092783505154639, 'Sat Fat': 1.6411290322580645, 'Chol': 20.508495145631066, 'Vit A': 13.418604651162791, 'Vit C': 9.24468085106383, 'Trn Fat': 0.2037037037037037, 'Mon Fat': 0.4246575342465753, 'Ply Fat': 0.16666666666666666}, {'Protein': 6.919000651344561, 'Calories': 137.51494940202392, 'Sodium': 188.49615806805707, 'Sugar': 4.921397729090037, 'Fat': 5.265826410770553, 'Carbs': 13.934315589353613, 'Fiber': 1.4870783191951076, 'Potass.': 93.48568608094769, 'Iron': 5.520084566596195, 'Calcium': 5.184541062801932, 'Sat Fat': 1.6666666666666667, 'Chol': 16.382716049382715, 'Vit A': 26.13888888888889, 'Vit C': 10.283783783783784, 'Trn Fat': 0.05319148936170213, 'Mon Fat': 0.6144578313253012, 'Ply Fat': 0.1}, {'Protein': 6.761973601508485, 'Calories': 154.45219012115564, 'Sodium': 188.49135212613473, 'Sugar': 5.117722465548552, 'Fat': 5.376289650752963, 'Carbs': 14.310382443531827, 'Fiber': 1.4158982956132997, 'Potass.': 101.9496855345912, 'Iron': 6.184857423795477, 'Calcium': 5.075641025641025, 'Sat Fat': 1.5995975855130784, 'Chol': 23.03872053872054, 'Vit A': 19.78125, 'Vit C': 9.0, 'Trn Fat': 0.14893617021276595, 'Mon Fat': 0.3076923076923077, 'Ply Fat': 0.1206896551724138}, {'Protein': 9.927289970757924, 'Calories': 199.1541106595811, 'Sodium': 208.05797450084196, 'Sugar': 5.385637951257657, 'Fat': 9.126229115037173, 'Carbs': 18.02565757624657, 'Fiber': 1.997603244837758, 'Potass.': 90.09165302782324, 'Iron': 5.821768707482994, 'Calcium': 3.472952086553323, 'Sat Fat': 2.0124688279301743, 'Chol': 27.49247311827957, 'Vit A': 13.422222222222222, 'Vit C': 19.294117647058822, 'Trn Fat': 0.11538461538461539, 'Mon Fat': 0.5, 'Ply Fat': 0.25}, {'Protein': 8.55624417265398, 'Calories': 160.19647014238535, 'Sodium': 208.88438917828935, 'Sugar': 5.0678265477346995, 'Fat': 7.223911463864513, 'Carbs': 15.86343833780161, 'Fiber': 1.848473703567488, 'Potass.': 104.37041719342605, 'Iron': 6.258771929824562, 'Calcium': 5.180345572354212, 'Sat Fat': 1.7730337078651686, 'Chol': 21.376996805111823, 'Vit A': 39.170731707317074, 'Vit C': 14.303571428571429, 'Trn Fat': 0.29411764705882354, 'Mon Fat': 0.28846153846153844, 'Ply Fat': 0.12727272727272726}, {'Protein': 6.812315671717685, 'Calories': 141.01493212669683, 'Sodium': 219.2555835168292, 'Sugar': 4.915509355509355, 'Fat': 5.391960580912863, 'Carbs': 14.047092993102018, 'Fiber': 1.4549585368624334, 'Potass.': 88.35389988358557, 'Iron': 5.1380880121396055, 'Calcium': 4.990011098779134, 'Sat Fat': 1.6118143459915613, 'Chol': 19.73541963015647, 'Vit A': 4.285714285714286, 'Vit C': 5.608695652173913, 'Trn Fat': 0.18181818181818182, 'Mon Fat': 0.36585365853658536, 'Ply Fat': 0.10606060606060606}, {'Protein': 6.8916577390656295, 'Calories': 136.57610647998894, 'Sodium': 188.3151493598862, 'Sugar': 4.697466007416564, 'Fat': 5.292486371178004, 'Carbs': 13.78293064983149, 'Fiber': 1.449667221297837, 'Potass.': 95.82556987115956, 'Iron': 5.743165467625899, 'Calcium': 4.974409448818897, 'Sat Fat': 1.8960498960498962, 'Chol': 27.905982905982906, 'Vit A': 9.787234042553191, 'Vit C': 19.816901408450704, 'Trn Fat': 0.3333333333333333, 'Mon Fat': 0.49056603773584906, 'Ply Fat': 0.1320754716981132}, {'Protein': 6.775157720550212, 'Calories': 128.39544386556338, 'Sodium': 182.53081955007178, 'Sugar': 4.731663890643846, 'Fat': 4.855397507217802, 'Carbs': 13.225612316305108, 'Fiber': 1.5176822429906542, 'Potass.': 95.42667771333886, 'Iron': 4.797752808988764, 'Calcium': 4.890813253012048, 'Sat Fat': 1.520485584218513, 'Chol': 21.724177071509647, 'Vit A': 7.886792452830188, 'Vit C': 21.70886075949367, 'Trn Fat': 0.3333333333333333, 'Mon Fat': 0.2535211267605634, 'Ply Fat': 0.15384615384615385}, {'Protein': 6.694118459201988, 'Calories': 127.17777398429499, 'Sodium': 181.12491351322583, 'Sugar': 4.68432874503254, 'Fat': 4.891346526969344, 'Carbs': 13.086212350191545, 'Fiber': 1.509996199163816, 'Potass.': 103.19782971619365, 'Iron': 4.923852183650616, 'Calcium': 5.231417624521073, 'Sat Fat': 1.5206508135168961, 'Chol': 18.167585446527013, 'Vit A': 13.063829787234043, 'Vit C': 13.592233009708737, 'Trn Fat': 0.20833333333333334, 'Mon Fat': 0.22580645161290322, 'Ply Fat': 0.1643835616438356}, {'Protein': 6.871233113959127, 'Calories': 141.9411260237554, 'Sodium': 190.265617613291, 'Sugar': 4.687262912168077, 'Fat': 5.183050547113808, 'Carbs': 13.862186134768987, 'Fiber': 1.4465797735705452, 'Potass.': 104.433908045977, 'Iron': 4.817635270541082, 'Calcium': 5.233722871452421, 'Sat Fat': 1.8534850640113798, 'Chol': 24.130904183535762, 'Vit A': 14.622222222222222, 'Vit C': 15.3, 'Trn Fat': 0.2391304347826087, 'Mon Fat': 0.37735849056603776, 'Ply Fat': 0.3}, {'Protein': 6.6500455622380175, 'Calories': 137.50929595733948, 'Sodium': 189.30017334899065, 'Sugar': 4.9651588874872346, 'Fat': 5.301532966215211, 'Carbs': 13.914053813653547, 'Fiber': 1.4662332385209265, 'Potass.': 95.12328767123287, 'Iron': 4.985981308411215, 'Calcium': 5.663670411985018, 'Sat Fat': 1.6989247311827957, 'Chol': 20.87682926829268, 'Vit A': 25.486486486486488, 'Vit C': 12.473684210526315, 'Trn Fat': 0.02127659574468085, 'Mon Fat': 0.3620689655172414, 'Ply Fat': 0.19047619047619047}, {'Protein': 6.878292184209723, 'Calories': 130.9431043840077, 'Sodium': 190.4138422625891, 'Sugar': 4.510493046776233, 'Fat': 5.0102437961204345, 'Carbs': 13.414654557852648, 'Fiber': 1.5151829563533237, 'Potass.': 106.26720351390922, 'Iron': 4.462075848303393, 'Calcium': 5.806430446194225, 'Sat Fat': 1.6840390879478828, 'Chol': 21.38894373149062, 'Vit A': 39.01754385964912, 'Vit C': 13.231884057971014, 'Trn Fat': 0.1780821917808219, 'Mon Fat': 0.4305555555555556, 'Ply Fat': 0.15}, {'Protein': 6.816078854150624, 'Calories': 132.47559155830314, 'Sodium': 186.35574667709147, 'Sugar': 4.729170910572418, 'Fat': 5.05010824887829, 'Carbs': 13.427598971077233, 'Fiber': 1.467416684355763, 'Potass.': 93.61639824304538, 'Iron': 4.786150712830957, 'Calcium': 5.78699070764832, 'Sat Fat': 1.5760626398210291, 'Chol': 22.456872037914692, 'Vit A': 20.47761194029851, 'Vit C': 13.422018348623853, 'Trn Fat': 0.15584415584415584, 'Mon Fat': 0.49333333333333335, 'Ply Fat': 0.14285714285714285}, {'Protein': 6.605468399820708, 'Calories': 129.12740810778868, 'Sodium': 181.40725788563063, 'Sugar': 4.499247463222799, 'Fat': 4.990970103721781, 'Carbs': 13.079475238182205, 'Fiber': 1.4662157450665922, 'Potass.': 103.3170359052712, 'Iron': 4.590120861797162, 'Calcium': 4.657162253903598, 'Sat Fat': 1.4755381604696673, 'Chol': 18.40487804878049, 'Vit A': 23.603174603174605, 'Vit C': 10.466101694915254, 'Trn Fat': 0.18461538461538463, 'Mon Fat': 0.46938775510204084, 'Ply Fat': 0.2}, {'Protein': 6.596462369128946, 'Calories': 118.44158869581821, 'Sodium': 170.90134333565945, 'Sugar': 4.457328415145496, 'Fat': 4.45162118906957, 'Carbs': 12.37857702861623, 'Fiber': 1.4958452466047176, 'Potass.': 112.7699214365881, 'Iron': 4.721783876500858, 'Calcium': 5.265065502183406, 'Sat Fat': 1.3845663265306123, 'Chol': 18.441420118343196, 'Vit A': 4.897058823529412, 'Vit C': 13.922705314009661, 'Trn Fat': 0.06976744186046512, 'Mon Fat': 0.8, 'Ply Fat': 0.19718309859154928}, {'Protein': 6.663324865713898, 'Calories': 119.34326729830606, 'Sodium': 171.75893560528695, 'Sugar': 4.57096448621712, 'Fat': 4.5108965079616885, 'Carbs': 12.508756429889662, 'Fiber': 1.4902858667140888, 'Potass.': 110.78914641040136, 'Iron': 4.75181758096497, 'Calcium': 5.2604588394062075, 'Sat Fat': 1.2644927536231885, 'Chol': 17.7361677344205, 'Vit A': 4.205479452054795, 'Vit C': 12.483720930232558, 'Trn Fat': 0.09316770186335403, 'Mon Fat': 0.43478260869565216, 'Ply Fat': 0.1891891891891892}, {'Protein': 6.5421196189271456, 'Calories': 119.65517376101268, 'Sodium': 170.46086803415793, 'Sugar': 4.611107554417414, 'Fat': 4.499584810126582, 'Carbs': 12.622422009531055, 'Fiber': 1.498110424923956, 'Potass.': 105.40588235294118, 'Iron': 4.808605851979346, 'Calcium': 5.486877828054299, 'Sat Fat': 1.3119899560577526, 'Chol': 17.8099173553719, 'Vit A': 8.851851851851851, 'Vit C': 12.146666666666667, 'Trn Fat': 0.05185185185185185, 'Mon Fat': 0.7466666666666667, 'Ply Fat': 0.25757575757575757}, {'Protein': 6.569238003721044, 'Calories': 122.09150273942139, 'Sodium': 174.3969384339146, 'Sugar': 4.5113954945743595, 'Fat': 4.573466775770546, 'Carbs': 12.62772449869224, 'Fiber': 1.4779883040935673, 'Potass.': 112.31958762886597, 'Iron': 5.290545454545454, 'Calcium': 5.334653465346535, 'Sat Fat': 1.3773809523809524, 'Chol': 18.190126751167444, 'Vit A': 10.60377358490566, 'Vit C': 16.742268041237114, 'Trn Fat': 0.0392156862745098, 'Mon Fat': 0.4888888888888889, 'Ply Fat': 0.6}, {'Protein': 6.690603322380431, 'Calories': 128.1225244733162, 'Sodium': 179.2962634665212, 'Sugar': 4.546591116797661, 'Fat': 4.830705898863264, 'Carbs': 13.140308604791251, 'Fiber': 1.4975707646810308, 'Potass.': 103.50738599871548, 'Iron': 5.008169934640523, 'Calcium': 5.628, 'Sat Fat': 1.5364145658263306, 'Chol': 22.02625975869411, 'Vit A': 19.63157894736842, 'Vit C': 13.85645933014354, 'Trn Fat': 0, 'Mon Fat': 0.352112676056338, 'Ply Fat': 0.3333333333333333}, {'Protein': 6.74864552101415, 'Calories': 136.3874032919674, 'Sodium': 193.5682241509135, 'Sugar': 4.709173851176027, 'Fat': 5.210011584988011, 'Carbs': 13.697458351131996, 'Fiber': 1.4223806911684038, 'Potass.': 99.0656836461126, 'Iron': 5.288929719797887, 'Calcium': 5.268218003674219, 'Sat Fat': 1.6451612903225807, 'Chol': 22.20780195048762, 'Vit A': 10.78125, 'Vit C': 7.981927710843373, 'Trn Fat': 0.02, 'Mon Fat': 0.4827586206896552, 'Ply Fat': 0.11688311688311688}, {'Protein': 6.897387086679879, 'Calories': 131.94538053279746, 'Sodium': 187.68568991586864, 'Sugar': 4.717639251793787, 'Fat': 5.289712637538725, 'Carbs': 13.631259925886713, 'Fiber': 1.4434467064395105, 'Potass.': 100.63824117255163, 'Iron': 5.178015564202335, 'Calcium': 5.195665634674922, 'Sat Fat': 1.5933280381254964, 'Chol': 23.571658615136876, 'Vit A': 10.011764705882353, 'Vit C': 6.6, 'Trn Fat': 0.014285714285714285, 'Mon Fat': 0.546875, 'Ply Fat': 0.1875}, {'Protein': 6.568082382835636, 'Calories': 118.5313987757878, 'Sodium': 167.69349704411096, 'Sugar': 4.484270734032412, 'Fat': 4.467373891298402, 'Carbs': 12.353594264677389, 'Fiber': 1.488055211466997, 'Potass.': 98.72444678609062, 'Iron': 4.805747544561659, 'Calcium': 5.134186818397345, 'Sat Fat': 1.2568866111467007, 'Chol': 18.3770783847981, 'Vit A': 6.564102564102564, 'Vit C': 7.714975845410628, 'Trn Fat': 0.018867924528301886, 'Mon Fat': 0.5166666666666667, 'Ply Fat': 0.24096385542168675}, {'Protein': 6.602295341692911, 'Calories': 118.97315743317955, 'Sodium': 171.79388106865844, 'Sugar': 4.484260671918299, 'Fat': 4.479037787146853, 'Carbs': 12.452446581823159, 'Fiber': 1.5174418604651163, 'Potass.': 100.89641873278237, 'Iron': 4.945260837619397, 'Calcium': 5.21324200913242, 'Sat Fat': 1.2420461634435433, 'Chol': 18.706443914081145, 'Vit A': 11.824074074074074, 'Vit C': 11.12442396313364, 'Trn Fat': 0.031914893617021274, 'Mon Fat': 0.25, 'Ply Fat': 0.125}, {'Protein': 6.637742157537614, 'Calories': 121.14091350826045, 'Sodium': 171.3408439164277, 'Sugar': 4.44536069495153, 'Fat': 4.57482151835093, 'Carbs': 12.620238783360906, 'Fiber': 1.5163230240549828, 'Potass.': 103.06096897114861, 'Iron': 4.866866118175019, 'Calcium': 4.927610208816706, 'Sat Fat': 1.3355134074558535, 'Chol': 17.66771159874608, 'Vit A': 6.494252873563219, 'Vit C': 11.064705882352941, 'Trn Fat': 0.14414414414414414, 'Mon Fat': 0.25925925925925924, 'Ply Fat': 0.15492957746478872}, {'Protein': 7.159017754114623, 'Calories': 121.71137609539434, 'Sodium': 175.41495428623156, 'Sugar': 4.421888591771642, 'Fat': 4.6620975256237704, 'Carbs': 12.627161760180531, 'Fiber': 1.5073889307228916, 'Potass.': 100.59828080229227, 'Iron': 5.163233579479207, 'Calcium': 5.3506069094304385, 'Sat Fat': 1.3344370860927153, 'Chol': 19.133376288659793, 'Vit A': 6.333333333333333, 'Vit C': 13.089385474860336, 'Trn Fat': 0.03125, 'Mon Fat': 0.2727272727272727, 'Ply Fat': 0.16216216216216217}, {'Protein': 6.717427857305158, 'Calories': 129.30430192070088, 'Sodium': 181.56153050672182, 'Sugar': 4.593863077145752, 'Fat': 4.862174863896515, 'Carbs': 13.25312140059894, 'Fiber': 1.5005340168749333, 'Potass.': 99.08717948717948, 'Iron': 5.16622691292876, 'Calcium': 5.225172596919808, 'Sat Fat': 1.4222048475371385, 'Chol': 20.355025307302963, 'Vit A': 15.847222222222221, 'Vit C': 11.891891891891891, 'Trn Fat': 0.16822429906542055, 'Mon Fat': 0.24074074074074073, 'Ply Fat': 0.14285714285714285}, {'Protein': 6.853768844221105, 'Calories': 138.54443312168482, 'Sodium': 191.2808748688862, 'Sugar': 4.733308153930085, 'Fat': 5.315557716724748, 'Carbs': 13.764472449389999, 'Fiber': 1.4423711601929423, 'Potass.': 99.34231609613984, 'Iron': 5.164670658682635, 'Calcium': 4.677575757575758, 'Sat Fat': 1.521375464684015, 'Chol': 24.345024469820554, 'Vit A': 19.23170731707317, 'Vit C': 7.472, 'Trn Fat': 0.046875, 'Mon Fat': 0.25, 'Ply Fat': 0.2318840579710145}, {'Protein': 6.768488150655946, 'Calories': 135.19480621371412, 'Sodium': 187.07900475040884, 'Sugar': 4.686241398235319, 'Fat': 5.266362334891008, 'Carbs': 13.51856033115609, 'Fiber': 1.458890649762282, 'Potass.': 108.61202908129545, 'Iron': 5.182587064676617, 'Calcium': 5.114249037227214, 'Sat Fat': 1.501926782273603, 'Chol': 18.99664147774979, 'Vit A': 13.956521739130435, 'Vit C': 9.761290322580646, 'Trn Fat': 0.04878048780487805, 'Mon Fat': 0.3333333333333333, 'Ply Fat': 0.23404255319148937}, {'Protein': 6.676654207495707, 'Calories': 122.98010358135535, 'Sodium': 173.40765987980984, 'Sugar': 4.519723897687321, 'Fat': 4.647258642473953, 'Carbs': 12.83061675812925, 'Fiber': 1.5388149939540507, 'Potass.': 105.65709892362891, 'Iron': 5.11757766417617, 'Calcium': 5.396726047183438, 'Sat Fat': 1.4363512593601089, 'Chol': 20.563286944996687, 'Vit A': 14.202702702702704, 'Vit C': 13.486486486486486, 'Trn Fat': 0, 'Mon Fat': 0.28846153846153844, 'Ply Fat': 0.3157894736842105}, {'Protein': 6.550402387879246, 'Calories': 119.35039877472497, 'Sodium': 169.89379565107885, 'Sugar': 4.527990274565617, 'Fat': 4.491034376266672, 'Carbs': 12.578008687831295, 'Fiber': 1.5078191513196217, 'Potass.': 106.91617090319092, 'Iron': 4.947193500738552, 'Calcium': 5.4382632293080055, 'Sat Fat': 1.4130154639175259, 'Chol': 18.713399503722083, 'Vit A': 8.9, 'Vit C': 12.684466019417476, 'Trn Fat': 0.021052631578947368, 'Mon Fat': 0.22807017543859648, 'Ply Fat': 0.3146067415730337}, {'Protein': 6.710306087355268, 'Calories': 136.31458679558847, 'Sodium': 184.55759821251803, 'Sugar': 9.610866417280077, 'Fat': 4.584293357285118, 'Carbs': 16.67429390014906, 'Fiber': 1.5330274395784118, 'Potass.': 104.40568616730454, 'Iron': 4.805296531145095, 'Calcium': 5.459276018099548, 'Sat Fat': 1.213552361396304, 'Chol': 20.71818181818182, 'Vit A': 12.481481481481481, 'Vit C': 12.734567901234568, 'Trn Fat': 0.031578947368421054, 'Mon Fat': 0.2830188679245283, 'Ply Fat': 0.4175824175824176}, {'Protein': 6.59641167192429, 'Calories': 121.70511221945137, 'Sodium': 174.8411752739109, 'Sugar': 4.527406209170659, 'Fat': 4.578564079804725, 'Carbs': 12.777429904678339, 'Fiber': 1.5306255531231077, 'Potass.': 100.26335272342676, 'Iron': 4.963498098859316, 'Calcium': 5.218340611353712, 'Sat Fat': 1.3313868613138686, 'Chol': 20.18709209572154, 'Vit A': 12.794642857142858, 'Vit C': 11.420212765957446, 'Trn Fat': 0.009900990099009901, 'Mon Fat': 0.38461538461538464, 'Ply Fat': 0.22535211267605634}, {'Protein': 6.789649190005182, 'Calories': 130.28140714698947, 'Sodium': 183.2756953642384, 'Sugar': 4.726724077080539, 'Fat': 4.9416135636890655, 'Carbs': 13.354715349070133, 'Fiber': 1.522644927536232, 'Potass.': 102.57868649318463, 'Iron': 5.167630057803469, 'Calcium': 5.598493003229279, 'Sat Fat': 1.4474845542806707, 'Chol': 21.02753036437247, 'Vit A': 13.217391304347826, 'Vit C': 14.517006802721088, 'Trn Fat': 0, 'Mon Fat': 0.2641509433962264, 'Ply Fat': 0.18571428571428572}, {'Protein': 6.872173689619733, 'Calories': 139.6704669527461, 'Sodium': 193.01611509710378, 'Sugar': 4.907089194373402, 'Fat': 5.322267927791024, 'Carbs': 13.867541766109785, 'Fiber': 1.4679877092870133, 'Potass.': 89.93338160753078, 'Iron': 5.268243583291394, 'Calcium': 5.732666666666667, 'Sat Fat': 1.6630218687872764, 'Chol': 25.036412078152754, 'Vit A': 13.696428571428571, 'Vit C': 8.856115107913668, 'Trn Fat': 0, 'Mon Fat': 0.2641509433962264, 'Ply Fat': 0.40298507462686567}, {'Protein': 6.750276470436952, 'Calories': 134.2384517443341, 'Sodium': 187.40135253219862, 'Sugar': 4.7541417626058005, 'Fat': 5.222260219918978, 'Carbs': 13.654689006436147, 'Fiber': 1.471254958755746, 'Potass.': 103.3632447954056, 'Iron': 5.740758754863813, 'Calcium': 5.518321119253831, 'Sat Fat': 1.5869365225390983, 'Chol': 20.064635272391506, 'Vit A': 13.083333333333334, 'Vit C': 15.352941176470589, 'Trn Fat': 0, 'Mon Fat': 0.28, 'Ply Fat': 0.5538461538461539}, {'Protein': 6.618864852291231, 'Calories': 119.62423174864539, 'Sodium': 168.4542724776939, 'Sugar': 4.571768873686782, 'Fat': 4.475880876627868, 'Carbs': 12.656752584370665, 'Fiber': 1.5767898923724848, 'Potass.': 107.55842696629213, 'Iron': 4.7991710625470985, 'Calcium': 5.225791647544745, 'Sat Fat': 1.2887517146776406, 'Chol': 18.90580204778157, 'Vit A': 28.3375, 'Vit C': 19.303571428571427, 'Trn Fat': 0, 'Mon Fat': 0.2641509433962264, 'Ply Fat': 0.25806451612903225}, {'Protein': 6.604328920668664, 'Calories': 120.55478523272026, 'Sodium': 171.0941159668666, 'Sugar': 4.537108367959722, 'Fat': 4.555742009357787, 'Carbs': 12.597197556644094, 'Fiber': 1.5445211786372008, 'Potass.': 95.55764966740577, 'Iron': 4.981530343007916, 'Calcium': 5.285714285714286, 'Sat Fat': 1.4248841826604897, 'Chol': 16.503551136363637, 'Vit A': 21.025641025641026, 'Vit C': 9.553072625698324, 'Trn Fat': 0, 'Mon Fat': 0.2153846153846154, 'Ply Fat': 0.34523809523809523}, {'Protein': 6.611690252945858, 'Calories': 120.60582162867449, 'Sodium': 174.5257672597455, 'Sugar': 4.497767924929393, 'Fat': 4.546425098724029, 'Carbs': 12.667973113327715, 'Fiber': 1.530067332249826, 'Potass.': 101.16088840736728, 'Iron': 4.705796038151137, 'Calcium': 5.133038782523319, 'Sat Fat': 1.396792189679219, 'Chol': 19.695955369595538, 'Vit A': 17.203125, 'Vit C': 10.450495049504951, 'Trn Fat': 0, 'Mon Fat': 0.44, 'Ply Fat': 0.48}, {'Protein': 6.8445975032285835, 'Calories': 123.6710977614515, 'Sodium': 178.11972813884339, 'Sugar': 4.631933960749045, 'Fat': 4.654408070997991, 'Carbs': 12.86088379705401, 'Fiber': 1.51287020473067, 'Potass.': 100.33295063145809, 'Iron': 4.759830377794911, 'Calcium': 5.759297520661157, 'Sat Fat': 1.3187365398420674, 'Chol': 21.112156295224313, 'Vit A': 15.860869565217392, 'Vit C': 11.067039106145252, 'Trn Fat': 0.022222222222222223, 'Mon Fat': 0.3103448275862069, 'Ply Fat': 0.21348314606741572}, {'Protein': 6.7486847899140185, 'Calories': 158.37103065345082, 'Sodium': 184.33858620689657, 'Sugar': 4.66415613571351, 'Fat': 8.064474807856532, 'Carbs': 13.463910268443778, 'Fiber': 1.5198930123704446, 'Potass.': 98.953125, 'Iron': 4.5122053872053876, 'Calcium': 5.327413984461709, 'Sat Fat': 1.4688, 'Chol': 20.8986013986014, 'Vit A': 14.962962962962964, 'Vit C': 10.35135135135135, 'Trn Fat': 0.017699115044247787, 'Mon Fat': 0.5373134328358209, 'Ply Fat': 0.4305555555555556}, {'Protein': 6.927911630074282, 'Calories': 140.13744127311733, 'Sodium': 197.3287521726828, 'Sugar': 4.75341707472855, 'Fat': 5.3541467528816415, 'Carbs': 13.989189038963927, 'Fiber': 1.473909553117474, 'Potass.': 102.02621127879269, 'Iron': 5.0767624020887725, 'Calcium': 5.202547770700637, 'Sat Fat': 1.6227364185110664, 'Chol': 26.679961089494164, 'Vit A': 14.304347826086957, 'Vit C': 13.166666666666666, 'Trn Fat': 0, 'Mon Fat': 0.35294117647058826, 'Ply Fat': 0.3728813559322034}, {'Protein': 6.865132693393563, 'Calories': 140.0256768461345, 'Sodium': 196.04679823465733, 'Sugar': 4.683194131424279, 'Fat': 5.419341836294015, 'Carbs': 13.640535975033641, 'Fiber': 1.463199889943596, 'Potass.': 100.54875283446712, 'Iron': 4.832357637040979, 'Calcium': 4.7204803202134755, 'Sat Fat': 1.7115568290353391, 'Chol': 18.90687830687831, 'Vit A': 14.524390243902438, 'Vit C': 9.547770700636942, 'Trn Fat': 0.015625, 'Mon Fat': 0.53125, 'Ply Fat': 0.6170212765957447}, {'Protein': 6.633707955527855, 'Calories': 120.22549544724157, 'Sodium': 168.51957521481302, 'Sugar': 4.4013271230779045, 'Fat': 4.571314201256312, 'Carbs': 12.501067051482693, 'Fiber': 1.5223022255470358, 'Potass.': 109.7005193306405, 'Iron': 5.474246470812667, 'Calcium': 4.9833005893909625, 'Sat Fat': 1.4740843123704215, 'Chol': 19.935693641618496, 'Vit A': 14.571428571428571, 'Vit C': 16.838541666666668, 'Trn Fat': 0.0364963503649635, 'Mon Fat': 0.3442622950819672, 'Ply Fat': 0.3409090909090909}, {'Protein': 6.561972744970798, 'Calories': 120.10288169868554, 'Sodium': 166.7218243719183, 'Sugar': 4.502370981647986, 'Fat': 4.533382908593938, 'Carbs': 12.557707604199809, 'Fiber': 1.5367141855573732, 'Potass.': 106.5438961038961, 'Iron': 5.215234375, 'Calcium': 5.411931818181818, 'Sat Fat': 1.388080388080388, 'Chol': 16.890780141843972, 'Vit A': 15.357142857142858, 'Vit C': 21.253086419753085, 'Trn Fat': 0.024193548387096774, 'Mon Fat': 0.3050847457627119, 'Ply Fat': 0.7317073170731707}, {'Protein': 6.596511766339934, 'Calories': 121.63350415267715, 'Sodium': 169.32095114160654, 'Sugar': 4.525630593978844, 'Fat': 4.581241877842755, 'Carbs': 12.633009474867512, 'Fiber': 1.5631741862864648, 'Potass.': 100.62873623492396, 'Iron': 5.549922600619195, 'Calcium': 5.12592936802974, 'Sat Fat': 1.4325842696629214, 'Chol': 19.546511627906977, 'Vit A': 9.22972972972973, 'Vit C': 25.099009900990097, 'Trn Fat': 0.08888888888888889, 'Mon Fat': 0.3333333333333333, 'Ply Fat': 0.4153846153846154}, {'Protein': 6.658298841059603, 'Calories': 122.76210271952817, 'Sodium': 171.64448222565687, 'Sugar': 4.504704235439659, 'Fat': 4.657379613579673, 'Carbs': 12.639592418651459, 'Fiber': 1.559484903175455, 'Potass.': 101.81141868512111, 'Iron': 5.170673076923077, 'Calcium': 5.523977788995457, 'Sat Fat': 1.3909830007390982, 'Chol': 22.049253731343285, 'Vit A': 21.866666666666667, 'Vit C': 43.711229946524064, 'Trn Fat': 0.25203252032520324, 'Mon Fat': 0.2727272727272727, 'Ply Fat': 0.48598130841121495}, {'Protein': 6.7896277708071935, 'Calories': 130.8694293852798, 'Sodium': 182.7346514768517, 'Sugar': 4.659911221074079, 'Fat': 4.892906385204203, 'Carbs': 13.403628652214891, 'Fiber': 1.569189308106919, 'Potass.': 93.80913126188966, 'Iron': 4.942626434339141, 'Calcium': 4.945072697899838, 'Sat Fat': 1.455421686746988, 'Chol': 19.47472353870458, 'Vit A': 14.989247311827956, 'Vit C': 40.021857923497265, 'Trn Fat': 0.18518518518518517, 'Mon Fat': 0.4067796610169492, 'Ply Fat': 0.3924050632911392}, {'Protein': 6.863676672130707, 'Calories': 140.4012063559547, 'Sodium': 194.67768529212634, 'Sugar': 4.797573060127645, 'Fat': 5.366201813748322, 'Carbs': 13.967477021808886, 'Fiber': 1.4675721341304913, 'Potass.': 94.89414255469302, 'Iron': 5.275862068965517, 'Calcium': 5.126637554585153, 'Sat Fat': 1.5418250950570342, 'Chol': 23.261174408413673, 'Vit A': 15.177777777777777, 'Vit C': 45.2972972972973, 'Trn Fat': 0.012345679012345678, 'Mon Fat': 0.37037037037037035, 'Ply Fat': 0.3888888888888889}, {'Protein': 6.78414585810543, 'Calories': 134.1953586939459, 'Sodium': 184.5474961585438, 'Sugar': 4.762161494773232, 'Fat': 5.229019184004323, 'Carbs': 13.465088884129363, 'Fiber': 1.4585910105196047, 'Potass.': 107.14092140921409, 'Iron': 5.275627615062762, 'Calcium': 4.794099183929692, 'Sat Fat': 1.4827264239028946, 'Chol': 21.608228980322004, 'Vit A': 9.838709677419354, 'Vit C': 27.080357142857142, 'Trn Fat': 0.018518518518518517, 'Mon Fat': 0.4166666666666667, 'Ply Fat': 0.3787878787878788}, {'Protein': 6.754137069705721, 'Calories': 118.7548571318323, 'Sodium': 168.64334466033517, 'Sugar': 4.484748152917011, 'Fat': 4.479020629880375, 'Carbs': 12.428797311987351, 'Fiber': 1.5784331882581721, 'Potass.': 110.5, 'Iron': 4.71157495256167, 'Calcium': 5.035865974516281, 'Sat Fat': 1.4168882978723405, 'Chol': 16.086500655307994, 'Vit A': 13.35483870967742, 'Vit C': 39.40449438202247, 'Trn Fat': 0.0440251572327044, 'Mon Fat': 0.25806451612903225, 'Ply Fat': 0.328125}, {'Protein': 6.5896044974849595, 'Calories': 119.12767782304438, 'Sodium': 165.42086089820185, 'Sugar': 4.5116879882964485, 'Fat': 4.494652029408803, 'Carbs': 12.412610597375622, 'Fiber': 1.5164014744995566, 'Potass.': 106.71285563751317, 'Iron': 4.705024932873034, 'Calcium': 5.1185011709601875, 'Sat Fat': 1.4550898203592815, 'Chol': 18.230864965774735, 'Vit A': 12.772727272727273, 'Vit C': 41.075471698113205, 'Trn Fat': 0.0234375, 'Mon Fat': 0.3333333333333333, 'Ply Fat': 0.27058823529411763}, {'Protein': 6.64830456353274, 'Calories': 121.56833134273973, 'Sodium': 169.63022008169239, 'Sugar': 4.512507215701366, 'Fat': 4.556282941520957, 'Carbs': 12.69210176807504, 'Fiber': 1.540302693293361, 'Potass.': 106.00790960451977, 'Iron': 4.793608009241432, 'Calcium': 5.506425511661114, 'Sat Fat': 1.2692579505300354, 'Chol': 17.79205921938089, 'Vit A': 21.175675675675677, 'Vit C': 18.459183673469386, 'Trn Fat': 0.03496503496503497, 'Mon Fat': 0.25806451612903225, 'Ply Fat': 0.38372093023255816}, {'Protein': 6.7045562925391256, 'Calories': 123.27950390524418, 'Sodium': 173.14938691660782, 'Sugar': 4.601845522898154, 'Fat': 4.660012407497674, 'Carbs': 12.801486759919063, 'Fiber': 1.509239074016402, 'Potass.': 103.50817686250757, 'Iron': 4.917365269461078, 'Calcium': 5.00714650331802, 'Sat Fat': 1.227176220806794, 'Chol': 14.955801104972375, 'Vit A': 7.088235294117647, 'Vit C': 67.29081632653062, 'Trn Fat': 0.009345794392523364, 'Mon Fat': 0.2857142857142857, 'Ply Fat': 0.21686746987951808}, {'Protein': 6.786468330134357, 'Calories': 132.82872140982377, 'Sodium': 184.12274082179377, 'Sugar': 4.8370103378619245, 'Fat': 5.022236553592158, 'Carbs': 13.478219696969697, 'Fiber': 1.496401151631478, 'Potass.': 97.0306886227545, 'Iron': 4.948332550493189, 'Calcium': 5.202818627450981, 'Sat Fat': 1.4854445318646734, 'Chol': 18.45709828393136, 'Vit A': 10.896103896103897, 'Vit C': 48.883720930232556, 'Trn Fat': 0.04854368932038835, 'Mon Fat': 0.28, 'Ply Fat': 0.21176470588235294}, {'Protein': 6.939113939542284, 'Calories': 146.05182917588579, 'Sodium': 192.7437291542925, 'Sugar': 5.067811934900543, 'Fat': 5.710699305077318, 'Carbs': 14.30502362596369, 'Fiber': 1.4291204730229121, 'Potass.': 97.93720190779014, 'Iron': 4.930760499432463, 'Calcium': 5.566340782122905, 'Sat Fat': 1.5768421052631578, 'Chol': 19.80825958702065, 'Vit A': 5.076923076923077, 'Vit C': 9.71551724137931, 'Trn Fat': 0.012048192771084338, 'Mon Fat': 0.2033898305084746, 'Ply Fat': 0.21794871794871795}, {'Protein': 6.7711472123124095, 'Calories': 136.0045280593614, 'Sodium': 188.17898678414096, 'Sugar': 4.752256023816169, 'Fat': 5.314018241473766, 'Carbs': 13.556072382438556, 'Fiber': 1.4226767889779277, 'Potass.': 107.34362307067425, 'Iron': 5.199780461031833, 'Calcium': 5.376821651630812, 'Sat Fat': 1.5052531041069723, 'Chol': 21.397196261682243, 'Vit A': 11.327586206896552, 'Vit C': 14.626373626373626, 'Trn Fat': 0.011627906976744186, 'Mon Fat': 0.22916666666666666, 'Ply Fat': 0.3472222222222222}, {'Protein': 6.750747801241127, 'Calories': 125.35233950426368, 'Sodium': 174.06004018048282, 'Sugar': 4.64978696654327, 'Fat': 4.7634080880680525, 'Carbs': 12.811797752808989, 'Fiber': 1.5061654948620875, 'Potass.': 101.9734219269103, 'Iron': 5.7490144546649145, 'Calcium': 5.298275862068966, 'Sat Fat': 1.3070987654320987, 'Chol': 17.9375, 'Vit A': 5.3428571428571425, 'Vit C': 10.041958041958042, 'Trn Fat': 0.013513513513513514, 'Mon Fat': 0.4406779661016949, 'Ply Fat': 0.4111111111111111}, {'Protein': 6.6453468552923125, 'Calories': 123.04582744585275, 'Sodium': 171.01928722497553, 'Sugar': 4.60552467576217, 'Fat': 4.640840631995306, 'Carbs': 12.778885668555608, 'Fiber': 1.547503943819653, 'Potass.': 114.2347723240686, 'Iron': 5.57495741056218, 'Calcium': 5.566959385290889, 'Sat Fat': 1.3654860587792013, 'Chol': 17.35234215885947, 'Vit A': 6.983050847457627, 'Vit C': 11.61046511627907, 'Trn Fat': 0.006329113924050633, 'Mon Fat': 0.22413793103448276, 'Ply Fat': 0.5056179775280899}, {'Protein': 6.659832246039143, 'Calories': 123.13122711580709, 'Sodium': 170.56070458993622, 'Sugar': 4.728925564388984, 'Fat': 4.645920377546381, 'Carbs': 12.895622317596567, 'Fiber': 1.5387146632098518, 'Potass.': 106.90369935408103, 'Iron': 4.781576830249397, 'Calcium': 5.524324324324325, 'Sat Fat': 1.2933430870519385, 'Chol': 17.34580098800282, 'Vit A': 18.245283018867923, 'Vit C': 8.114285714285714, 'Trn Fat': 0.00684931506849315, 'Mon Fat': 0.36666666666666664, 'Ply Fat': 0.38028169014084506}, {'Protein': 6.638043263856927, 'Calories': 124.43931675806905, 'Sodium': 175.84119737828937, 'Sugar': 4.5799328557089956, 'Fat': 4.727969864119467, 'Carbs': 12.846550268781376, 'Fiber': 1.53588864651501, 'Potass.': 113.30161691542288, 'Iron': 4.478754732856542, 'Calcium': 5.109243697478991, 'Sat Fat': 1.1699248120300751, 'Chol': 16.171974522292995, 'Vit A': 19.477777777777778, 'Vit C': 13.423728813559322, 'Trn Fat': 0, 'Mon Fat': 0.43137254901960786, 'Ply Fat': 0.4177215189873418}, {'Protein': 6.810093844675977, 'Calories': 131.68851938665884, 'Sodium': 184.1978834816361, 'Sugar': 4.809221723657744, 'Fat': 4.964649761486317, 'Carbs': 13.473060317935664, 'Fiber': 1.5078758949880668, 'Potass.': 109.41535433070867, 'Iron': 5.033814247069432, 'Calcium': 4.93780193236715, 'Sat Fat': 1.292336802270577, 'Chol': 15.65721434528774, 'Vit A': 14.142857142857142, 'Vit C': 14.311258278145695, 'Trn Fat': 0.03787878787878788, 'Mon Fat': 0.3191489361702128, 'Ply Fat': 0.4588235294117647}, {'Protein': 6.868978912319645, 'Calories': 138.7262091126308, 'Sodium': 194.5723145621434, 'Sugar': 4.771531987266147, 'Fat': 5.329324882575972, 'Carbs': 13.808538931643277, 'Fiber': 1.4690872751499, 'Potass.': 99.14874815905743, 'Iron': 4.7845303867403315, 'Calcium': 4.957849725106903, 'Sat Fat': 1.575518262586377, 'Chol': 19.359887535145266, 'Vit A': 8.535714285714286, 'Vit C': 13.018987341772151, 'Trn Fat': 0.08, 'Mon Fat': 0.3194444444444444, 'Ply Fat': 0.6551724137931034}, {'Protein': 6.739600619537559, 'Calories': 133.98089380893808, 'Sodium': 183.52624298152818, 'Sugar': 4.676044183638246, 'Fat': 5.193599234385116, 'Carbs': 13.61487264455615, 'Fiber': 1.5579627262329274, 'Potass.': 97.88230940044411, 'Iron': 4.950238221281101, 'Calcium': 5.0504305043050435, 'Sat Fat': 1.5644302449414271, 'Chol': 18.557581573896353, 'Vit A': 17.060606060606062, 'Vit C': 6.294117647058823, 'Trn Fat': 0.023529411764705882, 'Mon Fat': 0.38333333333333336, 'Ply Fat': 0.25925925925925924}, {'Protein': 6.667001229004506, 'Calories': 120.78813885234288, 'Sodium': 170.21894158914137, 'Sugar': 4.575740908502653, 'Fat': 4.542885805049323, 'Carbs': 12.675998421631949, 'Fiber': 1.5410744398940015, 'Potass.': 112.6820809248555, 'Iron': 4.7873448137765315, 'Calcium': 5.683325086590797, 'Sat Fat': 1.3594536304816678, 'Chol': 15.919630156472262, 'Vit A': 23.408450704225352, 'Vit C': 24.03614457831325, 'Trn Fat': 0.018633540372670808, 'Mon Fat': 0.4027777777777778, 'Ply Fat': 0.37349397590361444}, {'Protein': 6.615633644093843, 'Calories': 120.8172680203867, 'Sodium': 171.16650482490743, 'Sugar': 4.59489938105577, 'Fat': 4.579605428499623, 'Carbs': 12.700920817951802, 'Fiber': 1.529681025344512, 'Potass.': 115.87763232783153, 'Iron': 4.992406075139888, 'Calcium': 5.429236499068901, 'Sat Fat': 1.2597035991531405, 'Chol': 19.696629213483146, 'Vit A': 10.679245283018869, 'Vit C': 10.36320754716981, 'Trn Fat': 0.011976047904191617, 'Mon Fat': 0.4838709677419355, 'Ply Fat': 0.45652173913043476}, {'Protein': 6.69245989980213, 'Calories': 122.89332334020361, 'Sodium': 174.2769465744031, 'Sugar': 4.476282221631677, 'Fat': 4.684313472616284, 'Carbs': 12.82986852215487, 'Fiber': 1.5400950400950402, 'Potass.': 104.17632702867603, 'Iron': 5.11372064276885, 'Calcium': 5.118768328445748, 'Sat Fat': 1.3556019485038273, 'Chol': 17.754662840746054, 'Vit A': 10.928571428571429, 'Vit C': 8.985, 'Trn Fat': 0.01948051948051948, 'Mon Fat': 0.3, 'Ply Fat': 0.6304347826086957}, {'Protein': 6.737171161254816, 'Calories': 123.83726307064802, 'Sodium': 175.2976337515439, 'Sugar': 4.6393922497909115, 'Fat': 4.725224922034506, 'Carbs': 12.860447977846759, 'Fiber': 1.5188723326930067, 'Potass.': 115.77986658580959, 'Iron': 4.908193908193908, 'Calcium': 5.807752750130959, 'Sat Fat': 1.3199329983249581, 'Chol': 14.903522205206738, 'Vit A': 8.436781609195402, 'Vit C': 19.0, 'Trn Fat': 0.006896551724137931, 'Mon Fat': 0.5161290322580645, 'Ply Fat': 0.4421052631578947}, {'Protein': 6.812319077705339, 'Calories': 131.1492325326423, 'Sodium': 179.28383793410507, 'Sugar': 4.73362079290933, 'Fat': 4.949122897268378, 'Carbs': 13.437049532280325, 'Fiber': 1.5564945041957214, 'Potass.': 104.92368944923689, 'Iron': 5.128508124076809, 'Calcium': 6.360458452722063, 'Sat Fat': 1.4036300777873811, 'Chol': 17.76733977172959, 'Vit A': 12.388059701492537, 'Vit C': 19.459627329192546, 'Trn Fat': 0.08333333333333333, 'Mon Fat': 0.36619718309859156, 'Ply Fat': 0.3333333333333333}, {'Protein': 6.883293202982217, 'Calories': 141.3306159940295, 'Sodium': 193.11896262526344, 'Sugar': 4.949544626593807, 'Fat': 5.413833875258646, 'Carbs': 14.290284569610558, 'Fiber': 1.4499391151400352, 'Potass.': 99.5109649122807, 'Iron': 4.587576944599888, 'Calcium': 5.769333333333333, 'Sat Fat': 1.8493003229278795, 'Chol': 21.311340206185566, 'Vit A': 7.592592592592593, 'Vit C': 25.15740740740741, 'Trn Fat': 0.08536585365853659, 'Mon Fat': 0.3783783783783784, 'Ply Fat': 0.2073170731707317}, {'Protein': 6.746989646635156, 'Calories': 132.20039527892217, 'Sodium': 189.81889861808523, 'Sugar': 4.674623951723832, 'Fat': 5.1049143644031325, 'Carbs': 13.397058402724126, 'Fiber': 1.431653712141517, 'Potass.': 98.06732117812062, 'Iron': 5.087141339001063, 'Calcium': 6.340367597004765, 'Sat Fat': 1.6185031185031185, 'Chol': 22.33016877637131, 'Vit A': 5.28, 'Vit C': 42.035714285714285, 'Trn Fat': 0, 'Mon Fat': 0.45714285714285713, 'Ply Fat': 0.21518987341772153}, {'Protein': 6.648216180912727, 'Calories': 118.73496677237563, 'Sodium': 167.50673879160172, 'Sugar': 4.435118233339848, 'Fat': 4.465297878100077, 'Carbs': 12.373157807584038, 'Fiber': 1.5548954372623573, 'Potass.': 109.24266365688487, 'Iron': 4.968093093093093, 'Calcium': 5.579648121730861, 'Sat Fat': 1.235251274581209, 'Chol': 18.654303708887333, 'Vit A': 10.520833333333334, 'Vit C': 11.777173913043478, 'Trn Fat': 0.00684931506849315, 'Mon Fat': 0.38271604938271603, 'Ply Fat': 0.24}, {'Protein': 6.723363405520345, 'Calories': 121.53507911198332, 'Sodium': 171.05193432018908, 'Sugar': 4.476173237675245, 'Fat': 4.552094070131892, 'Carbs': 12.702211806064158, 'Fiber': 1.514031715521384, 'Potass.': 110.56346044393854, 'Iron': 4.718822618125484, 'Calcium': 6.071213640922768, 'Sat Fat': 1.3415361670395227, 'Chol': 19.674564459930313, 'Vit A': 10.917808219178083, 'Vit C': 6.591715976331361, 'Trn Fat': 0.01675977653631285, 'Mon Fat': 0.24096385542168675, 'Ply Fat': 0.3253012048192771}, {'Protein': 6.673678874667343, 'Calories': 122.27757218423969, 'Sodium': 170.08474629687993, 'Sugar': 4.540179925199636, 'Fat': 4.584127257835065, 'Carbs': 12.642291939184698, 'Fiber': 1.5385645553295968, 'Potass.': 107.1586592178771, 'Iron': 4.7306800618238025, 'Calcium': 5.98933468765871, 'Sat Fat': 1.2740112994350283, 'Chol': 17.38590369853454, 'Vit A': 24.836734693877553, 'Vit C': 34.69090909090909, 'Trn Fat': 0.018867924528301886, 'Mon Fat': 0.43243243243243246, 'Ply Fat': 0.39759036144578314}, {'Protein': 6.653235977431132, 'Calories': 123.18847468021728, 'Sodium': 173.29703264094957, 'Sugar': 4.579709124203261, 'Fat': 4.662297749254271, 'Carbs': 12.769142651782305, 'Fiber': 1.5340914991950978, 'Potass.': 105.31663788140472, 'Iron': 4.852492789451999, 'Calcium': 5.628739316239316, 'Sat Fat': 1.2702898550724637, 'Chol': 19.04695652173913, 'Vit A': 16.65740740740741, 'Vit C': 15.371134020618557, 'Trn Fat': 0.014705882352941176, 'Mon Fat': 0.30985915492957744, 'Ply Fat': 0.3333333333333333}, {'Protein': 6.831116693758928, 'Calories': 131.00265575128523, 'Sodium': 181.99249084249084, 'Sugar': 4.6462322902070685, 'Fat': 4.944794833781441, 'Carbs': 13.261692761742784, 'Fiber': 1.5664387889929339, 'Potass.': 101.25183211192538, 'Iron': 5.135790947270182, 'Calcium': 6.060227272727273, 'Sat Fat': 1.4227782571182053, 'Chol': 21.9955035971223, 'Vit A': 12.679012345679013, 'Vit C': 17.277456647398843, 'Trn Fat': 0.030303030303030304, 'Mon Fat': 0.23529411764705882, 'Ply Fat': 0.18181818181818182}, {'Protein': 6.992621614665256, 'Calories': 140.64767968307868, 'Sodium': 192.68960075072513, 'Sugar': 4.83903465568192, 'Fat': 5.370898175671737, 'Carbs': 13.871530300828368, 'Fiber': 1.4733783783783785, 'Potass.': 96.76750902527075, 'Iron': 5.001089918256131, 'Calcium': 5.311061618411284, 'Sat Fat': 1.3876404494382022, 'Chol': 53.41574167507568, 'Vit A': 2.9565217391304346, 'Vit C': 6.247787610619469, 'Trn Fat': 0, 'Mon Fat': 0.8507462686567164, 'Ply Fat': 0.36764705882352944}, {'Protein': 6.826049991498045, 'Calories': 134.75264057378197, 'Sodium': 185.5530456852792, 'Sugar': 4.878781078897765, 'Fat': 5.186423066932202, 'Carbs': 13.645934807043837, 'Fiber': 1.486078431372549, 'Potass.': 102.45670391061452, 'Iron': 4.518801089918256, 'Calcium': 5.395714285714286, 'Sat Fat': 1.4923076923076923, 'Chol': 21.157653528872594, 'Vit A': 12.882352941176471, 'Vit C': 10.949579831932773, 'Trn Fat': 0, 'Mon Fat': 0.2857142857142857, 'Ply Fat': 0.189873417721519}, {'Protein': 6.656278008636845, 'Calories': 120.43782978209208, 'Sodium': 165.41800458715596, 'Sugar': 4.535679564456543, 'Fat': 4.5480156836711405, 'Carbs': 12.51983233879127, 'Fiber': 1.5810791537913003, 'Potass.': 110.44736842105263, 'Iron': 4.862000790826413, 'Calcium': 5.66924778761062, 'Sat Fat': 1.3301258327165062, 'Chol': 17.22268326417704, 'Vit A': 7.655172413793103, 'Vit C': 21.642045454545453, 'Trn Fat': 0.026490066225165563, 'Mon Fat': 0.4606741573033708, 'Ply Fat': 0.23809523809523808}, {'Protein': 6.91070072842926, 'Calories': 121.15975204602545, 'Sodium': 170.14870596913997, 'Sugar': 4.514619111975476, 'Fat': 4.617076434186319, 'Carbs': 12.541265160325635, 'Fiber': 1.562940678762809, 'Potass.': 114.33815925542916, 'Iron': 4.833907386146192, 'Calcium': 5.608064516129033, 'Sat Fat': 1.3326488706365502, 'Chol': 16.038970076548363, 'Vit A': 15.914285714285715, 'Vit C': 9.544910179640718, 'Trn Fat': 0.014492753623188406, 'Mon Fat': 0.4470588235294118, 'Ply Fat': 0.1951219512195122}, {'Protein': 6.778790949003715, 'Calories': 122.47378183485473, 'Sodium': 168.89542155045092, 'Sugar': 4.521736170212766, 'Fat': 4.644992686913878, 'Carbs': 12.63249140636676, 'Fiber': 1.5549610894941635, 'Potass.': 114.06164006604293, 'Iron': 4.864623739332816, 'Calcium': 5.993495934959349, 'Sat Fat': 1.2308254200146092, 'Chol': 16.866715758468334, 'Vit A': 9.805555555555555, 'Vit C': 16.96385542168675, 'Trn Fat': 0.006622516556291391, 'Mon Fat': 0.5060240963855421, 'Ply Fat': 0.14457831325301204}, {'Protein': 6.675031911013859, 'Calories': 123.67166227862913, 'Sodium': 171.5497785740847, 'Sugar': 4.589452407203234, 'Fat': 4.6740514387573215, 'Carbs': 12.683507509170186, 'Fiber': 1.561094767808363, 'Potass.': 108.35416666666667, 'Iron': 4.694688414889168, 'Calcium': 5.650525087514586, 'Sat Fat': 1.3003891050583658, 'Chol': 19.21537290715373, 'Vit A': 10.703703703703704, 'Vit C': 6.381944444444445, 'Trn Fat': 0.018867924528301886, 'Mon Fat': 0.625, 'Ply Fat': 0.2}, {'Protein': 6.82085376326214, 'Calories': 132.19688850002734, 'Sodium': 181.00948928891424, 'Sugar': 4.826867816091954, 'Fat': 5.010403486573879, 'Carbs': 13.390483383685801, 'Fiber': 1.5533711486399382, 'Potass.': 103.12516914749662, 'Iron': 4.642966751918158, 'Calcium': 6.035594358629953, 'Sat Fat': 1.3182711198428292, 'Chol': 19.16712580348944, 'Vit A': 20.142857142857142, 'Vit C': 21.916666666666668, 'Trn Fat': 0.08333333333333333, 'Mon Fat': 0.4307692307692308, 'Ply Fat': 0.20987654320987653}, {'Protein': 6.969263102587679, 'Calories': 141.85495886506445, 'Sodium': 193.84508335346703, 'Sugar': 4.8050149504275295, 'Fat': 5.463865265966317, 'Carbs': 13.994116473873156, 'Fiber': 1.448233106013639, 'Potass.': 102.29583005507475, 'Iron': 5.4850657108721625, 'Calcium': 5.112350597609562, 'Sat Fat': 1.825028968713789, 'Chol': 21.567307692307693, 'Vit A': 17.22641509433962, 'Vit C': 4.149606299212598, 'Trn Fat': 0.08, 'Mon Fat': 0.36666666666666664, 'Ply Fat': 0.13333333333333333}, {'Protein': 7.053089869387224, 'Calories': 135.71373910806727, 'Sodium': 185.021325427943, 'Sugar': 4.635181525018204, 'Fat': 5.355769548959264, 'Carbs': 13.292238344355608, 'Fiber': 1.4602545537687677, 'Potass.': 104.36669272869429, 'Iron': 5.415006640106242, 'Calcium': 5.831946755407654, 'Sat Fat': 1.5207631874298542, 'Chol': 22.084175084175083, 'Vit A': 2.1875, 'Vit C': 18.823529411764707, 'Trn Fat': 0.0425531914893617, 'Mon Fat': 1.0833333333333333, 'Ply Fat': 0.44680851063829785}, {'Protein': 6.8498421800833675, 'Calories': 121.50346734027596, 'Sodium': 166.86373097904107, 'Sugar': 4.586936919277061, 'Fat': 4.594399410464259, 'Carbs': 12.498587088915956, 'Fiber': 1.5303569442900034, 'Potass.': 108.53697949036669, 'Iron': 4.67673860911271, 'Calcium': 5.4, 'Sat Fat': 1.4108867427568041, 'Chol': 17.1996685998343, 'Vit A': 5.857142857142857, 'Vit C': 28.069148936170212, 'Trn Fat': 0, 'Mon Fat': 0.765625, 'Ply Fat': 0.3472222222222222}, {'Protein': 6.885776413404963, 'Calories': 122.90993135938805, 'Sodium': 172.0574953356433, 'Sugar': 4.5608062897290065, 'Fat': 4.7104169389622275, 'Carbs': 12.751088308457712, 'Fiber': 1.544636556104446, 'Potass.': 100.769375, 'Iron': 4.5022900763358775, 'Calcium': 4.607358262967431, 'Sat Fat': 1.3320197044334976, 'Chol': 18.0, 'Vit A': 10.55813953488372, 'Vit C': 26.18421052631579, 'Trn Fat': 0, 'Mon Fat': 0.6764705882352942, 'Ply Fat': 0.3287671232876712}, {'Protein': 6.808279229787471, 'Calories': 123.18532044593333, 'Sodium': 173.79760132340778, 'Sugar': 4.552448506342928, 'Fat': 4.7252563119479705, 'Carbs': 12.733093383572815, 'Fiber': 1.5596929713270744, 'Potass.': 105.07880055788006, 'Iron': 4.902398215281651, 'Calcium': 5.16510067114094, 'Sat Fat': 1.2690265486725665, 'Chol': 25.060606060606062, 'Vit A': 10.0, 'Vit C': 9.157894736842104, 'Trn Fat': 0.010416666666666666, 'Mon Fat': 0.75, 'Ply Fat': 0.4230769230769231}, {'Protein': 6.918241829013041, 'Calories': 124.17531226102473, 'Sodium': 179.4089376866031, 'Sugar': 4.556377564405268, 'Fat': 4.778773848225134, 'Carbs': 12.795612801987643, 'Fiber': 1.5725478601522656, 'Potass.': 116.22573007103394, 'Iron': 4.696988322065151, 'Calcium': 5.536679536679537, 'Sat Fat': 1.247697031729785, 'Chol': 18.245737211634903, 'Vit A': 15.770833333333334, 'Vit C': 9.59375, 'Trn Fat': 0.02040816326530612, 'Mon Fat': 0, 'Ply Fat': 0.5625}, {'Protein': 6.944316024106332, 'Calories': 131.1493264545715, 'Sodium': 185.02515915768853, 'Sugar': 4.747649440669823, 'Fat': 4.98700037985903, 'Carbs': 13.437557661662334, 'Fiber': 1.5400302114803626, 'Potass.': 108.8784355179704, 'Iron': 4.766135155656796, 'Calcium': 5.114203454894434, 'Sat Fat': 1.3128272251308901, 'Chol': 20.239837398373982, 'Vit A': 6.615384615384615, 'Vit C': 8.378378378378379, 'Trn Fat': 0.02631578947368421, 'Mon Fat': 2.0, 'Ply Fat': 0}, {'Protein': 7.123704766459429, 'Calories': 141.61826857532378, 'Sodium': 195.22723316718094, 'Sugar': 4.814461239282242, 'Fat': 5.403958904846431, 'Carbs': 14.166747822323217, 'Fiber': 1.4863526570048309, 'Potass.': 104.02747252747253, 'Iron': 4.798786653185036, 'Calcium': 5.346938775510204, 'Sat Fat': 1.41635687732342, 'Chol': 22.267964071856287, 'Vit A': 2.1666666666666665, 'Vit C': 0.6964285714285714, 'Trn Fat': 0, 'Mon Fat': 0, 'Ply Fat': 0.5714285714285714}, {'Protein': 7.045485981805608, 'Calories': 137.32062957309049, 'Sodium': 199.17573391884198, 'Sugar': 4.777409217877095, 'Fat': 5.342058104805865, 'Carbs': 14.011743059689378, 'Fiber': 1.487386958591147, 'Potass.': 115.87219101123596, 'Iron': 5.08485401459854, 'Calcium': 4.859880239520958, 'Sat Fat': 1.5493934142114385, 'Chol': 21.686234817813766, 'Vit A': 3.0, 'Vit C': 33.813559322033896, 'Trn Fat': 0, 'Mon Fat': 0.4, 'Ply Fat': 0.2857142857142857}, {'Protein': 6.64560243453432, 'Calories': 118.04804336526324, 'Sodium': 162.4336338379543, 'Sugar': 4.525969635503104, 'Fat': 4.424921473990653, 'Carbs': 12.361608844834159, 'Fiber': 1.5333504142112904, 'Potass.': 118.02485875706215, 'Iron': 4.609704641350211, 'Calcium': 5.158570119156737, 'Sat Fat': 1.2828870779976718, 'Chol': 16.180989583333332, 'Vit A': 18.86842105263158, 'Vit C': 12.89763779527559, 'Trn Fat': 0, 'Mon Fat': 0.35135135135135137, 'Ply Fat': 0.4}, {'Protein': 6.7292732440113685, 'Calories': 120.74279290130892, 'Sodium': 165.1045515722501, 'Sugar': 4.495203836930456, 'Fat': 4.546497659583282, 'Carbs': 12.655597722960152, 'Fiber': 1.5726362216300653, 'Potass.': 118.38911022576362, 'Iron': 5.327790973871734, 'Calcium': 5.61961503208066, 'Sat Fat': 1.3579617834394904, 'Chol': 20.287101248266296, 'Vit A': 35.0, 'Vit C': 19.590476190476192, 'Trn Fat': 0.02, 'Mon Fat': 0.7741935483870968, 'Ply Fat': 0.45}, {'Protein': 6.728077906054463, 'Calories': 121.97923664122138, 'Sodium': 169.89072738103118, 'Sugar': 4.69410650542726, 'Fat': 4.606929402777154, 'Carbs': 12.757312430011199, 'Fiber': 1.5326195717430457, 'Potass.': 132.1078838174274, 'Iron': 5.606060606060606, 'Calcium': 5.790628115653041, 'Sat Fat': 1.4414003044140031, 'Chol': 16.325513196480937, 'Vit A': 1.4, 'Vit C': 19.303571428571427, 'Trn Fat': 0.046511627906976744, 'Mon Fat': 0.9523809523809523, 'Ply Fat': 0.5294117647058824}, {'Protein': 6.833260690590343, 'Calories': 121.82784882885473, 'Sodium': 171.2038941150733, 'Sugar': 4.44117412459121, 'Fat': 4.616696147798742, 'Carbs': 12.59281055367564, 'Fiber': 1.5425764192139737, 'Potass.': 118.79245283018868, 'Iron': 5.007820136852395, 'Calcium': 5.866354044548652, 'Sat Fat': 1.4915254237288136, 'Chol': 19.439655172413794, 'Vit A': 1.9230769230769231, 'Vit C': 9.121495327102803, 'Trn Fat': 0, 'Mon Fat': 0.7916666666666666, 'Ply Fat': 0.5625}, {'Protein': 6.865503453289713, 'Calories': 132.95932813437312, 'Sodium': 185.6602012145382, 'Sugar': 4.8448789202064315, 'Fat': 5.038031043225527, 'Carbs': 13.868482538121004, 'Fiber': 1.5923575665609049, 'Potass.': 138.33095238095237, 'Iron': 5.4052573932092, 'Calcium': 6.8984910836762685, 'Sat Fat': 1.2346153846153847, 'Chol': 20.55489021956088, 'Vit A': 1.7857142857142858, 'Vit C': 6.059701492537314, 'Trn Fat': 0, 'Mon Fat': 0.5, 'Ply Fat': 1.0666666666666667}, {'Protein': 6.943363499245852, 'Calories': 142.41249065071054, 'Sodium': 204.41058332393095, 'Sugar': 4.729133472239245, 'Fat': 5.483052801475674, 'Carbs': 14.457074414651109, 'Fiber': 1.488247493950916, 'Potass.': 117.64082687338501, 'Iron': 4.561194029850746, 'Calcium': 5.3949730700179535, 'Sat Fat': 1.623409669211196, 'Chol': 21.73734939759036, 'Vit A': 4.4, 'Vit C': 9.483333333333333, 'Trn Fat': 0.030303030303030304, 'Mon Fat': 0.8333333333333334, 'Ply Fat': 1.1818181818181819}, {'Protein': 6.867690669911033, 'Calories': 136.91833195083328, 'Sodium': 188.83658647299137, 'Sugar': 4.865069513406157, 'Fat': 5.2636165577342044, 'Carbs': 14.043227215980025, 'Fiber': 1.4773790951638066, 'Potass.': 116.01024590163935, 'Iron': 5.756172839506172, 'Calcium': 5.660194174757281, 'Sat Fat': 1.3220779220779222, 'Chol': 21.095343680709533, 'Vit A': 9.75, 'Vit C': 14.525, 'Trn Fat': 0, 'Mon Fat': 1.25, 'Ply Fat': 0.8333333333333334}, {'Protein': 6.705413464846886, 'Calories': 119.58159043246613, 'Sodium': 166.2883157619587, 'Sugar': 4.4625070475474535, 'Fat': 4.548303942820318, 'Carbs': 12.402304902304902, 'Fiber': 1.4822489111785666, 'Potass.': 116.9853896103896, 'Iron': 4.601769911504425, 'Calcium': 5.8878248974008205, 'Sat Fat': 1.2010398613518198, 'Chol': 19.954631379962194, 'Vit A': 26.0, 'Vit C': 5.706666666666667, 'Trn Fat': 0.014285714285714285, 'Mon Fat': 0.5517241379310345, 'Ply Fat': 0.9}, {'Protein': 6.704653371320038, 'Calories': 119.44999664632101, 'Sodium': 165.13103448275862, 'Sugar': 4.633396669274617, 'Fat': 4.569738480697385, 'Carbs': 12.501831248704304, 'Fiber': 1.5287780855647892, 'Potass.': 119.17448405253283, 'Iron': 5.652830188679245, 'Calcium': 4.893481717011129, 'Sat Fat': 1.2357723577235773, 'Chol': 12.43859649122807, 'Vit A': 25.75, 'Vit C': 10.714285714285714, 'Trn Fat': 0, 'Mon Fat': 0.8857142857142857, 'Ply Fat': 0.8}, {'Protein': 7.2063775312281795, 'Calories': 124.29253319008518, 'Sodium': 177.57352431558277, 'Sugar': 4.4064150457297435, 'Fat': 4.653846153846154, 'Carbs': 12.740345045900602, 'Fiber': 1.5310119695321, 'Potass.': 118.20668058455115, 'Iron': 5.042857142857143, 'Calcium': 14.586776859504132, 'Sat Fat': 1.3419203747072599, 'Chol': 17.03125, 'Vit A': 5.421052631578948, 'Vit C': 7.627906976744186, 'Trn Fat': 0, 'Mon Fat': 0.19230769230769232, 'Ply Fat': 0.8666666666666667}, {'Protein': 7.009598432908913, 'Calories': 124.87497588269342, 'Sodium': 177.72561583368932, 'Sugar': 4.713932399010718, 'Fat': 4.77118813864957, 'Carbs': 12.804737261146498, 'Fiber': 1.5402999062792877, 'Potass.': 109.87202380952381, 'Iron': 5.646766169154229, 'Calcium': 5.362886597938144, 'Sat Fat': 1.036697247706422, 'Chol': 24.34890965732087, 'Vit A': 5.0, 'Vit C': 16.8, 'Trn Fat': 0, 'Mon Fat': 0.44, 'Ply Fat': 1.2857142857142858}, {'Protein': 7.0414467756468015, 'Calories': 129.02871362940274, 'Sodium': 182.00873108265424, 'Sugar': 4.584479793637145, 'Fat': 4.931662269129288, 'Carbs': 13.14719012605042, 'Fiber': 1.4967144563918757, 'Potass.': 111.57358490566038, 'Iron': 5.831533477321814, 'Calcium': 5.945169712793733, 'Sat Fat': 1.23109243697479, 'Chol': 20.98994974874372, 'Vit A': 4.928571428571429, 'Vit C': 17.321428571428573, 'Trn Fat': 0, 'Mon Fat': 0.19047619047619047, 'Ply Fat': 0.5263157894736842}, {'Protein': 7.062161246612466, 'Calories': 136.65781563126254, 'Sodium': 191.17983235966472, 'Sugar': 5.096478671628972, 'Fat': 5.3047998613758445, 'Carbs': 13.825224292615596, 'Fiber': 1.4180834621329212, 'Potass.': 105.75324675324676, 'Iron': 5.609929078014185, 'Calcium': 4.907692307692308, 'Sat Fat': 1.1787709497206704, 'Chol': 22.810650887573964, 'Vit A': 3.727272727272727, 'Vit C': 4.05, 'Trn Fat': 0.3333333333333333, 'Mon Fat': 0.4375, 'Ply Fat': 0.38461538461538464}, {'Protein': 6.921683108516207, 'Calories': 141.2799442896936, 'Sodium': 187.66696375519905, 'Sugar': 4.7331545424069725, 'Fat': 5.415023863872173, 'Carbs': 13.658903544929926, 'Fiber': 1.4372568093385214, 'Potass.': 116.88383838383838, 'Iron': 6.843187660668381, 'Calcium': 5.082677165354331, 'Sat Fat': 1.5251396648044693, 'Chol': 21.833333333333332, 'Vit A': 0.5, 'Vit C': 5.0, 'Trn Fat': 0, 'Mon Fat': 0.35714285714285715, 'Ply Fat': 0.5}, {'Protein': 6.848732755854988, 'Calories': 118.05384006334126, 'Sodium': 165.1969476744186, 'Sugar': 4.47433433982981, 'Fat': 4.514501065049975, 'Carbs': 12.12426422498365, 'Fiber': 1.5698681732580038, 'Potass.': 97.98418972332016, 'Iron': 6.2444444444444445, 'Calcium': 5.231660231660232, 'Sat Fat': 1.3004926108374384, 'Chol': 14.022857142857143, 'Vit A': 26.72222222222222, 'Vit C': 0, 'Trn Fat': 0, 'Mon Fat': 1.5, 'Ply Fat': 0.625}, {'Protein': 6.975520833333333, 'Calories': 117.60264728782766, 'Sodium': 163.28416569879985, 'Sugar': 4.382934005884826, 'Fat': 4.5456, 'Carbs': 12.103809012875537, 'Fiber': 1.7208860759493672, 'Potass.': 99.85, 'Iron': 7.7050691244239635, 'Calcium': 5.028368794326241, 'Sat Fat': 1.0545454545454545, 'Chol': 16.675324675324674, 'Vit A': 0, 'Vit C': 15.625, 'Trn Fat': 0, 'Mon Fat': 1.4285714285714286, 'Ply Fat': 0}, {'Protein': 6.832444782939833, 'Calories': 116.5662376987131, 'Sodium': 157.3855544252289, 'Sugar': 4.169050715214564, 'Fat': 4.736801836266259, 'Carbs': 11.833465503568597, 'Fiber': 1.8324225865209471, 'Potass.': 108.13953488372093, 'Iron': 4.6, 'Calcium': 5.5, 'Sat Fat': 2.4, 'Chol': 8.415094339622641, 'Vit A': 0, 'Vit C': 8.181818181818182, 'Trn Fat': 0, 'Mon Fat': 1.75, 'Ply Fat': 0}, {'Protein': 6.57051282051282, 'Calories': 103.67948717948718, 'Sodium': 127.39669421487604, 'Sugar': 3.925925925925926, 'Fat': 2.7948717948717947, 'Carbs': 10.801282051282051, 'Fiber': 1.7619047619047619, 'Potass.': 0, 'Iron': 1.3, 'Calcium': 6.666666666666667, 'Sat Fat': 0.9, 'Chol': 4.837837837837838, 'Vit A': 0, 'Vit C': 0, 'Trn Fat': 0, 'Mon Fat': 0, 'Ply Fat': 0}]\n"
     ]
    }
   ],
   "source": [
    "date_avg_nutritions = []\n",
    "for date in unique_dates:\n",
    "    date_avg_nutritions.append(get_daily_average_nutritions(data, date, anomalies))"
   ]
  },
  {
   "cell_type": "code",
   "execution_count": 40,
   "metadata": {},
   "outputs": [
    {
     "name": "stdout",
     "output_type": "stream",
     "text": [
      "208\n",
      "208\n"
     ]
    }
   ],
   "source": [
    "date_avg_difference = []\n",
    "for date in unique_dates:\n",
    "    date_avg_difference.append(get_daily_average_difference(data, date, anomalies))\n",
    "print(len(date_avg_nutritions))\n",
    "print(len(date_avg_difference))"
   ]
  },
  {
   "cell_type": "code",
   "execution_count": 46,
   "metadata": {},
   "outputs": [
    {
     "name": "stdout",
     "output_type": "stream",
     "text": [
      "    unique_dates  unique_users  Protein_average_sum  Calories_average_sum  \\\n",
      "0     2014-09-14            56             6.245841            136.231054   \n",
      "1     2014-09-15           280             6.949937            126.001244   \n",
      "2     2014-09-16           279             7.175121            128.075840   \n",
      "3     2014-09-17           274             7.279987            132.674687   \n",
      "4     2014-09-18           382             6.989593            127.458098   \n",
      "..           ...           ...                  ...                   ...   \n",
      "203   2015-04-05           515             6.921683            141.279944   \n",
      "204   2015-04-06           574             6.848733            118.053840   \n",
      "205   2015-04-07           351             6.975521            117.602647   \n",
      "206   2015-04-08           132             6.832445            116.566238   \n",
      "207   2015-04-09            17             6.570513            103.679487   \n",
      "\n",
      "     Sodium_average_sum  Sugar_average_sum  Fat_average_sum  \\\n",
      "0            215.721612           6.989051         5.641176   \n",
      "1            181.622967           5.273216         4.787349   \n",
      "2            183.375952           4.897581         4.616700   \n",
      "3            185.938706           4.899329         4.967643   \n",
      "4            183.888365           4.790323         4.833859   \n",
      "..                  ...                ...              ...   \n",
      "203          187.666964           4.733155         5.415024   \n",
      "204          165.196948           4.474334         4.514501   \n",
      "205          163.284166           4.382934         4.545600   \n",
      "206          157.385554           4.169051         4.736802   \n",
      "207          127.396694           3.925926         2.794872   \n",
      "\n",
      "     Carbs_average_sum  Fiber_average_sum  Protein_average_dif  \\\n",
      "0            13.127119           1.345013            58.267857   \n",
      "1            12.824839           1.381949            51.350000   \n",
      "2            13.330020           1.502986            47.451613   \n",
      "3            13.420027           1.529973            50.481752   \n",
      "4            13.187240           1.643258            47.141361   \n",
      "..                 ...                ...                  ...   \n",
      "203          13.658904           1.437257            58.079612   \n",
      "204          12.124264           1.569868            53.627178   \n",
      "205          12.103809           1.720886            49.811966   \n",
      "206          11.833466           1.832423            54.030303   \n",
      "207          10.801282           1.761905            58.705882   \n",
      "\n",
      "     Calories_average_dif  Sodium_average_dif  Sugar_average_dif  \\\n",
      "0              693.482143          676.178571          21.946429   \n",
      "1              596.467857          651.171429          25.589286   \n",
      "2              553.010753          644.118280          22.254480   \n",
      "3              550.788321          648.401460          22.259124   \n",
      "4              519.246073          640.293194          19.709424   \n",
      "..                    ...                 ...                ...   \n",
      "203            660.137864          826.499029          23.683495   \n",
      "204            641.372822          736.179443          21.113240   \n",
      "205            610.327635          808.908832          21.458689   \n",
      "206            708.477273          826.106061          21.257576   \n",
      "207            765.588235          866.176471          18.529412   \n",
      "\n",
      "     Fat_average_dif  Carbs_average_dif  Fiber_average_dif  \n",
      "0          26.785714          87.678571          10.142857  \n",
      "1          26.821429          79.975000           7.239286  \n",
      "2          23.992832          75.258065           6.917563  \n",
      "3          25.536496          71.854015           7.737226  \n",
      "4          24.845550          69.243455           7.638743  \n",
      "..               ...                ...                ...  \n",
      "203        27.052427          89.520388           7.452427  \n",
      "204        25.102787          80.738676           6.916376  \n",
      "205        25.279202          83.658120           6.381766  \n",
      "206        25.803030          86.848485           5.659091  \n",
      "207        30.117647          93.411765           6.529412  \n",
      "\n",
      "[208 rows x 16 columns]\n"
     ]
    }
   ],
   "source": [
    "dictionary = {'unique_dates' : unique_dates, 'unique_users' : [date_people[i] for i in unique_dates]}\n",
    "our_nutritions = ['Protein', 'Calories', 'Sodium', 'Sugar', 'Fat', 'Carbs', 'Fiber']\n",
    "for nutrition in our_nutritions:\n",
    "    indx = nutrition + '_average_sum'\n",
    "    dictionary[indx] = [dic[nutrition] for dic in date_avg_nutritions]\n",
    "for nutrition in our_nutritions:\n",
    "    indx = nutrition + '_average_dif'\n",
    "    dictionary[indx] = [dic[nutrition] for dic in date_avg_difference]\n",
    "daysta = pd.DataFrame(data=dictionary)\n",
    "print(daysta)"
   ]
  },
  {
   "cell_type": "code",
   "execution_count": 48,
   "metadata": {},
   "outputs": [],
   "source": [
    "daysta.to_csv('daily_data.csv')"
   ]
  },
  {
   "cell_type": "code",
   "execution_count": null,
   "metadata": {},
   "outputs": [],
   "source": []
  }
 ],
 "metadata": {
  "kernelspec": {
   "display_name": "Python 3",
   "language": "python",
   "name": "python3"
  },
  "language_info": {
   "codemirror_mode": {
    "name": "ipython",
    "version": 3
   },
   "file_extension": ".py",
   "mimetype": "text/x-python",
   "name": "python",
   "nbconvert_exporter": "python",
   "pygments_lexer": "ipython3",
   "version": "3.8.5"
  }
 },
 "nbformat": 4,
 "nbformat_minor": 4
}
