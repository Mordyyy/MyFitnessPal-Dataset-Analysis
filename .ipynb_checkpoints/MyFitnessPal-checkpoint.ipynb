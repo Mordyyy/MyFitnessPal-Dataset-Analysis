{
 "cells": [
  {
   "cell_type": "markdown",
   "metadata": {},
   "source": [
    "<!-- არ დასავიწყებელი ფაქტები !\n",
    "1. ნუტრიოტები შევამოწმე და მაქსიმალური რაოდენობა ერთ ცდაზე 6-ია, მეტი არ შეიძლება\n",
    "2. ნუტრიოტების მინიმალური რაოდენობა არის 1, რაც ნიშნავს რომ აქ ინფო არ აკლია.\n",
    "3. ჩავარდნა არ არის ახალ წელს, ჩავარდნა არის 25 დეკემბერს, მერე იწყება აღმასვლა.\n",
    "\n",
    "1. 1g protain = 4 calories, 1g carbs = 4 caliroes, 1g fat = 9 calories\n",
    "2. წონის დასაგდებად ყველაზე მნიშვნელოვანია კალორია და პროტეინი. ცხიმის მაგივრად იყენებენ კარბ.-ს\n",
    "3. ერთი ნუტრიოტის შესავსებად შესაძლოა მეორეს გამოყენებაც ! \n",
    "4. უმეტესად, ნებისმიერ საჭმელში ნუტრიოტი კავშირში იქნება კარბთან, ცხიმთან ან პროტეინთან.\n",
    "5. საჭმელები ბევრი შაქრით შეიცავენ ბევრ კალორიასაც.\n",
    "\n",
    "Vitamin A – vital for skin and eyes\n",
    "Vitamin C – for bone and muscle structure, as well as immune support\n",
    "\n",
    "1?. პირდაპირ ვერ ვიტყვით იმას, რომ 1 კვირიანი შუალედებია იმ გრაფიკზე, რომელ დღეს რამდენმა დაპოსტა. კარგი დაკვირებაა საჭირო კარგ მონაკვეთზე. შესაძლოა უფრო ღრმა რამ იყოს ჩამალული )\n",
    "\n",
    "ძააააან მაგარ გამოთქმები:\n",
    "1.Eating fat will make you fat is about as scientifically logical as saying that eating tomatoes will turn you red,” writes Dr. Richard K. Bernstein, author of Dr. Bernstein’s -->"
   ]
  },
  {
   "cell_type": "markdown",
   "metadata": {},
   "source": [
    "ჩვენი სტრატეგია პროექტთან მუშაობისას ასეთია:\n",
    "- პირველ რიგში ვაკეთებთ მონაცემთა ანალიზს. ვცდილობთ გამოვიკვლიოთ არსებული ცვლადები, ვიპოვოთ შეცდომები, ანომალიები. აღმოვფხვრათ ისინი და არ დაგვრჩეს არცერთი ისეთი მნიშვნელობა, რამაც შესაძლოა საქმე გაგვიფუჭოს. \n",
    "- მონაცემთა დამუშავებისა და გაცნობის შემდეგ, საჭიროების შემთხვევაში შევქმნით ახალ ცხრილებს და დავსახავთ ამოცანებს, რომელთა შედეგებიც იმედია გამოსადეგი იქნება :)"
   ]
  },
  {
   "cell_type": "markdown",
   "metadata": {},
   "source": [
    "ზოგადი ანალიზი\n",
    "-"
   ]
  },
  {
   "cell_type": "code",
   "execution_count": 2,
   "metadata": {},
   "outputs": [],
   "source": [
    "%matplotlib inline\n",
    "\n",
    "import pandas as pd\n",
    "import numpy as np\n",
    "from pandas import DataFrame\n",
    "import json\n",
    "import csv\n",
    "import matplotlib.pyplot as plt"
   ]
  },
  {
   "cell_type": "code",
   "execution_count": 3,
   "metadata": {},
   "outputs": [],
   "source": [
    "# import dataset as pandas.DataFrame\n",
    "data = pd.read_csv('a.tsv', sep='\\t', header=0, names=['Person', 'Date', 'Input', 'Result'])"
   ]
  },
  {
   "cell_type": "code",
   "execution_count": 8,
   "metadata": {},
   "outputs": [],
   "source": [
    "# პირველ რიგში, ვნახოთ რა ტიპის მონაცემები გვაქვს და თითოეული რას წარმოადგენს.\n",
    "# Person - არის კონკრეტული ადამიანის აღმნიშვნელი რიცხვი. ბაზა არის დასორტილი სწორედ ამის მიხედვით\n",
    "# Date - კონკრეტული person-ის გვერდზე Date მიუთითებს, რომ person_num მომხმარებელმა date დღეს შეიყვანა ის მონაცემები რომელიც        მის მარჯვნივ იქნება.\n",
    "# Input - გვაძლევს კონკრეტულ დღეს, კონკრეტული მომხმარებელის შეყვანილ ინფორმაციას. უფრო კონკრეტულად - მასში არის შენახული           მასივი, რომელიც შეიცავს დიქშენერებს. თავისი მხრივ, თითოეული დიქშენერი შეიცავს სამ key-ს. \n",
    "#         1. ერთი არის meal რომელიც  აღნიშნავს უბრალოდ meal-ის დასახელებას. \n",
    "#         2. მერე არის dishes, რომლის value-ც არის მასივი ორი დიქშენერით. \n",
    "#             - პირველი დიქშენერის key არის nutritons და გვაძლევს იმ ნუტრიოტების დასახელებებს და რაოდენობებს, რომლებიც                   მომხმრებელმა შეიყვანა. 6-ზე მეტი ნუტრიოტი არსად არ გვხვდება. მინიმალური რაოდენობა კი არის 1. \n",
    "#             - მეორე დიქშენერის key კი ყოველთვის არის name და value არის სტრინგი, რომელიც აღნიშნავს იმ კერძის სახელს,                   რომელის ნუტრიოტებიც მოცემული გვაქვს.\n",
    "#         3. sequence - ის გვეუბნება თუ მერამდენე meal-ს მიმოვიხილავთ ახლა. აღსანიშნავია, რომ ყველგან sequence ს                      მნიშვნელობები ზრდადობითაა მასივის ინდექსის შესაბამისად.\n",
    "# Result - გვაძლევს დიქშენერის რომელსაც აქვს ორი key:\n",
    "#           total : გვაძლევს იმ ნუტრიოტების ჯამურ რაოდენობას (თითოეულისთვის ცალ-ცალკე), რომელიც მომხმარებელმა ამ კონკრეტულ           დღეს მიიღო\n",
    "#           goal :  თითოეული ნუტრიოტის რაოდენობა, რაც აპლიკაციამ დაუსახა მომხმარებელს მისაღებად"
   ]
  },
  {
   "cell_type": "code",
   "execution_count": 3,
   "metadata": {},
   "outputs": [
    {
     "data": {
      "text/html": [
       "<div>\n",
       "<style scoped>\n",
       "    .dataframe tbody tr th:only-of-type {\n",
       "        vertical-align: middle;\n",
       "    }\n",
       "\n",
       "    .dataframe tbody tr th {\n",
       "        vertical-align: top;\n",
       "    }\n",
       "\n",
       "    .dataframe thead th {\n",
       "        text-align: right;\n",
       "    }\n",
       "</style>\n",
       "<table border=\"1\" class=\"dataframe\">\n",
       "  <thead>\n",
       "    <tr style=\"text-align: right;\">\n",
       "      <th></th>\n",
       "      <th>Person</th>\n",
       "      <th>Date</th>\n",
       "      <th>Input</th>\n",
       "      <th>Result</th>\n",
       "    </tr>\n",
       "  </thead>\n",
       "  <tbody>\n",
       "    <tr>\n",
       "      <th>0</th>\n",
       "      <td>1</td>\n",
       "      <td>2014-09-15</td>\n",
       "      <td>[{\"meal\": \"MY food\", \"dishes\": [{\"nutritions\":...</td>\n",
       "      <td>{\"total\": [{\"name\": \"Calories\", \"value\": 2430}...</td>\n",
       "    </tr>\n",
       "    <tr>\n",
       "      <th>1</th>\n",
       "      <td>1</td>\n",
       "      <td>2014-09-16</td>\n",
       "      <td>[{\"meal\": \"MY food\", \"dishes\": [{\"nutritions\":...</td>\n",
       "      <td>{\"total\": [{\"name\": \"Calories\", \"value\": 1862}...</td>\n",
       "    </tr>\n",
       "    <tr>\n",
       "      <th>2</th>\n",
       "      <td>1</td>\n",
       "      <td>2014-09-17</td>\n",
       "      <td>[{\"meal\": \"MY food\", \"dishes\": [{\"nutritions\":...</td>\n",
       "      <td>{\"total\": [{\"name\": \"Calories\", \"value\": 2251}...</td>\n",
       "    </tr>\n",
       "    <tr>\n",
       "      <th>3</th>\n",
       "      <td>1</td>\n",
       "      <td>2014-09-18</td>\n",
       "      <td>[{\"meal\": \"MY food\", \"dishes\": [{\"nutritions\":...</td>\n",
       "      <td>{\"total\": [{\"name\": \"Calories\", \"value\": 2001}...</td>\n",
       "    </tr>\n",
       "    <tr>\n",
       "      <th>4</th>\n",
       "      <td>1</td>\n",
       "      <td>2014-09-19</td>\n",
       "      <td>[{\"meal\": \"MY food\", \"dishes\": [{\"nutritions\":...</td>\n",
       "      <td>{\"total\": [{\"name\": \"Calories\", \"value\": 2158}...</td>\n",
       "    </tr>\n",
       "  </tbody>\n",
       "</table>\n",
       "</div>"
      ],
      "text/plain": [
       "   Person        Date                                              Input  \\\n",
       "0       1  2014-09-15  [{\"meal\": \"MY food\", \"dishes\": [{\"nutritions\":...   \n",
       "1       1  2014-09-16  [{\"meal\": \"MY food\", \"dishes\": [{\"nutritions\":...   \n",
       "2       1  2014-09-17  [{\"meal\": \"MY food\", \"dishes\": [{\"nutritions\":...   \n",
       "3       1  2014-09-18  [{\"meal\": \"MY food\", \"dishes\": [{\"nutritions\":...   \n",
       "4       1  2014-09-19  [{\"meal\": \"MY food\", \"dishes\": [{\"nutritions\":...   \n",
       "\n",
       "                                              Result  \n",
       "0  {\"total\": [{\"name\": \"Calories\", \"value\": 2430}...  \n",
       "1  {\"total\": [{\"name\": \"Calories\", \"value\": 1862}...  \n",
       "2  {\"total\": [{\"name\": \"Calories\", \"value\": 2251}...  \n",
       "3  {\"total\": [{\"name\": \"Calories\", \"value\": 2001}...  \n",
       "4  {\"total\": [{\"name\": \"Calories\", \"value\": 2158}...  "
      ]
     },
     "execution_count": 3,
     "metadata": {},
     "output_type": "execute_result"
    }
   ],
   "source": [
    "data.head(5)"
   ]
  },
  {
   "cell_type": "code",
   "execution_count": 10,
   "metadata": {},
   "outputs": [],
   "source": [
    "#გადაყვება Input ველში მომხმარებლის შეყვანილ ნუტრიოტებს და ადგენს თუ რა არის მათი ჯამი\n",
    "\n",
    "def get_real_total(data, row):\n",
    "    value = get_value(data, row, 2, True)\n",
    "    default = default_nutrition()\n",
    "    for j in range(len(value)):\n",
    "        val = value[j]['dishes']\n",
    "        for i in range(len(val)):\n",
    "            nutrs = val[i]['nutritions']\n",
    "            for k in nutrs:\n",
    "                merge_nutritions(default, k['name'], to_int(k['value']))\n",
    "    return default"
   ]
  },
  {
   "cell_type": "code",
   "execution_count": 11,
   "metadata": {},
   "outputs": [],
   "source": [
    "# გვიბრუნებს კონკრეტულ რიგში მოხმარებლის შეყვანილი საჭმლების სახელების სეტს.\n",
    "\n",
    "def get_foods(data, row):\n",
    "    value = get_value(data, row, 2, True)\n",
    "    foods = set()\n",
    "    for i in range(len(value)):\n",
    "        dishes = value[i]['dishes']\n",
    "        for j in range(len(dishes)):\n",
    "            foods.add(dishes[j]['name'])\n",
    "    return foods"
   ]
  },
  {
   "cell_type": "code",
   "execution_count": 12,
   "metadata": {},
   "outputs": [],
   "source": [
    "# გვიბრუნებს კონკრეტული მოხმარებლის შეყვანილ ყველა საჭმელს. (აბრუნებს სეტს, ანუ ყველა საჭმელი უნიკალურია)\n",
    "\n",
    "def get_persons_unique_foods(data, person):\n",
    "    indexes = data.loc[data.Person == person, ['Input']].index\n",
    "    foods = set()\n",
    "    for i in indexes:\n",
    "        foods = set.union(foods, get_foods(data, i))\n",
    "    return len(foods)"
   ]
  },
  {
   "cell_type": "code",
   "execution_count": 13,
   "metadata": {},
   "outputs": [],
   "source": [
    "# კონრკეტულ რიგში შეყვანილი meal-ების სეტი\n",
    "\n",
    "def get_meals(data, row):\n",
    "    meals = set()\n",
    "    value = get_value(data, row, 2, True)\n",
    "    for i in range(len(value)):\n",
    "        meals.add(value[i]['meal'])\n",
    "    return meals"
   ]
  },
  {
   "cell_type": "code",
   "execution_count": 14,
   "metadata": {},
   "outputs": [],
   "source": [
    "# კონკრეტულ რიგში შეყვანილი meal-ების რაოდენობა\n",
    "\n",
    "def get_meals_num(data, row):\n",
    "    meals = 0\n",
    "    value = get_value(data, row, 2, True)\n",
    "    for i in range(len(value)):\n",
    "        meals += 1\n",
    "    return meals"
   ]
  },
  {
   "cell_type": "code",
   "execution_count": 15,
   "metadata": {},
   "outputs": [],
   "source": [
    "# კონკრეტულ დღეს შეყვანილი უნიკალური meal-ების რაოდენობა\n",
    "\n",
    "def get_daily_meals_num(data, date):\n",
    "    answ = set()\n",
    "    mask = data.Date == date\n",
    "    df = data.loc[mask, ['Result']]\n",
    "    for i in df.index:\n",
    "        answ = set.union(answ, get_meals(data, i))\n",
    "    return len(answ)"
   ]
  },
  {
   "cell_type": "code",
   "execution_count": 16,
   "metadata": {},
   "outputs": [],
   "source": [
    "# ადგენს კონკრეტულ რიგში result-ის total-სა და უშუალოდ input-ში აჯამულ ნუტრიოტებს შორის თუ არის სხვაობა\n",
    "\n",
    "def is_missmatched(data, row):\n",
    "    default = get_real_total(data, row)\n",
    "    total = get_value(data, row, 3, True)['total']\n",
    "    total_default = default_nutrition()\n",
    "    for total_nutr in total:\n",
    "        merge_nutritions(total_default, total_nutr['name'], total_nutr['value'])\n",
    "    for key in default:\n",
    "        if default[key] - total_default[key] != 0:\n",
    "            return True\n",
    "    return False"
   ]
  },
  {
   "cell_type": "code",
   "execution_count": 17,
   "metadata": {},
   "outputs": [],
   "source": [
    "# ადგენს კონკრეტულ რიგში, Input ში რომელიმე ნუტრიოტის მნიშვნელობა არის თუ არა უარყოფითი\n",
    "\n",
    "def is_negative(data, row):\n",
    "    value = get_value(data, row, 2, True)\n",
    "    for j in range(len(value)):\n",
    "        val = value[j]['dishes']\n",
    "        for i in range(len(val)):\n",
    "            nutrs = val[i]['nutritions']\n",
    "            for k in nutrs:\n",
    "                if to_int(k['value']) < 0:\n",
    "                    return True\n",
    "    return False"
   ]
  },
  {
   "cell_type": "code",
   "execution_count": 19,
   "metadata": {},
   "outputs": [],
   "source": [
    "# აბრუნებს კონკრეტულ დღეს, კონკრეტული ნუტრიოტის მნიშვნელობების ჯამს \n",
    "\n",
    "def get_nutritions_sum(data, row, nutrition):\n",
    "    res = 0\n",
    "    cnt = 0\n",
    "    value = get_value(data, row, 2, True)\n",
    "    for j in range(len(value)):\n",
    "        val = value[j]['dishes']\n",
    "        for i in range(len(val)):\n",
    "            nutrs = val[i]['nutritions']\n",
    "            for nutr in nutrs:\n",
    "                if nutr['name'] == nutrition:\n",
    "                    res += to_int(nutr['value'])\n",
    "                    cnt += 1\n",
    "    return res, cnt"
   ]
  },
  {
   "cell_type": "code",
   "execution_count": 18,
   "metadata": {},
   "outputs": [],
   "source": [
    "# ნახულობს რამდენად კარგად ჯდება calories - 4 * proteins - 4 * carbs - 9 * fat მოცემული ფორმული\n",
    "\n",
    "def check_proportions(data, row):\n",
    "    calories = get_nutritions_sum(data, row, 'Calories')[0]\n",
    "    proteins = get_nutritions_sum(data, row, 'Protein')[0]\n",
    "    carbs = get_nutritions_sum(data, row, 'Carbs')[0]\n",
    "    fat = get_nutritions_sum(data, row, 'Fat')[0]\n",
    "    return abs(calories - 4 * proteins - 4 * carbs - 9 * fat) "
   ]
  },
  {
   "cell_type": "code",
   "execution_count": 20,
   "metadata": {},
   "outputs": [],
   "source": [
    "# კონკრეტული ადამიანისთვის რაარის პროცენტული ფორმულს ცდომილების საშუალო\n",
    "\n",
    "def person_avg_formula_diff(data, person, anomalies):\n",
    "    proportions_sum = 0\n",
    "    indexes = data.loc[data.Person == person, ['Date']].index\n",
    "    for i in indexes:\n",
    "        proportions_sum += check_proportions(data, i)\n",
    "    sz = len(indexes)\n",
    "    return proportions_sum / sz"
   ]
  },
  {
   "cell_type": "code",
   "execution_count": 21,
   "metadata": {},
   "outputs": [],
   "source": [
    "# გადაყავს სტრინგი ინტში\n",
    "\n",
    "def to_int(string):\n",
    "    curr = \"\"\n",
    "    for dig in string:\n",
    "        if dig.isdigit() or dig == '-':\n",
    "            curr += dig\n",
    "    if len(curr) == 0:\n",
    "        return -1\n",
    "    return int(curr)"
   ]
  },
  {
   "cell_type": "code",
   "execution_count": 16,
   "metadata": {},
   "outputs": [],
   "source": [
    "def merge_nutritions(default, key, value):\n",
    "    default[key] += value"
   ]
  },
  {
   "cell_type": "code",
   "execution_count": 17,
   "metadata": {},
   "outputs": [],
   "source": [
    "def default_nutrition():\n",
    "    return {'Protein': 0,\n",
    "     'Calories': 0,\n",
    "     'Sodium': 0,\n",
    "     'Sugar': 0,\n",
    "     'Fat': 0,\n",
    "     'Carbs': 0,\n",
    "     'Fiber': 0,\n",
    "     'Potass.': 0,\n",
    "     'Iron': 0,\n",
    "     'Calcium': 0,\n",
    "     'Sat Fat': 0,\n",
    "     'Chol': 0,\n",
    "     'Vit A': 0,\n",
    "     'Vit C': 0,\n",
    "     'Trn Fat': 0,\n",
    "     'Mon Fat': 0,\n",
    "     'Ply Fat': 0}"
   ]
  },
  {
   "cell_type": "code",
   "execution_count": 22,
   "metadata": {},
   "outputs": [],
   "source": [
    "# აბრუნებს ტოტალს კონკრეტული ნუტრიოტისთვის\n",
    "\n",
    "def get_total_nutrition(data,row, nutrition):\n",
    "    value = get_value(data, row, 3, True)['total']\n",
    "    for nutr in value:\n",
    "        if nutr['name'] == nutrition:\n",
    "            return nutr['value']\n",
    "    return 0"
   ]
  },
  {
   "cell_type": "code",
   "execution_count": 23,
   "metadata": {},
   "outputs": [],
   "source": [
    "# აბრუნებს მიზანს კონკრეტული ნუტრიოტისთვის\n",
    "\n",
    "def get_goal_nutrition(data,row, nutrition):\n",
    "    value = get_value(data, row, 3, True)['goal']\n",
    "    for nutr in value:\n",
    "        if nutr['name'] == nutrition:\n",
    "            return nutr['value']\n",
    "    return 0"
   ]
  },
  {
   "cell_type": "code",
   "execution_count": 24,
   "metadata": {},
   "outputs": [],
   "source": [
    "# აბრუნებს რამდენი არის განსხვავება კონკრეტული ნუტრიოტისთვის goal-სა და total-ს შორის\n",
    "\n",
    "def get_nutrition_difference(data, person, nutrition,anomalies):\n",
    "    positive = 0\n",
    "    negative = 0\n",
    "    none = 0\n",
    "    df = data.loc[data.Person == person, ['Date']]\n",
    "    for i in df.index:\n",
    "        dif = get_goal_nutrition(data, i, nutrition) - get_total_nutrition(data, i, nutrition)\n",
    "        if dif > 0:\n",
    "            positive += 1\n",
    "        elif dif < 0:\n",
    "            negative += 1\n",
    "        else: \n",
    "            none += 1\n",
    "    return positive, negative, none"
   ]
  },
  {
   "cell_type": "code",
   "execution_count": 25,
   "metadata": {},
   "outputs": [],
   "source": [
    "# აბრუნებს data[row[col]-ის მნიშვნელობას. jsn=True იმ შემთხვევაში თუ სვეტის ელემენტი json ფორმატში არის შენახული\n",
    "# და ჭირდება დესერილიზაცია\n",
    "\n",
    "def get_value(data, row, col, jsn):\n",
    "    if jsn:\n",
    "        return json.loads(data.iloc[row, col])\n",
    "    else:\n",
    "        return data.iloc[row, col]"
   ]
  },
  {
   "cell_type": "code",
   "execution_count": 26,
   "metadata": {},
   "outputs": [],
   "source": [
    "# აბრუნებს კონკრეტულმა ადამიანმა რამდენი დღე შეიყვანა მონაცემები აპლიკაციაში\n",
    "\n",
    "def num_days_for_person(data, person):\n",
    "    mask = data.Person == person\n",
    "    return data.Person.loc[mask].shape[0]"
   ]
  },
  {
   "cell_type": "code",
   "execution_count": 27,
   "metadata": {},
   "outputs": [],
   "source": [
    "# აბრუნებს კონკრეტულ დღეს რამდენმა ადამიანმა შეიყვანა მონაცემები აპლიკაციაში\n",
    "\n",
    "def num_persons_for_date(data, date):\n",
    "    mask = data.Date == date\n",
    "    return data.Date.loc[mask].shape[0]"
   ]
  },
  {
   "cell_type": "code",
   "execution_count": 28,
   "metadata": {},
   "outputs": [],
   "source": [
    "# აბრუნებს კონკრეტულ ინდექსზე, რა უნიკალური ნუტრიოტებია\n",
    "\n",
    "def get_nutritions(data, row):\n",
    "    val = get_value(data, row, 2, True)\n",
    "    nutritions = set()\n",
    "    for j in range(len(val)):\n",
    "        value = val[j]['dishes']\n",
    "        for i in range(len(value)):\n",
    "            nutrs = value[i]['nutritions']\n",
    "            for j in range(len(nutrs)):\n",
    "                nutritions.add(nutrs[j]['name'])\n",
    "    return nutritions"
   ]
  },
  {
   "cell_type": "code",
   "execution_count": 29,
   "metadata": {},
   "outputs": [],
   "source": [
    "# აბრუნებს კონკრეტული ადამიანის მიერ გამოყენებულ ყველა ნუტრიოტს\n",
    "\n",
    "def get_person_nutritions(data, person):\n",
    "    mask = data.Person == person\n",
    "    df = data.loc[mask, ['Person']]\n",
    "    person_nutritions = set()\n",
    "    for row in df.index:\n",
    "        person_nutritions = set.union(person_nutritions, get_nutritions(data, row))\n",
    "    return person_nutritions"
   ]
  },
  {
   "cell_type": "code",
   "execution_count": 30,
   "metadata": {},
   "outputs": [],
   "source": [
    "# თვლის კონკრეტულ დღეს, რამდენი იყო თითოეული გამოყენებული ნუტრიოტის ჯამის საშუალო\n",
    "\n",
    "def get_daily_average_nutritions(data, day, anomalies):\n",
    "    mask = data.Date == day\n",
    "    df = data.loc[mask, ['Input']]\n",
    "    nutritions_sum = default_nutrition()\n",
    "    nutritions_cnt = default_nutrition()\n",
    "    for row in df.index:\n",
    "        if row in anomalies:\n",
    "            continue\n",
    "        for nutrition in nutritions_sum:\n",
    "            sm, cnt = get_nutritions_sum(data, row, nutrition)\n",
    "            nutritions_sum[nutrition] += sm\n",
    "            nutritions_cnt[nutrition] += cnt\n",
    "    for nutrition in nutritions_sum:\n",
    "        if nutritions_sum[nutrition] != 0:\n",
    "            nutritions_sum[nutrition] /= nutritions_cnt[nutrition]\n",
    "    return nutritions_sum"
   ]
  },
  {
   "cell_type": "code",
   "execution_count": 31,
   "metadata": {},
   "outputs": [],
   "source": [
    "# კონკრეტული ნუტრიოტისთვის და ადამინისთვის ითვლის, ეს ადამიანი ამ ნუტრიოტს საშუალოდ რამდენს იღებდა დღეში\n",
    "\n",
    "def avg_nutrition(data, person, nutrition, anomalies):\n",
    "    indexes = data.loc[data.Person == person, ['Date']].index\n",
    "    sm = 0\n",
    "    found = False\n",
    "    for i in indexes:\n",
    "        if i in anomalies:\n",
    "            continue\n",
    "        total = get_value(data, i, 3, True)['total']\n",
    "        for nutr in total:\n",
    "            if nutr['name'] == nutrition:\n",
    "                nutr_value = nutr['value']\n",
    "                sm += nutr_value\n",
    "                found = True\n",
    "    if found:\n",
    "        avg = sm / len(indexes)\n",
    "        return avg\n",
    "    else:\n",
    "        return 0"
   ]
  },
  {
   "cell_type": "code",
   "execution_count": 32,
   "metadata": {},
   "outputs": [],
   "source": [
    "# აბრუნებს კონკრეტულ დღეს საშუალოდ რამდენი იყო ცდომილება\n",
    "\n",
    "def get_daily_average_difference(data, day, anomalies):\n",
    "    mask = data.Date == day\n",
    "    df = data.loc[mask, ['Result']]\n",
    "    cnt = df.shape[0]\n",
    "    nutritions_sum = default_nutrition()\n",
    "    for row in df.index:\n",
    "        if row in anomalies:\n",
    "            continue\n",
    "        for nutrition in nutritions_sum:\n",
    "            nutritions_sum[nutrition] += abs(get_goal_nutrition(data, row, nutrition) - get_total_nutrition(data, row, nutrition))\n",
    "    for nutrition in nutritions_sum:\n",
    "        nutritions_sum[nutrition] /= cnt\n",
    "    return nutritions_sum"
   ]
  },
  {
   "cell_type": "code",
   "execution_count": 35,
   "metadata": {},
   "outputs": [],
   "source": [
    "def get_range(num):\n",
    "    if num <= 50 and num != 0:\n",
    "        return 0\n",
    "    elif num <= 100:\n",
    "        return 1\n",
    "    elif num <= 150:\n",
    "        return 2\n",
    "    else:\n",
    "        return 3"
   ]
  },
  {
   "cell_type": "code",
   "execution_count": 34,
   "metadata": {},
   "outputs": [],
   "source": [
    "def increase_y_by_range(y, num):\n",
    "    y[get_range(num)]+=1"
   ]
  },
  {
   "cell_type": "code",
   "execution_count": 31,
   "metadata": {},
   "outputs": [
    {
     "data": {
      "text/plain": [
       "Person      9896\n",
       "Date         208\n",
       "Input     578774\n",
       "Result    581728\n",
       "dtype: int64"
      ]
     },
     "execution_count": 31,
     "metadata": {},
     "output_type": "execute_result"
    }
   ],
   "source": [
    "data.nunique(axis=0, dropna=False)"
   ]
  },
  {
   "cell_type": "markdown",
   "metadata": {},
   "source": [
    "გვაქვს ნახევარ მილიონზე მეტი მონაცემი, 2896 ადამიანი და 208 დღე. დავიწყოთ მონაცემების უკეთ გამოკვლევა, ვნახოთ არის თუ არა გამოტოვებული მნიშვნელობები, არაზუსტი მონაცემები. უკეთ გავეცნოთ განაწილებებს."
   ]
  },
  {
   "cell_type": "code",
   "execution_count": 36,
   "metadata": {},
   "outputs": [],
   "source": [
    "y = [0,0,0,0]\n",
    "unique_people = data.iloc[:, 0].unique()\n",
    "for person in unique_people:\n",
    "    increase_y_by_range(y, data.loc[data.Person == person, ['Person']].shape[0])"
   ]
  },
  {
   "cell_type": "code",
   "execution_count": 37,
   "metadata": {},
   "outputs": [
    {
     "data": {
      "image/png": "[encoded data removed]",
      "text/plain": [
       "<Figure size 432x288 with 1 Axes>"
      ]
     },
     "metadata": {
      "needs_background": "light"
     },
     "output_type": "display_data"
    }
   ],
   "source": [
    "fig = plt.figure()\n",
    "ax = fig.add_axes([0,0,1,1])\n",
    "ranges = ['0-50', '51-100', '101-150', '151-209']\n",
    "plt.xlabel(\"Number of inputs\")\n",
    "plt.ylabel(\"Number of people\")\n",
    "ax.bar(ranges,y)\n",
    "plt.show()"
   ]
  },
  {
   "cell_type": "markdown",
   "metadata": {},
   "source": [
    "მოცემულ გრაფიკზე, x ღერძი წარმოადგენს, თუ კონკრეტულ ადამიანს რამდენი დღე შეყავდა მონაცემები. აშკარაა და ლოგიკურიცაა რომ 9000 მონაცემიდან 5000-ზე მეტმა ადამიანმა 2 თვეც კი არ გამოიყენა აპლიკაცია. დანარჩენები კი შედარებით თანაბრად არიან გადანაწილებულები. შესაძლოა მოცემული ინფორმაცია დაგვეხმაროს იმაში, რომ გამოვყოთ აქტიური, ერთგული მომხმარებლები იმათგან, ვინც უბრალოდ \"გავლით\" არის.\n",
    "\n"
   ]
  },
  {
   "cell_type": "markdown",
   "metadata": {},
   "source": [
    "ახლა კი ჩავეძიოთ Input სვეტს და განვიხილოთ მისი ერთ-ერთი შემცველი ნაწილი, meal-ების რაოდენობა დღეში როგორ არის განაწილებული. ეს ინფორმაცია შესაძლოა დაგვეხმაროს რამე კავშირის დაჭერაში ახალ-ძველ მომხმარებლებს შორის. ასევე შევამოწმოთ გვაქვს თუ არა გამოტოვებული მნიშვნელობები, არაზუსტი მონაცემები, აუთლაიერები ..."
   ]
  },
  {
   "cell_type": "code",
   "execution_count": 34,
   "metadata": {},
   "outputs": [],
   "source": [
    "meals_distribution ={}\n",
    "p_range = {}\n",
    "p_meals = {}\n",
    "for person in unique_people:\n",
    "    mask = data.Person == person\n",
    "    person_meals = set()\n",
    "    person_data = data.loc[mask, ['Person']]\n",
    "    for i in person_data.index:\n",
    "        curr = get_meals(data, i)\n",
    "        person_meals = set.union(person_meals, curr)\n",
    "    n = len(person_meals)\n",
    "    \n",
    "    # რომელი საკვები რამდენჯერ გვხვდება\n",
    "    if n in meals_distribution:\n",
    "        meals_distribution[n] += 1\n",
    "    else:\n",
    "        meals_distribution[n] = 1\n",
    "        \n",
    "    # კონკრეტულმა ადამიანმა რამდენი განსხვავებული meal შეიყვანა და თითოეულმა ადამიანმა რამდენი მონაცემი შეიყვანა\n",
    "    p_meals[person] = len(person_meals)\n",
    "    p_range[person] = get_range(person_data.shape[0])"
   ]
  },
  {
   "cell_type": "code",
   "execution_count": 35,
   "metadata": {},
   "outputs": [
    {
     "data": {
      "text/plain": [
       "1"
      ]
     },
     "execution_count": 35,
     "metadata": {},
     "output_type": "execute_result"
    }
   ],
   "source": [
    "p_meals[1]"
   ]
  },
  {
   "cell_type": "code",
   "execution_count": 36,
   "metadata": {},
   "outputs": [
    {
     "data": {
      "image/png": "[encoded data removed]",
      "text/plain": [
       "<Figure size 576x288 with 1 Axes>"
      ]
     },
     "metadata": {
      "needs_background": "light"
     },
     "output_type": "display_data"
    }
   ],
   "source": [
    "fig = plt.figure(figsize=(8,4))\n",
    "ax = fig.add_axes([0,0,1,1])\n",
    "ax.bar(list(meals_distribution.keys()),list(meals_distribution.values()))\n",
    "plt.show()"
   ]
  },
  {
   "cell_type": "code",
   "execution_count": 37,
   "metadata": {},
   "outputs": [
    {
     "data": {
      "text/html": [
       "<div>\n",
       "<style scoped>\n",
       "    .dataframe tbody tr th:only-of-type {\n",
       "        vertical-align: middle;\n",
       "    }\n",
       "\n",
       "    .dataframe tbody tr th {\n",
       "        vertical-align: top;\n",
       "    }\n",
       "\n",
       "    .dataframe thead th {\n",
       "        text-align: right;\n",
       "    }\n",
       "</style>\n",
       "<table border=\"1\" class=\"dataframe\">\n",
       "  <thead>\n",
       "    <tr style=\"text-align: right;\">\n",
       "      <th></th>\n",
       "      <th>persons</th>\n",
       "      <th>meals_num</th>\n",
       "      <th>range</th>\n",
       "    </tr>\n",
       "  </thead>\n",
       "  <tbody>\n",
       "    <tr>\n",
       "      <th>persons</th>\n",
       "      <td>1.000000</td>\n",
       "      <td>0.005707</td>\n",
       "      <td>-0.001040</td>\n",
       "    </tr>\n",
       "    <tr>\n",
       "      <th>meals_num</th>\n",
       "      <td>0.005707</td>\n",
       "      <td>1.000000</td>\n",
       "      <td>0.222537</td>\n",
       "    </tr>\n",
       "    <tr>\n",
       "      <th>range</th>\n",
       "      <td>-0.001040</td>\n",
       "      <td>0.222537</td>\n",
       "      <td>1.000000</td>\n",
       "    </tr>\n",
       "  </tbody>\n",
       "</table>\n",
       "</div>"
      ],
      "text/plain": [
       "            persons  meals_num     range\n",
       "persons    1.000000   0.005707 -0.001040\n",
       "meals_num  0.005707   1.000000  0.222537\n",
       "range     -0.001040   0.222537  1.000000"
      ]
     },
     "execution_count": 37,
     "metadata": {},
     "output_type": "execute_result"
    }
   ],
   "source": [
    "pp_meals = []\n",
    "pp_range = []\n",
    "for person in unique_people:\n",
    "    pp_meals.append(p_meals[person])\n",
    "    pp_range.append(p_range[person])\n",
    "pre_data = {'persons' : unique_people, 'meals_num' : pp_meals, 'range' : pp_range}\n",
    "corr_data = pd.DataFrame(data=pre_data)\n",
    "corr_data.corr()"
   ]
  },
  {
   "cell_type": "markdown",
   "metadata": {},
   "source": [
    "მოცემული დიაგრამის საშუალებით ჩანს, რომ მინიმალური meal-ების რაოდენობა კონკრეტული ადამიანისთვის არის 1, ხოლო მაქსიმუმი 6.\n",
    "საინტერესოა ფაქტი, რომ 4-ზე ნაკლები ძალიან ცოტას შეყავს. ასევე შესამჩნევია რომ თანაბრადაც არ არის განაწილებული და საკმაოდ დიდი სხვაობებია მნიშვნელობებს შორის.\n",
    "ვფიქრობდით, რომ meal-ების არალოგიკური რაოდენობის განაწილება ბევრად დიდი იქნებოდა, რადგან ახალ მომხმარებელს თავიდან შესაძლოა გაჭირვებოდა ნავიგაცია და meal-ებში არალოგიკური რაღაც ქონოდა ჩაწერილი, ან მთელი დღისა და მოხმარების პროცესში სულ ერთიდაიგივეს იყენებდა. თუმცა არც დიაგრამა და არც კორელაციის მატრიცი ამაზე არ მეტყველებს. მოცემული სურათი მაინც ლოგიკურად ასახავს რეალურ სიტუაციას და მეტყველებს რაღაც ფაქტებზე. მაგალითად წინა დიაგრამაში ვნახეთ რომ 5000-ზე მეტი ადამიანი იყო ისეთი, ვისაც დიდი ხანი არ გამოუყენებია აპლიკაცია (ადამიანები რომლებმაც მოკლე დროში დაანებეს მის გამოყენებას თავი). მოდი პირობითად ვუწოდოთ მათ \"დამწყებები\". ფაქტი, რომ meal რაოდენობა არ არის 1-2-3-ის მნიშვნელობები არის ძალიან ცოტა მეტყველებს იმაზე, რომ დამწყებები მარტივად ადაპტირდებიან აპლიკაციასთან და მათთვის არ არის პრობლემა სწორი რაოდენობით meal-ების შეყვანა, რადგან მაგალითად 1 საკმაოდ დამაეჭვებელია."
   ]
  },
  {
   "cell_type": "markdown",
   "metadata": {},
   "source": [
    "ახლა განაწილება ვნახოთ კონკრეტულ დღეს რამდენ ადამიანს შეყავდა მონაცემები."
   ]
  },
  {
   "cell_type": "code",
   "execution_count": 38,
   "metadata": {},
   "outputs": [
    {
     "name": "stdout",
     "output_type": "stream",
     "text": [
      "587186\n"
     ]
    }
   ],
   "source": [
    "unique_dates = data.iloc[:, 1].unique()\n",
    "unique_dates.sort()\n",
    "date_people = {}\n",
    "sm = 0\n",
    "for date in unique_dates:\n",
    "    mask = data.Date == date\n",
    "    sz = data.loc[mask, :].shape[0]\n",
    "    date_people[date] = sz\n",
    "    sm += sz\n",
    "print(sm)"
   ]
  },
  {
   "cell_type": "code",
   "execution_count": 39,
   "metadata": {},
   "outputs": [
    {
     "data": {
      "image/png": "[encoded data removed]",
      "text/plain": [
       "<Figure size 432x288 with 1 Axes>"
      ]
     },
     "metadata": {
      "needs_background": "light"
     },
     "output_type": "display_data"
    }
   ],
   "source": [
    "bla = [i for i in unique_dates]\n",
    "blu = [date_people[i] for i in unique_dates]\n",
    "plt.plot([i for i in range(1, 209)], blu, color='purple', label='Traffic')\n",
    "plt.ylabel('Num Users')\n",
    "plt.xlabel('Day')\n",
    "plt.legend()\n",
    "plt.show()"
   ]
  },
  {
   "cell_type": "markdown",
   "metadata": {},
   "source": [
    "მივიღეთ საკმაოდ საინტერესო შედეგი. აშკარად ჩანს კანონზომიერება დღეებს შორის. მაგრამ საჭიროა დავაკვირდეთ რამდენიმე საინტერესო ფაქტს:\n",
    "- მონაცემების რაოდენობა თავიდან საეჭვოდ სწრაფად იზრდება, ბოლოს კი ზედმეტად სწრაფად და მოულოდნელად მცირდება. ერთი შეხედვით შესაძლოა ვიფიქროთ, რომ უბრალოდ მონაცემები გვაკლია საწყისი და ბოლო დღეებისთვის. თუმცა აუცილებელია გავამახვილოთ ყურადღება იმაზეც, რომ კანონზომიერებას, აქვს პარაბოლის ფორმა, რაც სეზონურობის ნიშანია,  რომ კონკრეტულ მონაკვეთებში სტაციონურსაც კი გავს. იმის თქმა მინდა, რომ იმ დაბალანსებულ მონაკვეთებში, როცა დღეებს შორის აშკარა კავშირი იგრძნობა, დამოკიდებულება არის შემდეგი: ჯერ იზრდება, აღწევს პიკს და ისევ დაბლა ეშვება. ანალოგიური რაღა ხდება თავშიც და ბოლოშიც, იმ ნაწილებში, სადაც თითქოს მონაცემები უნდა აკლდეს... ამის გათვალისწინებით ასე თვალდაუხუჭავად ამ მონაცემების გადაყრა არ გამოდგება მაგრამ სტაციონურობის პირობას აშკარად არღვევს და თუ ფრედიქშენი დაგვჭირდა time series-ზე საჭიროა რამე მოვიმოქმედოთ :)\n",
    "- სადღაც მე-100 დღეს არის ჩავარდნა, შემდეგ კი საკმაოდ დიდი აღმასვლა. ამის შესაძლოა რამდენიმე მიზეზი ქონდეს.ახლა კი თავს უფლებას მივცემთ გაგიზიაროთ ჩვენი აზრიც: მოცემული დღე არის 25 დეკემბერი (შობა) რაც ალბათ დაგვეთანხმებით, რომ ერთ-ერთი ყველაზე პოპულარული და მნიშვნელოვანი დღესასწაულია ბევრისთვის. ამიტომ, ლოგიკური ჩანს, რომ ამ კონკრეტულ დღეს აპლიკაციისთვის ბევრს აღარ ეცალა, ხოლო იმ უქმეების შემდეგ რაც მას მოსდევს, აშკარად ბევრმა ადამიანმა გადაწყვიტა გაეკონტროლებინა კვების რაციონი..."
   ]
  },
  {
   "cell_type": "code",
   "execution_count": 40,
   "metadata": {},
   "outputs": [
    {
     "data": {
      "text/plain": [
       "0"
      ]
     },
     "execution_count": 40,
     "metadata": {},
     "output_type": "execute_result"
    }
   ],
   "source": [
    "dates = []\n",
    "for date in unique_dates:\n",
    "    dates.append(int(date[len(date) - 2:]))\n",
    "missing = 0\n",
    "for i in range(1, len(dates)):\n",
    "    if dates[i - 1] > dates[i]:\n",
    "        if dates[i] != 1:\n",
    "            missing += 1\n",
    "missing"
   ]
  },
  {
   "cell_type": "markdown",
   "metadata": {},
   "source": [
    "მოცემული გვაქვს 208 დღიანი მონაკვეთი, სადაც გამოტოვებული დღეები არ არის."
   ]
  },
  {
   "cell_type": "code",
   "execution_count": 41,
   "metadata": {},
   "outputs": [],
   "source": [
    "nutritions = {}\n",
    "count_nutritions = {}\n",
    "missmatched = []\n",
    "negatives = []\n",
    "for i in data.index:\n",
    "    curr = get_nutritions(data, i)\n",
    "    if is_missmatched(data, i):\n",
    "        missmatched.append(i)\n",
    "    if is_negative(data, i):\n",
    "        negatives.append(i)\n",
    "        \n",
    "    for nutrition in curr:\n",
    "        if nutrition not in count_nutritions:\n",
    "            count_nutritions[nutrition]=1\n",
    "        else:\n",
    "            count_nutritions[nutrition]+=1\n",
    "    nutritions = set.union(curr, nutritions)"
   ]
  },
  {
   "cell_type": "code",
   "execution_count": 42,
   "metadata": {},
   "outputs": [
    {
     "data": {
      "image/png": "[encoded data removed]",
      "text/plain": [
       "<Figure size 1080x504 with 1 Axes>"
      ]
     },
     "metadata": {
      "needs_background": "light"
     },
     "output_type": "display_data"
    }
   ],
   "source": [
    "fig = plt.figure(figsize=(15,7))\n",
    "ax = fig.add_axes([0,0,1,1])\n",
    "ax.bar(list(count_nutritions.keys()),list(count_nutritions.values()))\n",
    "plt.show()"
   ]
  },
  {
   "cell_type": "code",
   "execution_count": 43,
   "metadata": {},
   "outputs": [
    {
     "data": {
      "text/plain": [
       "{'Calories': 587186,\n",
       " 'Protein': 579872,\n",
       " 'Sodium': 390527,\n",
       " 'Fat': 569334,\n",
       " 'Sugar': 368917,\n",
       " 'Carbs': 573048,\n",
       " 'Fiber': 242840,\n",
       " 'Potass.': 19416,\n",
       " 'Iron': 29016,\n",
       " 'Calcium': 22925,\n",
       " 'Sat Fat': 16576,\n",
       " 'Chol': 18252,\n",
       " 'Vit C': 2486,\n",
       " 'Vit A': 774,\n",
       " 'Trn Fat': 1828,\n",
       " 'Mon Fat': 428,\n",
       " 'Ply Fat': 761}"
      ]
     },
     "execution_count": 43,
     "metadata": {},
     "output_type": "execute_result"
    }
   ],
   "source": [
    "count_nutritions"
   ]
  },
  {
   "cell_type": "markdown",
   "metadata": {},
   "source": [
    "მოცემული ჩარტი გვიჩვენებს თუ კონკრეტულ დღეს რომელი ნუტრიოტი რამდენჯერ გამოიყენეს.\n",
    "სულ გვაქვს 17 ნუტრიოტი, რომელთაგან 7 არის ხშირად გამოყენებადი, დანარჩენები კი სხვებთან შედარებით ძალიან იშვიათად გვხვდება. ცხადია, 29000 არ არის ცოტა, მაგრამ ნამდვილად ცოტაა 600 000-თან შედარებით. ამიტომ საჭიროა დავფიქრდეთ, იქნება თუ არა საჭირო მათი გამოყენება. ასევე აღსანიშნავია ფაქტი, რომ არცერთ მომხმარებელს 6-ზე მეტი ნუტრიოტი შეყვანილი არ ყავს. "
   ]
  },
  {
   "cell_type": "code",
   "execution_count": 44,
   "metadata": {},
   "outputs": [],
   "source": [
    "nutritions_distribution = {}\n",
    "for person in unique_people:\n",
    "    person_nutritions = get_person_nutritions(data, person)\n",
    "    for nutrition in person_nutritions:\n",
    "        if nutrition not in nutritions_distribution:\n",
    "            nutritions_distribution[nutrition] = 1\n",
    "        else:\n",
    "            nutritions_distribution[nutrition] += 1"
   ]
  },
  {
   "cell_type": "code",
   "execution_count": 45,
   "metadata": {},
   "outputs": [
    {
     "data": {
      "image/png": "[encoded data removed]",
      "text/plain": [
       "<Figure size 1080x504 with 1 Axes>"
      ]
     },
     "metadata": {
      "needs_background": "light"
     },
     "output_type": "display_data"
    }
   ],
   "source": [
    "fig = plt.figure(figsize=(15,7))\n",
    "ax = fig.add_axes([0,0,1,1])\n",
    "ax.bar(list(nutritions_distribution.keys()),list(nutritions_distribution.values()))\n",
    "plt.show()"
   ]
  },
  {
   "cell_type": "code",
   "execution_count": 46,
   "metadata": {},
   "outputs": [
    {
     "data": {
      "text/plain": [
       "{'Calories': 9896,\n",
       " 'Protein': 9760,\n",
       " 'Sodium': 6676,\n",
       " 'Fat': 9569,\n",
       " 'Sugar': 6543,\n",
       " 'Carbs': 9684,\n",
       " 'Fiber': 3629,\n",
       " 'Potass.': 287,\n",
       " 'Iron': 474,\n",
       " 'Calcium': 372,\n",
       " 'Sat Fat': 296,\n",
       " 'Chol': 310,\n",
       " 'Vit C': 49,\n",
       " 'Vit A': 20,\n",
       " 'Trn Fat': 48,\n",
       " 'Mon Fat': 12,\n",
       " 'Ply Fat': 14}"
      ]
     },
     "execution_count": 46,
     "metadata": {},
     "output_type": "execute_result"
    }
   ],
   "source": [
    "nutritions_distribution"
   ]
  },
  {
   "cell_type": "markdown",
   "metadata": {},
   "source": [
    "მოცემული ჩარტი წინას ისე გავს, შესაძლოა თავიდან რომ შევხედავთ ვერც კი გავიგოთ რა განსხვავებაა ამასა და წინა-ს შორის. საქმე იმაშია, რომ განაწილება თითქმის ერთნაირია,მაგრამ მათ შორის განსხვავება არის ის, რომ პირველი აღნიშნავდა კონკრეტული ნუტრიოტი სულ რამდენჯერ იქნა გამოყენებული, ეს კი გვიჩვენებს კონკრეტული ნუტრიოტი რამდენმა ადამიანმა გამოიყენა. ამის ფონზე რკინის 29000 იანი მაჩვენებელი კიდევ უფრო შემცირდა, რადგან თითქმის 10000 ადამიანიდან მხოლოდ 400-ს შეყავდა რკინა, რომელიც დანარჩენ მცირერიცხოვნებს შორის \"ლიდერი\" არის. ამის გათვალისწინებით, შესაძლოა ვიფიქროთ მეხსიერების, რესურსისა და დროის დაზოგვის მიზნით ისინი აუცილებლობის არსებობის გარეშე, არ გამოვიყენოთ მომავალში ცვლადებად."
   ]
  },
  {
   "cell_type": "markdown",
   "metadata": {},
   "source": [
    "მონაცემების გასუფთავება/შესწორება\n",
    "-"
   ]
  },
  {
   "cell_type": "code",
   "execution_count": 47,
   "metadata": {},
   "outputs": [
    {
     "data": {
      "text/plain": [
       "918"
      ]
     },
     "execution_count": 47,
     "metadata": {},
     "output_type": "execute_result"
    }
   ],
   "source": [
    "len(missmatched)"
   ]
  },
  {
   "cell_type": "code",
   "execution_count": 48,
   "metadata": {},
   "outputs": [
    {
     "data": {
      "text/plain": [
       "1399"
      ]
     },
     "execution_count": 48,
     "metadata": {},
     "output_type": "execute_result"
    }
   ],
   "source": [
    "len(negatives)"
   ]
  },
  {
   "cell_type": "code",
   "execution_count": 49,
   "metadata": {},
   "outputs": [
    {
     "data": {
      "text/plain": [
       "877"
      ]
     },
     "execution_count": 49,
     "metadata": {},
     "output_type": "execute_result"
    }
   ],
   "source": [
    "duplicated = []\n",
    "anomalies = []\n",
    "for i in missmatched:\n",
    "    nutrs = get_nutritions(data, i)\n",
    "    curr = 0\n",
    "    for nutr in nutrs:\n",
    "        if get_total_nutrition(data, i, nutr) != None:\n",
    "            if (get_total_nutrition(data, i, nutr) * 2 == get_nutritions_sum(data, i, nutr)[0]): \n",
    "                curr = 1\n",
    "            elif get_total_nutrition(data,i, nutr) != get_nutritions_sum(data, i, nutr)[0]:\n",
    "                curr = 0\n",
    "                break\n",
    "            else:\n",
    "                anomalies.append(i)\n",
    "                curr = 0\n",
    "                break\n",
    "    if curr == 1:\n",
    "        duplicated.append(i)\n",
    "len(duplicated)"
   ]
  },
  {
   "cell_type": "code",
   "execution_count": 50,
   "metadata": {},
   "outputs": [
    {
     "data": {
      "text/plain": [
       "14"
      ]
     },
     "execution_count": 50,
     "metadata": {},
     "output_type": "execute_result"
    }
   ],
   "source": [
    "len(anomalies)"
   ]
  },
  {
   "cell_type": "markdown",
   "metadata": {},
   "source": [
    "ვეცადეთ მოგვეძებნა დეტალები, რომლებიც შესაძლოა აფუჭებდნენ საქმეს და მივაგენით რომ:\n",
    "- ზოგი ნუტრიოტის მნიშვნელობა არის უარყოფითი რიცხვი. ზოგან ეს ტექნიკური შეცდომითაა, ზოგან კი სპეციალურად (breastfeeding). \n",
    "- დავწერეთ დამხმარე ფუნქცია, რომელიც უშუალოდ Input ველში კრებს ნუტრიოტებს და ადარებს მნიშვნელობას, რომელიც ტოტალში წერია. წესით ისინი ტოლები უნდა იყონ, მაგრამ 918 შემთხვევაში ეს ასე არ ხდება და გვაქვს აცდენა. 918 ცხადია პატარა რიცხვია და შეგვიძლია მისი გადაგდება მაგრამ ასე არ მოვიქეცით ერთი მიზეზის გამო: 918 დან 877 შემთხვევაში ეს აცდენა გამოიწვია იმან, რომ Input ში მოწოდებული გვაქვს გამეორებული ინფორმაცია, რასაც ადასტურებს sequence-ც და აბსოლიტურად ზუსტი კოპიოები თითოეული meal-ისა და dish-ის. ეს ნიშნავს, რომ ტოტალი ორჯერ ნაკლები უნდა იყოს იქიდან მირებულ ჯამზე და მართლაც ასეა. ანუ Input ის ინფორმაცია რომ გავანახევროთ მოცემული ინდექსებისთვის ყველაფერი მწყობრში ჩადგება. ასევე კარგი აზრია დავპლოტოთ ის დღეები სადაც ეს შეცდომა (დუბლირება) გაიპარა, რადგან არსებობს რისკი, რომ აპლიკაცია რაღაც შემთხვევაში იბაგება და არასწორ ინფორმაციას გვაწვდის, ამ შემთხვევაში ეს ბაგი აუცილებლად გასასწორებელი იქნება, რადგან არვიცით რას გამოიწვევს, კარგს რომ არაფერს, მაგაზე ყველანი ვთანხმდებით :) ასევე სრულებით შესაძლებელია რამდენიმე ერთეული იუზერის გამო ხდებოდეს ეს ყველაფერი. ამ შემთხვევაში ვერაფერს გავხდებით. \n",
    "- საბოლოოდ, დადგინდა, რომ მხოლოდ 14 ისეთი ინდექსი გვაქ სადაც დამთხვევა არ ხდება Input ის ნუტრიოტების ჯამისა და total-ის. ამიტომ ისინი დაუფიქრებლად გადავყაროთ :)"
   ]
  },
  {
   "cell_type": "markdown",
   "metadata": {},
   "source": [
    "ახალი ცხრილების შედგენა\n",
    "-"
   ]
  },
  {
   "cell_type": "markdown",
   "metadata": {},
   "source": [
    "თავიდანვე ჩანდა და ახლაც კარგად გამოჩნდა, რომ პროექტზე მუშაობის წაყვანა შესაძლებელია ორი მიმართულებით. \n",
    "- იუზერის ანალიზი -> ფრედიქშენი მის დიეტაზე, რეკომენდაცია\n",
    "- დღის ანალიზი -> დღეებს შორის კავშირის დადგენაზე, წინასწარმეტყველება მომავლის ინფორმაციაზე\n",
    "\n",
    "ამ ყველაფრის გათვალისწინებით, გადავწყვიტეთ აგვეგო ორი ცხრილი, ერთი იუზერების კლასტერიზაციისთვის, ხოლო მეორე დღების კლასტერიზაციისთვის. ვნახოთ რა შედეგს მოგვცემს თითოეული მათგანი და ავარჩიოთ და შევქმნათ ცვლადები, რომელიც დაგვეხმარებიან კლასტერიზაციაში."
   ]
  },
  {
   "cell_type": "markdown",
   "metadata": {},
   "source": [
    "დღის ჭრილში ანალიზი, ცხრილის შექმნა\n",
    "-"
   ]
  },
  {
   "cell_type": "markdown",
   "metadata": {},
   "source": [
    "როგორც უკვე აღვნიშნეთ, პირველი 7 ნუტრიოტის გარდა, დიდი საჭიროება თუ არ იქნება სჯობს ავერიდოთ ბოლო 9 ნუტრიოტს (ვსაუბრობ ნუტრიოტების რაოდენობების განაწილების ჩარტზე). \n",
    "\n",
    "- nutrition_avg_sum -> დღეების ანალიზში შესაძლოა ქონდეს მნიშვნელობა, კონკრეტულ დღეს საშუალოდ რამდენ ნუტრიოტს იღებს მომხმარებელი. ამით შესაძლოა მივწვდეთ და დავადგინოთ მაგალითად დღესასწაულები (წესით ამ დროს საშუალო მეტი უნდა იყოს ხოლმე). ამავდროულად, არ ვკარგავთ ინფორმაციას ნუტრიოტების შესახებ \n",
    "- unique_users -> იმ მომხმრებელთა რაოდენობა კონკრეტულ დღეს, რომლებმაც გამოიყენეს და მონაცემები შეიყვანეს აპლიკაციაში. ეს შესაძლოა იყოს ერთ-ერთი ყველაზე მნიშვნელოვანი ფიჩერი, იმის მიუხედავად რის გაკეთებას გადავწყვეტთ დღის ანალიზის მიხედვით.\n",
    "- nutrition_avg_diff -> ამ დღისთვის, რამდენი იყო აცდენა goal-სა და total-ს შორის. შეგვიძლია გამოვიყენოთ იგივე მიზნებით, რისტვისაც ვქმნით პირველ ცვლადს\n",
    "- unique_dates -> დღე, რომელზეც გვაქვს ინფორმაცია. შეგვიძლია დავაყენოთ ინდექსადაც :)"
   ]
  },
  {
   "cell_type": "code",
   "execution_count": 55,
   "metadata": {},
   "outputs": [],
   "source": [
    "date_avg_nutritions = []\n",
    "for date in unique_dates:\n",
    "    date_avg_nutritions.append(get_daily_average_nutritions(data, date, anomalies))"
   ]
  },
  {
   "cell_type": "code",
   "execution_count": 39,
   "metadata": {},
   "outputs": [],
   "source": [
    "date_avg_difference = []\n",
    "for date in unique_dates:\n",
    "    date_avg_difference.append(get_daily_average_difference(data, date, anomalies))"
   ]
  },
  {
   "cell_type": "code",
   "execution_count": 57,
   "metadata": {},
   "outputs": [],
   "source": [
    "dictionary = {'unique_dates' : unique_dates, 'unique_users' : [date_people[i] for i in unique_dates]}\n",
    "dictionary['unique_meals'] = [get_daily_meals_num(data, date) for date in unique_dates]\n",
    "our_nutritions = ['Protein', 'Calories', 'Sodium', 'Sugar', 'Fat', 'Carbs', 'Fiber']\n",
    "for nutrition in our_nutritions:\n",
    "    indx = nutrition + '_average_sum'\n",
    "    dictionary[indx] = [dic[nutrition] for dic in date_avg_nutritions]\n",
    "for nutrition in our_nutritions:\n",
    "    indx = nutrition + '_average_dif'\n",
    "    dictionary[indx] = [dic[nutrition] for dic in date_avg_difference]"
   ]
  },
  {
   "cell_type": "code",
   "execution_count": 64,
   "metadata": {},
   "outputs": [],
   "source": [
    "daysta = pd.DataFrame(data=dictionary)\n",
    "daysta.to_csv('daily_data.csv')"
   ]
  },
  {
   "cell_type": "markdown",
   "metadata": {},
   "source": [
    "მომხმარებლის ანალიზი, ცხრილის შექმნა\n",
    "-"
   ]
  },
  {
   "cell_type": "markdown",
   "metadata": {},
   "source": [
    "- avg_proportions_diff -> nutrition science-ის ერთ-ერთი უმარტივესი ფორმულა არის: calories = 4 * proteins + 4 * carbs + 9 * fat. ეს შესაძლოა გამოგვადგეს იმის დასადგენად, რამდენად სწორად იკვებებიან მომხმარებლები და რამდენად სწორად შეყავთ მონაცემები. ახალბედებს დიდი ალბათობით ეს შეეშლებათ, დრო და დრო კი ისწავლიან და ცდომილება ფორმულის შედეგთან და actual შედეგთან პატარა იქნება. ამის ფონზე, ურიგო არ იქნება ცვლადის შექმნა, რომელიც კონკრეტული იუზერისთვის გვეტყვის საშუალოდ რამდენიც ცდება მოცემულ ფორმულას მისი შეყვანილი მონაცემები.თავიდან მოცემულ ფორმულას სკეპტიკურად ვუყურებდით, მაგრამ შემდეგ ჩავატარეთ ექსპერიმენტი და გოლში ძალიან ხშირ შემთხვევაში სრულდებოდა. შედარებით ნაკლებად, მაგრამ მაინც საკმაოდ წარმატებით სრულდება ჩვენი მომხმარებლების total-ის მონაცემებზეც. წარმატებით შესრულებას ვეძახით 100 მდე ცდომილებას. ქვემოთ მოცემული ჩარტი კარგად აჩვენებს მას. 250 მკაცრად მცირდება, შემდეგ კი იმატებს. ცხადია ეს გამოწვეულია იმით, რომ თავიდან ბევრმა არ იცის მონაცემების კარგად შეყვანა. მოკლედ, ეს ცვლადი საკმაოდ საინტერესო ჩანს და წესით კარგი გამყოფი უნდა იყოს გამოცდილი და გამოუცდელი მომხმარებლების\n",
    "- unique_foods -> რაც არ უნდა გასაკვირი იყოს, ამდენი მონაცემი გვაქვს, მაგრამ მიუხედავად ამისა მაინც შეგვიძლია დავადგინოთ განსხვავებული საჭმელების რაოდენობა. ერთჯერადად გამოვიყენეთ ფუნქცია და რაოდენობა დაახლოებით 1 500 000 იყო. ამის ფონზე, ვიფიქრეთ შეიძლებოდა მისი ფიჩერად გამოყენებაც თითოეული მომხმარებლისთვის. ეს ცვლადი შესაძლოა ძალიან ბევრის მთქმელი არაა, მაგრამ მაინც არის შესაძლებელი გამოგვადგეს და დაგვეხმაროს იუზერების დახარისხებისას.\n",
    "- input_number -> იგივეს ვერ ვიტყვით ამ ფიჩერზე, რადგან ის საკმაოდ მნიშვნელოვან როლს შეიტანს იმაში, რომ დავადგინოთ მომხმარებლის \"სიახლოვე\" აპლიკაციასთან. გვგონია, რომ კლასტერიზაციაში ის უმნიშვნელოვანეს როლს ითამაშებს.\n",
    "- avg_(positive/negtive/none) difference -> ეს ცვლადი შედარებით განსხვავებულია სხვებთან შედარებით, არ არის სტანდარტული. ეს გამოიხატება იმაში, რომ აღნიშნავს, კონკრეტული ნუტრიოტის შემთხვევაში რამდენჯერ გადაცდა/ჩამორჩა/ზუსტად_დასვა/საერთოდ არ გამოიყენა ნუტრიოტი. ამით შეგვიძლია დავიჭიროთ ის, თუ რამდენად კარგად ასრულებს ხოლმე თავის ვალდებულებას და რამდენად ვითარდება. თეორიულად, შესაძლებელია გავიდეთ იმაზეც დაკლება სურს თუ მომატება. ამის საშუალებით კი მერე განვსაზღვრავთ თუ დაახლოებით რა მიზნებისთვის იყენებენ აპლიკაციას და ვინ წარმოადგენს ძირითად ნაწილს მომხმარებლებისას.\n",
    "- nutrition_avg -> გვიჩვენებს საშუალოდ რამდენს იღებს მომხმარებელი (კონკრეტულ ნუტრიოტს)\n",
    "- dates_list -> ორივე ცხრილის კლასტერიზაციის შემდეგ, დაგვჭირდა მათი დაკავშირება ერთმანეთთან. ამისთვის გავაკეთეთ ეს ველი, რომელშიც ვინახავთ ლისტს json-ად, კონკრეტული მომხმარებელი რა დღეებში სარგებლობდა ამ აპლიკაციით\n",
    "\n",
    "FAIL! საშუალოსთან ერთად, ორივე ცხრილში გვქონდა მინიმუმები და მაქსიმუმები, თუმცა კლასტერიზაციის დროს ზუსტად ისეთი განაწილება ქონდათ ორივეგან, როგორც საშუალოს, ამიტომ გადავწყვიტეთ მათი ამოგდება. საშუალოს ჩასმა კი იმიტომ არის კარგი, რომ კონკრეტული ნუტრიოტების შესახებ რაოდენობრივ ინფორმაციას არ ვკარგავთ. ეგეც რომ ამოვაგდოთ, უშუალოდ რომელი მომხმარებელი დაახლოებით რამდენ კალორიას იღებს, მაგალითად ეგ ფაქტობრივად აღარ გვეცოდინებოდა. ახლა დაახლოებით მაინც გვექნება წარმოდგენა საშუალოს საშუალებით )"
   ]
  },
  {
   "cell_type": "code",
   "execution_count": 51,
   "metadata": {},
   "outputs": [],
   "source": [
    "def get_range2(num):\n",
    "    if num <= 50 and num != 0:\n",
    "        return 0\n",
    "    elif num <= 100:\n",
    "        return 1\n",
    "    elif num <= 150:\n",
    "        return 2\n",
    "    elif num <= 200:\n",
    "        return 3\n",
    "    elif num <= 250:\n",
    "        return 4\n",
    "    elif num <= 500:\n",
    "        return 5\n",
    "    else:\n",
    "        return 6"
   ]
  },
  {
   "cell_type": "code",
   "execution_count": 52,
   "metadata": {},
   "outputs": [],
   "source": [
    "nutritions_dif = [0, 0, 0, 0, 0, 0, 0]\n",
    "for row in data.index:\n",
    "    rang = get_range2(check_proportions(data, row))\n",
    "    nutritions_dif[rang] += 1"
   ]
  },
  {
   "cell_type": "code",
   "execution_count": 53,
   "metadata": {},
   "outputs": [
    {
     "data": {
      "image/png": "[encoded data removed]",
      "text/plain": [
       "<Figure size 432x288 with 1 Axes>"
      ]
     },
     "metadata": {
      "needs_background": "light"
     },
     "output_type": "display_data"
    }
   ],
   "source": [
    "fig = plt.figure()\n",
    "ax = fig.add_axes([0,0,1,1])\n",
    "ranges = ['0-50', '51-100', '101-150', '150-200', '200-250', '250-500', '500+']\n",
    "ax.bar(ranges, nutritions_dif)\n",
    "plt.show()"
   ]
  },
  {
   "cell_type": "code",
   "execution_count": 59,
   "metadata": {},
   "outputs": [],
   "source": [
    "people_data = {}\n",
    "unique_foods = []\n",
    "input_number = []\n",
    "avg_daily_food = []\n",
    "avg_diff_from_formula = []\n",
    "\n",
    "for person in unique_people:\n",
    "    unique_foods.append(get_persons_unique_foods(data, person))\n",
    "    input_number.append(data.loc[data.Person == person, ['Date']].shape[0])\n",
    "    avg_daily_food.append(unique_foods[len(unique_foods) - 1] / input_number[len(input_number) - 1])\n",
    "    avg_diff_from_formula.append(person_avg_formula_diff(data, person, anomalies))\n",
    "    \n",
    "people_data['unique_foods'] = unique_foods\n",
    "people_data['input_number'] = input_number\n",
    "people_data['avg_daily_food'] = avg_daily_food \n",
    "people_data['avg_proportions_diff'] = avg_diff_from_formula"
   ]
  },
  {
   "cell_type": "code",
   "execution_count": 63,
   "metadata": {},
   "outputs": [],
   "source": [
    "def get_dates_list(data, person):\n",
    "    df = data.loc[data.Person == person,['Date']]\n",
    "    return df.iloc[:, 0].unique()\n",
    "dates_list = []\n",
    "for person in unique_people:\n",
    "    dates_list.append(json.dumps(get_dates_list(data, person).tolist()))\n",
    "people_data['dates_list'] = dates_list"
   ]
  },
  {
   "cell_type": "code",
   "execution_count": 60,
   "metadata": {},
   "outputs": [],
   "source": [
    "positive_difference = {}\n",
    "negative_difference = {}\n",
    "none_difference = {}\n",
    "for person in unique_people:\n",
    "    for nutrition in our_nutritions:\n",
    "        difference = get_nutrition_difference(data, person, nutrition, anomalies)\n",
    "        if nutrition not in positive_difference:\n",
    "            positive_difference[nutrition] = []\n",
    "            negative_difference[nutrition] = []\n",
    "            none_difference[nutrition] = []\n",
    "        positive_difference[nutrition].append(difference[0])\n",
    "        negative_difference[nutrition].append(difference[1])\n",
    "        none_difference[nutrition].append(difference[2])\n",
    "for nutrition in our_nutritions:\n",
    "    positive_nutrition = nutrition + '_positive' + '_difference'\n",
    "    people_data[positive_nutrition] = positive_difference[nutrition]\n",
    "    negative_nutrition = nutrition + '_negative' + '_difference'\n",
    "    people_data[negative_nutrition] = negative_difference[nutrition]\n",
    "    none_nutrition = nutrition + '_none' + '_difference'\n",
    "    people_data[none_nutrition] = none_difference[nutrition]"
   ]
  },
  {
   "cell_type": "code",
   "execution_count": 61,
   "metadata": {},
   "outputs": [],
   "source": [
    "nutrition_avg_val = {}\n",
    "for person in unique_people:\n",
    "    for nutrition in our_nutritions:\n",
    "        avg = avg_nutrition(data, person, nutrition, anomalies)\n",
    "        if nutrition not in nutrition_avg_val:\n",
    "            nutrition_avg_val[nutrition] = []\n",
    "        nutrition_avg_val[nutrition].append(avg)\n",
    "for nutrition in our_nutritions:\n",
    "    nutrition_avg = nutrition + '_avg'\n",
    "    people_data[nutrition_avg] = nutrition_avg_val[nutrition]"
   ]
  },
  {
   "cell_type": "code",
   "execution_count": 65,
   "metadata": {},
   "outputs": [],
   "source": [
    "people_dataframe = pd.DataFrame(data=people_data)\n",
    "people_dataframe.to_csv('people_data.csv')"
   ]
  }
 ],
 "metadata": {
  "kernelspec": {
   "display_name": "Python 3",
   "language": "python",
   "name": "python3"
  },
  "language_info": {
   "codemirror_mode": {
    "name": "ipython",
    "version": 3
   },
   "file_extension": ".py",
   "mimetype": "text/x-python",
   "name": "python",
   "nbconvert_exporter": "python",
   "pygments_lexer": "ipython3",
   "version": "3.8.5"
  }
 },
 "nbformat": 4,
 "nbformat_minor": 4
}
