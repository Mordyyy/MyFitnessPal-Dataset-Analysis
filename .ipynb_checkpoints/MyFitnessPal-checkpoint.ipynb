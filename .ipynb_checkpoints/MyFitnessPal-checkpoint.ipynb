{
 "cells": [
  {
   "cell_type": "code",
   "execution_count": 2,
   "metadata": {},
   "outputs": [],
   "source": [
    "import pandas as pd\n",
    "import numpy as np\n",
    "from pandas import DataFrame\n",
    "import json\n",
    "import csv"
   ]
  },
  {
   "cell_type": "code",
   "execution_count": 5,
   "metadata": {},
   "outputs": [],
   "source": [
    "# import dataset as pandas.DataFrame\n",
    "data = pd.read_csv('a.tsv', sep='\\t', header=0, names=['Person', 'Date', 'Input', 'Result'])\n",
    "# read i-th row\n",
    "# user_id = data.iloc[i,0]\n",
    "# date = data.iloc[i,1]\n",
    "# food_entries = json.loads(data.iloc[i, 2])\n",
    "# agregate_intake_goal = json.loads(data.iloc[i,3])"
   ]
  },
  {
   "cell_type": "code",
   "execution_count": 6,
   "metadata": {},
   "outputs": [
    {
     "data": {
      "text/html": [
       "<div>\n",
       "<style scoped>\n",
       "    .dataframe tbody tr th:only-of-type {\n",
       "        vertical-align: middle;\n",
       "    }\n",
       "\n",
       "    .dataframe tbody tr th {\n",
       "        vertical-align: top;\n",
       "    }\n",
       "\n",
       "    .dataframe thead th {\n",
       "        text-align: right;\n",
       "    }\n",
       "</style>\n",
       "<table border=\"1\" class=\"dataframe\">\n",
       "  <thead>\n",
       "    <tr style=\"text-align: right;\">\n",
       "      <th></th>\n",
       "      <th>Person</th>\n",
       "      <th>Date</th>\n",
       "      <th>Input</th>\n",
       "      <th>Result</th>\n",
       "    </tr>\n",
       "  </thead>\n",
       "  <tbody>\n",
       "    <tr>\n",
       "      <th>0</th>\n",
       "      <td>1</td>\n",
       "      <td>2014-09-15</td>\n",
       "      <td>[{\"meal\": \"MY food\", \"dishes\": [{\"nutritions\":...</td>\n",
       "      <td>{\"total\": [{\"name\": \"Calories\", \"value\": 2430}...</td>\n",
       "    </tr>\n",
       "    <tr>\n",
       "      <th>1</th>\n",
       "      <td>1</td>\n",
       "      <td>2014-09-16</td>\n",
       "      <td>[{\"meal\": \"MY food\", \"dishes\": [{\"nutritions\":...</td>\n",
       "      <td>{\"total\": [{\"name\": \"Calories\", \"value\": 1862}...</td>\n",
       "    </tr>\n",
       "    <tr>\n",
       "      <th>2</th>\n",
       "      <td>1</td>\n",
       "      <td>2014-09-17</td>\n",
       "      <td>[{\"meal\": \"MY food\", \"dishes\": [{\"nutritions\":...</td>\n",
       "      <td>{\"total\": [{\"name\": \"Calories\", \"value\": 2251}...</td>\n",
       "    </tr>\n",
       "    <tr>\n",
       "      <th>3</th>\n",
       "      <td>1</td>\n",
       "      <td>2014-09-18</td>\n",
       "      <td>[{\"meal\": \"MY food\", \"dishes\": [{\"nutritions\":...</td>\n",
       "      <td>{\"total\": [{\"name\": \"Calories\", \"value\": 2001}...</td>\n",
       "    </tr>\n",
       "    <tr>\n",
       "      <th>4</th>\n",
       "      <td>1</td>\n",
       "      <td>2014-09-19</td>\n",
       "      <td>[{\"meal\": \"MY food\", \"dishes\": [{\"nutritions\":...</td>\n",
       "      <td>{\"total\": [{\"name\": \"Calories\", \"value\": 2158}...</td>\n",
       "    </tr>\n",
       "    <tr>\n",
       "      <th>...</th>\n",
       "      <td>...</td>\n",
       "      <td>...</td>\n",
       "      <td>...</td>\n",
       "      <td>...</td>\n",
       "    </tr>\n",
       "    <tr>\n",
       "      <th>587181</th>\n",
       "      <td>9897</td>\n",
       "      <td>2015-03-02</td>\n",
       "      <td>[{\"meal\": \"Breakfast\", \"dishes\": [{\"nutritions...</td>\n",
       "      <td>{\"total\": [{\"name\": \"Calories\", \"value\": 1979}...</td>\n",
       "    </tr>\n",
       "    <tr>\n",
       "      <th>587182</th>\n",
       "      <td>9897</td>\n",
       "      <td>2015-03-03</td>\n",
       "      <td>[{\"meal\": \"Breakfast\", \"dishes\": [{\"nutritions...</td>\n",
       "      <td>{\"total\": [{\"name\": \"Calories\", \"value\": 2141}...</td>\n",
       "    </tr>\n",
       "    <tr>\n",
       "      <th>587183</th>\n",
       "      <td>9897</td>\n",
       "      <td>2015-03-04</td>\n",
       "      <td>[{\"meal\": \"Breakfast\", \"dishes\": [{\"nutritions...</td>\n",
       "      <td>{\"total\": [{\"name\": \"Calories\", \"value\": 543},...</td>\n",
       "    </tr>\n",
       "    <tr>\n",
       "      <th>587184</th>\n",
       "      <td>9897</td>\n",
       "      <td>2015-03-14</td>\n",
       "      <td>[{\"meal\": \"Breakfast\", \"dishes\": [{\"nutritions...</td>\n",
       "      <td>{\"total\": [{\"name\": \"Calories\", \"value\": 2024}...</td>\n",
       "    </tr>\n",
       "    <tr>\n",
       "      <th>587185</th>\n",
       "      <td>9897</td>\n",
       "      <td>2015-03-15</td>\n",
       "      <td>[{\"meal\": \"Breakfast\", \"dishes\": [{\"nutritions...</td>\n",
       "      <td>{\"total\": [{\"name\": \"Calories\", \"value\": 1496}...</td>\n",
       "    </tr>\n",
       "  </tbody>\n",
       "</table>\n",
       "<p>587186 rows × 4 columns</p>\n",
       "</div>"
      ],
      "text/plain": [
       "        Person        Date                                              Input  \\\n",
       "0            1  2014-09-15  [{\"meal\": \"MY food\", \"dishes\": [{\"nutritions\":...   \n",
       "1            1  2014-09-16  [{\"meal\": \"MY food\", \"dishes\": [{\"nutritions\":...   \n",
       "2            1  2014-09-17  [{\"meal\": \"MY food\", \"dishes\": [{\"nutritions\":...   \n",
       "3            1  2014-09-18  [{\"meal\": \"MY food\", \"dishes\": [{\"nutritions\":...   \n",
       "4            1  2014-09-19  [{\"meal\": \"MY food\", \"dishes\": [{\"nutritions\":...   \n",
       "...        ...         ...                                                ...   \n",
       "587181    9897  2015-03-02  [{\"meal\": \"Breakfast\", \"dishes\": [{\"nutritions...   \n",
       "587182    9897  2015-03-03  [{\"meal\": \"Breakfast\", \"dishes\": [{\"nutritions...   \n",
       "587183    9897  2015-03-04  [{\"meal\": \"Breakfast\", \"dishes\": [{\"nutritions...   \n",
       "587184    9897  2015-03-14  [{\"meal\": \"Breakfast\", \"dishes\": [{\"nutritions...   \n",
       "587185    9897  2015-03-15  [{\"meal\": \"Breakfast\", \"dishes\": [{\"nutritions...   \n",
       "\n",
       "                                                   Result  \n",
       "0       {\"total\": [{\"name\": \"Calories\", \"value\": 2430}...  \n",
       "1       {\"total\": [{\"name\": \"Calories\", \"value\": 1862}...  \n",
       "2       {\"total\": [{\"name\": \"Calories\", \"value\": 2251}...  \n",
       "3       {\"total\": [{\"name\": \"Calories\", \"value\": 2001}...  \n",
       "4       {\"total\": [{\"name\": \"Calories\", \"value\": 2158}...  \n",
       "...                                                   ...  \n",
       "587181  {\"total\": [{\"name\": \"Calories\", \"value\": 1979}...  \n",
       "587182  {\"total\": [{\"name\": \"Calories\", \"value\": 2141}...  \n",
       "587183  {\"total\": [{\"name\": \"Calories\", \"value\": 543},...  \n",
       "587184  {\"total\": [{\"name\": \"Calories\", \"value\": 2024}...  \n",
       "587185  {\"total\": [{\"name\": \"Calories\", \"value\": 1496}...  \n",
       "\n",
       "[587186 rows x 4 columns]"
      ]
     },
     "execution_count": 6,
     "metadata": {},
     "output_type": "execute_result"
    }
   ],
   "source": [
    "data"
   ]
  },
  {
   "cell_type": "code",
   "execution_count": 7,
   "metadata": {},
   "outputs": [],
   "source": [
    "def get_value(data, row, col, jsn):\n",
    "    if jsn:\n",
    "        return json.loads(data.iloc[row, col])\n",
    "    else:\n",
    "        return data.iloc[row, col]"
   ]
  },
  {
   "cell_type": "code",
   "execution_count": 8,
   "metadata": {},
   "outputs": [
    {
     "data": {
      "text/plain": [
       "Person      9896\n",
       "Date         208\n",
       "Input     578774\n",
       "Result    581728\n",
       "dtype: int64"
      ]
     },
     "execution_count": 8,
     "metadata": {},
     "output_type": "execute_result"
    }
   ],
   "source": [
    "data.nunique(axis=0, dropna=False)"
   ]
  },
  {
   "cell_type": "code",
   "execution_count": 9,
   "metadata": {},
   "outputs": [],
   "source": [
    "x = []\n",
    "y = [0,0,0,0]\n",
    "for i in range(1, 9898):\n",
    "    mask = data.Person == i\n",
    "    sz = data.loc[mask, :].shape[0]\n",
    "    if sz < 50 and sz != 0:\n",
    "        y[0]+=1\n",
    "    elif sz < 100:\n",
    "        y[1]+=1\n",
    "    elif sz < 150:\n",
    "        y[2]+=1\n",
    "    elif sz < 200:\n",
    "        y[3]+=1"
   ]
  },
  {
   "cell_type": "code",
   "execution_count": 10,
   "metadata": {},
   "outputs": [
    {
     "data": {
      "image/png": "[encoded data removed]",
      "text/plain": [
       "<Figure size 432x288 with 1 Axes>"
      ]
     },
     "metadata": {
      "needs_background": "light"
     },
     "output_type": "display_data"
    }
   ],
   "source": [
    "import matplotlib.pyplot as plt\n",
    "fig = plt.figure()\n",
    "ax = fig.add_axes([0,0,1,1])\n",
    "langs = ['0-50', '50-100', '100-150', '150-200']\n",
    "students = y\n",
    "ax.bar(langs,students)\n",
    "plt.show()"
   ]
  },
  {
   "cell_type": "code",
   "execution_count": 11,
   "metadata": {},
   "outputs": [
    {
     "name": "stdout",
     "output_type": "stream",
     "text": [
      "587186\n"
     ]
    }
   ],
   "source": [
    "unique_dates = data.iloc[:, 1].unique()\n",
    "date_people = {}\n",
    "sm = 0\n",
    "for date in unique_dates:\n",
    "    mask = data.Date == date\n",
    "    sz = data.loc[mask, :].shape[0]\n",
    "    date_people[date] = sz\n",
    "    sm += sz\n",
    "print(sm)"
   ]
  },
  {
   "cell_type": "code",
   "execution_count": 12,
   "metadata": {},
   "outputs": [
    {
     "data": {
      "image/png": "[encoded data removed]",
      "text/plain": [
       "<Figure size 432x288 with 1 Axes>"
      ]
     },
     "metadata": {
      "needs_background": "light"
     },
     "output_type": "display_data"
    }
   ],
   "source": [
    "plt.plot([i for i in range(0,208)], list(date_people.values()), color='purple', label='Traffic')\n",
    "plt.ylabel('Num Users')\n",
    "plt.xlabel('Day')\n",
    "plt.legend()\n",
    "plt.show()"
   ]
  },
  {
   "cell_type": "code",
   "execution_count": 13,
   "metadata": {},
   "outputs": [
    {
     "data": {
      "text/plain": [
       "0"
      ]
     },
     "execution_count": 13,
     "metadata": {},
     "output_type": "execute_result"
    }
   ],
   "source": [
    "unique_dates.sort()\n",
    "dates = []\n",
    "for date in unique_dates:\n",
    "    dates.append(int(date[len(date) - 2:]))\n",
    "missing = 0\n",
    "for i in range(1, len(dates)):\n",
    "    if dates[i - 1] > dates[i]:\n",
    "        if dates[i] != 1:\n",
    "            missing += 1\n",
    "missing"
   ]
  },
  {
   "cell_type": "code",
   "execution_count": null,
   "metadata": {},
   "outputs": [],
   "source": []
  }
 ],
 "metadata": {
  "kernelspec": {
   "display_name": "Python 3",
   "language": "python",
   "name": "python3"
  },
  "language_info": {
   "codemirror_mode": {
    "name": "ipython",
    "version": 3
   },
   "file_extension": ".py",
   "mimetype": "text/x-python",
   "name": "python",
   "nbconvert_exporter": "python",
   "pygments_lexer": "ipython3",
   "version": "3.8.3"
  }
 },
 "nbformat": 4,
 "nbformat_minor": 4
}
