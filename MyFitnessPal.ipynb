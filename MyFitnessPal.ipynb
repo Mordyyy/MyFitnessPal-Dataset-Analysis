{
 "cells": [
  {
   "cell_type": "markdown",
   "metadata": {},
   "source": [
    "არ დასავიწყებელი ფაქტები !\n",
    "1. ნუტრიოტები შევამოწმე და მაქსიმალური რაოდენობა ერთ ცდაზე 6-ია, მეტი არ შეიძლება\n",
    "2. ნუტრიოტების მინიმალური რაოდენობა არის 1, რაც ნიშნავს რომ აქ ინფო არ აკლია.\n",
    "3. ჩავარდნა არ არის ახალ წელს, ჩავარდნა არის 25 დეკემბერს, მერე იწყება აღმასვლა.\n",
    "\n",
    "1. 1g protain = 4 calories, 1g carbs = 4 caliroes, 1g fat = 9 calories\n",
    "2. წონის დასაგდებად ყველაზე მნიშვნელოვანია კალორია და პროტეინი. ცხიმის მაგივრად იყენებენ კარბ.-ს\n",
    "3. ერთი ნუტრიოტის შესავსებად შესაძლოა მეორეს გამოყენებაც ! \n",
    "4. უმეტესად, ნებისმიერ საჭმელში ნუტრიოტი კავშირში იქნება კარბთან, ცხიმთან ან პროტეინთან.\n",
    "5. საჭმელები ბევრი შაქრით შეიცავენ ბევრ კალორიასაც.\n",
    "\n",
    "Vitamin A – vital for skin and eyes\n",
    "Vitamin C – for bone and muscle structure, as well as immune support\n",
    "\n",
    "1?. პირდაპირ ვერ ვიტყვით იმას, რომ 1 კვირიანი შუალედებია იმ გრაფიკზე, რომელ დღეს რამდენმა დაპოსტა. კარგი დაკვირებაა საჭირო კარგ მონაკვეთზე. შესაძლოა უფრო ღრმა რამ იყოს ჩამალული )\n",
    "\n",
    "ძააააან მაგარ გამოთქმები:\n",
    "1.Eating fat will make you fat is about as scientifically logical as saying that eating tomatoes will turn you red,” writes Dr. Richard K. Bernstein, author of Dr. Bernstein’s"
   ]
  },
  {
   "cell_type": "code",
   "execution_count": 6,
   "metadata": {},
   "outputs": [],
   "source": [
    "%matplotlib inline\n",
    "\n",
    "import pandas as pd\n",
    "import numpy as np\n",
    "from pandas import DataFrame\n",
    "import json\n",
    "import csv\n",
    "import matplotlib.pyplot as plt"
   ]
  },
  {
   "cell_type": "code",
   "execution_count": 7,
   "metadata": {},
   "outputs": [],
   "source": [
    "# import dataset as pandas.DataFrame\n",
    "data = pd.read_csv('a.tsv', sep='\\t', header=0, names=['Person', 'Date', 'Input', 'Result'])"
   ]
  },
  {
   "cell_type": "code",
   "execution_count": 8,
   "metadata": {},
   "outputs": [
    {
     "data": {
      "text/html": [
       "<div>\n",
       "<style scoped>\n",
       "    .dataframe tbody tr th:only-of-type {\n",
       "        vertical-align: middle;\n",
       "    }\n",
       "\n",
       "    .dataframe tbody tr th {\n",
       "        vertical-align: top;\n",
       "    }\n",
       "\n",
       "    .dataframe thead th {\n",
       "        text-align: right;\n",
       "    }\n",
       "</style>\n",
       "<table border=\"1\" class=\"dataframe\">\n",
       "  <thead>\n",
       "    <tr style=\"text-align: right;\">\n",
       "      <th></th>\n",
       "      <th>Person</th>\n",
       "      <th>Date</th>\n",
       "      <th>Input</th>\n",
       "      <th>Result</th>\n",
       "    </tr>\n",
       "  </thead>\n",
       "  <tbody>\n",
       "    <tr>\n",
       "      <th>0</th>\n",
       "      <td>1</td>\n",
       "      <td>2014-09-15</td>\n",
       "      <td>[{\"meal\": \"MY food\", \"dishes\": [{\"nutritions\":...</td>\n",
       "      <td>{\"total\": [{\"name\": \"Calories\", \"value\": 2430}...</td>\n",
       "    </tr>\n",
       "    <tr>\n",
       "      <th>1</th>\n",
       "      <td>1</td>\n",
       "      <td>2014-09-16</td>\n",
       "      <td>[{\"meal\": \"MY food\", \"dishes\": [{\"nutritions\":...</td>\n",
       "      <td>{\"total\": [{\"name\": \"Calories\", \"value\": 1862}...</td>\n",
       "    </tr>\n",
       "    <tr>\n",
       "      <th>2</th>\n",
       "      <td>1</td>\n",
       "      <td>2014-09-17</td>\n",
       "      <td>[{\"meal\": \"MY food\", \"dishes\": [{\"nutritions\":...</td>\n",
       "      <td>{\"total\": [{\"name\": \"Calories\", \"value\": 2251}...</td>\n",
       "    </tr>\n",
       "    <tr>\n",
       "      <th>3</th>\n",
       "      <td>1</td>\n",
       "      <td>2014-09-18</td>\n",
       "      <td>[{\"meal\": \"MY food\", \"dishes\": [{\"nutritions\":...</td>\n",
       "      <td>{\"total\": [{\"name\": \"Calories\", \"value\": 2001}...</td>\n",
       "    </tr>\n",
       "    <tr>\n",
       "      <th>4</th>\n",
       "      <td>1</td>\n",
       "      <td>2014-09-19</td>\n",
       "      <td>[{\"meal\": \"MY food\", \"dishes\": [{\"nutritions\":...</td>\n",
       "      <td>{\"total\": [{\"name\": \"Calories\", \"value\": 2158}...</td>\n",
       "    </tr>\n",
       "  </tbody>\n",
       "</table>\n",
       "</div>"
      ],
      "text/plain": [
       "   Person        Date                                              Input  \\\n",
       "0       1  2014-09-15  [{\"meal\": \"MY food\", \"dishes\": [{\"nutritions\":...   \n",
       "1       1  2014-09-16  [{\"meal\": \"MY food\", \"dishes\": [{\"nutritions\":...   \n",
       "2       1  2014-09-17  [{\"meal\": \"MY food\", \"dishes\": [{\"nutritions\":...   \n",
       "3       1  2014-09-18  [{\"meal\": \"MY food\", \"dishes\": [{\"nutritions\":...   \n",
       "4       1  2014-09-19  [{\"meal\": \"MY food\", \"dishes\": [{\"nutritions\":...   \n",
       "\n",
       "                                              Result  \n",
       "0  {\"total\": [{\"name\": \"Calories\", \"value\": 2430}...  \n",
       "1  {\"total\": [{\"name\": \"Calories\", \"value\": 1862}...  \n",
       "2  {\"total\": [{\"name\": \"Calories\", \"value\": 2251}...  \n",
       "3  {\"total\": [{\"name\": \"Calories\", \"value\": 2001}...  \n",
       "4  {\"total\": [{\"name\": \"Calories\", \"value\": 2158}...  "
      ]
     },
     "execution_count": 8,
     "metadata": {},
     "output_type": "execute_result"
    }
   ],
   "source": [
    "data.head(5)"
   ]
  },
  {
   "cell_type": "code",
   "execution_count": 9,
   "metadata": {},
   "outputs": [],
   "source": [
    "def get_real_total(data, row):\n",
    "    value = get_value(data, row, 2, True)\n",
    "    default = default_nutrition()\n",
    "    for j in range(len(value)):\n",
    "        val = value[j]['dishes']\n",
    "        for i in range(len(val)):\n",
    "            nutrs = val[i]['nutritions']\n",
    "            for k in nutrs:\n",
    "                merge_nutritions(default, k['name'], to_int(k['value']))\n",
    "    return default"
   ]
  },
  {
   "cell_type": "code",
   "execution_count": 10,
   "metadata": {},
   "outputs": [],
   "source": [
    "def get_foods(data, row):\n",
    "    value = get_value(data, row, 2, True)\n",
    "    foods = set()\n",
    "    for i in range(len(value)):\n",
    "        dishes = value[i]['dishes']\n",
    "        for j in range(len(dishes)):\n",
    "            foods.add(dishes[j]['name'])\n",
    "    return foods"
   ]
  },
  {
   "cell_type": "code",
   "execution_count": 11,
   "metadata": {},
   "outputs": [],
   "source": [
    "def get_persons_unique_foods(data, person):\n",
    "    indexes = data.loc[data.Person == person, ['Input']].index\n",
    "    foods = set()\n",
    "    for i in indexes:\n",
    "        foods = set.union(foods, get_foods(data, i))\n",
    "    return len(foods)"
   ]
  },
  {
   "cell_type": "code",
   "execution_count": 12,
   "metadata": {},
   "outputs": [],
   "source": [
    "def get_meals(data, row):\n",
    "    meals = set()\n",
    "    value = get_value(data, row, 2, True)\n",
    "    for i in range(len(value)):\n",
    "        meals.add(value[i]['meal'])\n",
    "    return meals"
   ]
  },
  {
   "cell_type": "code",
   "execution_count": 13,
   "metadata": {},
   "outputs": [],
   "source": [
    "def get_meals_num(data, row):\n",
    "    meals = 0\n",
    "    value = get_value(data, row, 2, True)\n",
    "    for i in range(len(value)):\n",
    "        meals += 1\n",
    "    return meals"
   ]
  },
  {
   "cell_type": "code",
   "execution_count": 14,
   "metadata": {},
   "outputs": [],
   "source": [
    "def get_daily_meals_num(data, date):\n",
    "    answ = set()\n",
    "    mask = data.Date == date\n",
    "    df = data.loc[mask, ['Result']]\n",
    "    for i in df.index:\n",
    "        answ = set.union(answ, get_meals(data, i))\n",
    "    return len(answ)"
   ]
  },
  {
   "cell_type": "code",
   "execution_count": 15,
   "metadata": {},
   "outputs": [],
   "source": [
    "def is_missmatched(data, row):\n",
    "    default = get_real_total(data, row)\n",
    "    total = get_value(data, row, 3, True)['total']\n",
    "    total_default = default_nutrition()\n",
    "    for total_nutr in total:\n",
    "        merge_nutritions(total_default, total_nutr['name'], total_nutr['value'])\n",
    "    for key in default:\n",
    "        if default[key] - total_default[key] != 0:\n",
    "            return True\n",
    "    return False"
   ]
  },
  {
   "cell_type": "code",
   "execution_count": 16,
   "metadata": {},
   "outputs": [],
   "source": [
    "def is_negative(data, row):\n",
    "    value = get_value(data, row, 2, True)\n",
    "    for j in range(len(value)):\n",
    "        val = value[j]['dishes']\n",
    "        for i in range(len(val)):\n",
    "            nutrs = val[i]['nutritions']\n",
    "            for k in nutrs:\n",
    "                if to_int(k['value']) < 0:\n",
    "                    return True\n",
    "    return False"
   ]
  },
  {
   "cell_type": "code",
   "execution_count": 17,
   "metadata": {},
   "outputs": [],
   "source": [
    "def get_nutritions_sum(data, row, nutrition):\n",
    "    res = 0\n",
    "    cnt = 0\n",
    "    value = get_value(data, row, 2, True)\n",
    "    for j in range(len(value)):\n",
    "        val = value[j]['dishes']\n",
    "        for i in range(len(val)):\n",
    "            nutrs = val[i]['nutritions']\n",
    "            for nutr in nutrs:\n",
    "                if nutr['name'] == nutrition:\n",
    "                    res += to_int(nutr['value'])\n",
    "                    cnt += 1\n",
    "    return res, cnt"
   ]
  },
  {
   "cell_type": "code",
   "execution_count": 18,
   "metadata": {},
   "outputs": [],
   "source": [
    "def check_proportions(data, row):\n",
    "    calories = get_nutritions_sum(data, row, 'Calories')[0]\n",
    "    proteins = get_nutritions_sum(data, row, 'Protein')[0]\n",
    "    carbs = get_nutritions_sum(data, row, 'Carbs')[0]\n",
    "    fat = get_nutritions_sum(data, row, 'Fat')[0]\n",
    "    return abs(calories - 4 * proteins - 4 * carbs - 9 * fat) "
   ]
  },
  {
   "cell_type": "code",
   "execution_count": 19,
   "metadata": {},
   "outputs": [],
   "source": [
    "def person_avg_formula_diff(data, person, anomalies):\n",
    "    proportions_sum = 0\n",
    "    indexes = data.loc[data.Person == person, ['Date']].index\n",
    "    for i in indexes:\n",
    "        proportions_sum += check_proportions(data, i)\n",
    "    sz = len(indexes)\n",
    "    return proportions_sum / sz"
   ]
  },
  {
   "cell_type": "code",
   "execution_count": 20,
   "metadata": {},
   "outputs": [],
   "source": [
    "def to_int(string):\n",
    "    curr = \"\"\n",
    "    for dig in string:\n",
    "        if dig.isdigit() or dig == '-':\n",
    "            curr += dig\n",
    "    if len(curr) == 0:\n",
    "        return -1\n",
    "    return int(curr)"
   ]
  },
  {
   "cell_type": "code",
   "execution_count": 21,
   "metadata": {},
   "outputs": [],
   "source": [
    "def merge_nutritions(default, key, value):\n",
    "    default[key] += value"
   ]
  },
  {
   "cell_type": "code",
   "execution_count": 22,
   "metadata": {},
   "outputs": [],
   "source": [
    "def default_nutrition():\n",
    "    return {'Protein': 0,\n",
    "     'Calories': 0,\n",
    "     'Sodium': 0,\n",
    "     'Sugar': 0,\n",
    "     'Fat': 0,\n",
    "     'Carbs': 0,\n",
    "     'Fiber': 0,\n",
    "     'Potass.': 0,\n",
    "     'Iron': 0,\n",
    "     'Calcium': 0,\n",
    "     'Sat Fat': 0,\n",
    "     'Chol': 0,\n",
    "     'Vit A': 0,\n",
    "     'Vit C': 0,\n",
    "     'Trn Fat': 0,\n",
    "     'Mon Fat': 0,\n",
    "     'Ply Fat': 0}"
   ]
  },
  {
   "cell_type": "code",
   "execution_count": 23,
   "metadata": {},
   "outputs": [],
   "source": [
    "def get_total_nutrition(data,row, nutrition):\n",
    "    value = get_value(data, row, 3, True)['total']\n",
    "    for nutr in value:\n",
    "        if nutr['name'] == nutrition:\n",
    "            return nutr['value']\n",
    "    return 0"
   ]
  },
  {
   "cell_type": "code",
   "execution_count": 24,
   "metadata": {},
   "outputs": [],
   "source": [
    "def get_goal_nutrition(data,row, nutrition):\n",
    "    value = get_value(data, row, 3, True)['goal']\n",
    "    for nutr in value:\n",
    "        if nutr['name'] == nutrition:\n",
    "            return nutr['value']\n",
    "    return 0"
   ]
  },
  {
   "cell_type": "code",
   "execution_count": 28,
   "metadata": {},
   "outputs": [],
   "source": [
    "def get_nutrition_difference(data, person, nutrition,anomalies):\n",
    "    positive = 0\n",
    "    negative = 0\n",
    "    none = 0\n",
    "    df = data.loc[data.Person == person, ['Date']]\n",
    "    for i in df.index:\n",
    "        dif = get_goal_nutrition(data, i, nutrition) - get_total_nutrition(data, i, nutrition)\n",
    "        if dif > 0:\n",
    "            positive += 1\n",
    "        elif dif < 0:\n",
    "            negative += 1\n",
    "        else: \n",
    "            none += 1\n",
    "    return positive, negative, none"
   ]
  },
  {
   "cell_type": "code",
   "execution_count": 29,
   "metadata": {},
   "outputs": [],
   "source": [
    "def get_value(data, row, col, jsn):\n",
    "    if jsn:\n",
    "        return json.loads(data.iloc[row, col])\n",
    "    else:\n",
    "        return data.iloc[row, col]"
   ]
  },
  {
   "cell_type": "code",
   "execution_count": 30,
   "metadata": {},
   "outputs": [],
   "source": [
    "def num_days_for_person(data, person):\n",
    "    mask = data.Person == person\n",
    "    return data.Person.loc[mask].shape[0]"
   ]
  },
  {
   "cell_type": "code",
   "execution_count": 31,
   "metadata": {},
   "outputs": [],
   "source": [
    "def num_persons_for_date(data, date):\n",
    "    mask = data.Date == date\n",
    "    return data.Date.loc[mask].shape[0]"
   ]
  },
  {
   "cell_type": "code",
   "execution_count": 32,
   "metadata": {},
   "outputs": [],
   "source": [
    "def get_nutritions(data, row):\n",
    "    val = get_value(data, row, 2, True)\n",
    "    nutritions = set()\n",
    "    for j in range(len(val)):\n",
    "        value = val[j]['dishes']\n",
    "        for i in range(len(value)):\n",
    "            nutrs = value[i]['nutritions']\n",
    "            for j in range(len(nutrs)):\n",
    "                nutritions.add(nutrs[j]['name'])\n",
    "    return nutritions"
   ]
  },
  {
   "cell_type": "code",
   "execution_count": 33,
   "metadata": {},
   "outputs": [],
   "source": [
    "def get_person_nutritions(data, person):\n",
    "    mask = data.Person == person\n",
    "    df = data.loc[mask, ['Person']]\n",
    "    person_nutritions = set()\n",
    "    for row in df.index:\n",
    "        person_nutritions = set.union(person_nutritions, get_nutritions(data, row))\n",
    "    return person_nutritions"
   ]
  },
  {
   "cell_type": "code",
   "execution_count": 34,
   "metadata": {},
   "outputs": [],
   "source": [
    "def get_daily_average_nutritions(data, day, anomalies):\n",
    "    mask = data.Date == day\n",
    "    df = data.loc[mask, ['Input']]\n",
    "    nutritions_sum = default_nutrition()\n",
    "    nutritions_cnt = default_nutrition()\n",
    "    for row in df.index:\n",
    "        if row in anomalies:\n",
    "            continue\n",
    "        for nutrition in nutritions_sum:\n",
    "            sm, cnt = get_nutritions_sum(data, row, nutrition)\n",
    "            nutritions_sum[nutrition] += sm\n",
    "            nutritions_cnt[nutrition] += cnt\n",
    "    for nutrition in nutritions_sum:\n",
    "        if nutritions_sum[nutrition] != 0:\n",
    "            nutritions_sum[nutrition] /= nutritions_cnt[nutrition]\n",
    "    return nutritions_sum"
   ]
  },
  {
   "cell_type": "code",
   "execution_count": 35,
   "metadata": {},
   "outputs": [],
   "source": [
    "def avg_nutrition(data, person, nutrition, anomalies):\n",
    "    indexes = data.loc[data.Person == person, ['Date']].index\n",
    "    sm = 0\n",
    "    found = False\n",
    "    for i in indexes:\n",
    "        if i in anomalies:\n",
    "            continue\n",
    "        total = get_value(data, i, 3, True)['total']\n",
    "        for nutr in total:\n",
    "            if nutr['name'] == nutrition:\n",
    "                nutr_value = nutr['value']\n",
    "                sm += nutr_value\n",
    "                found = True\n",
    "    if found:\n",
    "        avg = sm / len(indexes)\n",
    "        return avg\n",
    "    else:\n",
    "        return 0"
   ]
  },
  {
   "cell_type": "code",
   "execution_count": 36,
   "metadata": {},
   "outputs": [],
   "source": [
    "def get_daily_average_difference(data, day, anomalies):\n",
    "    mask = data.Date == day\n",
    "    df = data.loc[mask, ['Result']]\n",
    "    cnt = df.shape[0]\n",
    "    nutritions_sum = default_nutrition()\n",
    "    for row in df.index:\n",
    "        if row in anomalies:\n",
    "            continue\n",
    "        for nutrition in nutritions_sum:\n",
    "            nutritions_sum[nutrition] += abs(get_goal_nutrition(data, row, nutrition) - get_total_nutrition(data, row, nutrition))\n",
    "    for nutrition in nutritions_sum:\n",
    "        nutritions_sum[nutrition] /= cnt\n",
    "    return nutritions_sum"
   ]
  },
  {
   "cell_type": "code",
   "execution_count": 37,
   "metadata": {},
   "outputs": [],
   "source": [
    "def get_range(num):\n",
    "    if num <= 50 and num != 0:\n",
    "        return 0\n",
    "    elif num <= 100:\n",
    "        return 1\n",
    "    elif num <= 150:\n",
    "        return 2\n",
    "    else:\n",
    "        return 3"
   ]
  },
  {
   "cell_type": "code",
   "execution_count": 38,
   "metadata": {},
   "outputs": [],
   "source": [
    "def increase_y_by_range(y, num):\n",
    "    y[get_range(num)]+=1"
   ]
  },
  {
   "cell_type": "code",
   "execution_count": 39,
   "metadata": {},
   "outputs": [
    {
     "data": {
      "text/plain": [
       "Person      9896\n",
       "Date         208\n",
       "Input     578774\n",
       "Result    581728\n",
       "dtype: int64"
      ]
     },
     "execution_count": 39,
     "metadata": {},
     "output_type": "execute_result"
    }
   ],
   "source": [
    "data.nunique(axis=0, dropna=False)"
   ]
  },
  {
   "cell_type": "code",
   "execution_count": 40,
   "metadata": {},
   "outputs": [],
   "source": [
    "y = [0,0,0,0]\n",
    "unique_people = data.iloc[:, 0].unique()\n",
    "for person in unique_people:\n",
    "    increase_y_by_range(y, data.loc[data.Person == person, ['Person']].shape[0])"
   ]
  },
  {
   "cell_type": "code",
   "execution_count": 41,
   "metadata": {},
   "outputs": [
    {
     "data": {
      "image/png": "[encoded data removed]",
      "text/plain": [
       "<Figure size 432x288 with 1 Axes>"
      ]
     },
     "metadata": {
      "needs_background": "light"
     },
     "output_type": "display_data"
    }
   ],
   "source": [
    "fig = plt.figure()\n",
    "ax = fig.add_axes([0,0,1,1])\n",
    "ranges = ['0-50', '51-100', '101-150', '151-200']\n",
    "ax.bar(ranges,y)\n",
    "plt.show()"
   ]
  },
  {
   "cell_type": "code",
   "execution_count": 42,
   "metadata": {},
   "outputs": [],
   "source": [
    "meals_distribution ={}\n",
    "p_range = {}\n",
    "p_meals = {}\n",
    "for person in unique_people:\n",
    "    mask = data.Person == person\n",
    "    person_meals = set()\n",
    "    person_data = data.loc[mask, ['Person']]\n",
    "    for i in person_data.index:\n",
    "        curr = get_meals(data, i)\n",
    "        person_meals = set.union(person_meals, curr)\n",
    "    n = len(person_meals)\n",
    "    \n",
    "    # რომელი საკვები რამდენჯერ გვხვდება\n",
    "    if n in meals_distribution:\n",
    "        meals_distribution[n] += 1\n",
    "    else:\n",
    "        meals_distribution[n] = 1\n",
    "        \n",
    "    # კონკრეტულმა ადამიანმა რამდენი განსხვავებული meal შეიყვანა და თითოეულმა ადამიანმა რამდენი მონაცემი შეიყვანა\n",
    "    p_meals[person] = len(person_meals)\n",
    "    p_range[person] = get_range(person_data.shape[0])"
   ]
  },
  {
   "cell_type": "code",
   "execution_count": 43,
   "metadata": {},
   "outputs": [
    {
     "data": {
      "text/plain": [
       "1"
      ]
     },
     "execution_count": 43,
     "metadata": {},
     "output_type": "execute_result"
    }
   ],
   "source": [
    "p_meals[1]"
   ]
  },
  {
   "cell_type": "code",
   "execution_count": 44,
   "metadata": {},
   "outputs": [
    {
     "data": {
      "image/png": "[encoded data removed]",
      "text/plain": [
       "<Figure size 576x288 with 1 Axes>"
      ]
     },
     "metadata": {
      "needs_background": "light"
     },
     "output_type": "display_data"
    }
   ],
   "source": [
    "fig = plt.figure(figsize=(8,4))\n",
    "ax = fig.add_axes([0,0,1,1])\n",
    "ax.bar(list(meals_distribution.keys()),list(meals_distribution.values()))\n",
    "plt.show()"
   ]
  },
  {
   "cell_type": "code",
   "execution_count": 45,
   "metadata": {},
   "outputs": [
    {
     "data": {
      "text/html": [
       "<div>\n",
       "<style scoped>\n",
       "    .dataframe tbody tr th:only-of-type {\n",
       "        vertical-align: middle;\n",
       "    }\n",
       "\n",
       "    .dataframe tbody tr th {\n",
       "        vertical-align: top;\n",
       "    }\n",
       "\n",
       "    .dataframe thead th {\n",
       "        text-align: right;\n",
       "    }\n",
       "</style>\n",
       "<table border=\"1\" class=\"dataframe\">\n",
       "  <thead>\n",
       "    <tr style=\"text-align: right;\">\n",
       "      <th></th>\n",
       "      <th>persons</th>\n",
       "      <th>meals_num</th>\n",
       "      <th>range</th>\n",
       "    </tr>\n",
       "  </thead>\n",
       "  <tbody>\n",
       "    <tr>\n",
       "      <th>persons</th>\n",
       "      <td>1.000000</td>\n",
       "      <td>0.005707</td>\n",
       "      <td>-0.001040</td>\n",
       "    </tr>\n",
       "    <tr>\n",
       "      <th>meals_num</th>\n",
       "      <td>0.005707</td>\n",
       "      <td>1.000000</td>\n",
       "      <td>0.222537</td>\n",
       "    </tr>\n",
       "    <tr>\n",
       "      <th>range</th>\n",
       "      <td>-0.001040</td>\n",
       "      <td>0.222537</td>\n",
       "      <td>1.000000</td>\n",
       "    </tr>\n",
       "  </tbody>\n",
       "</table>\n",
       "</div>"
      ],
      "text/plain": [
       "            persons  meals_num     range\n",
       "persons    1.000000   0.005707 -0.001040\n",
       "meals_num  0.005707   1.000000  0.222537\n",
       "range     -0.001040   0.222537  1.000000"
      ]
     },
     "execution_count": 45,
     "metadata": {},
     "output_type": "execute_result"
    }
   ],
   "source": [
    "pp_meals = []\n",
    "pp_range = []\n",
    "for person in unique_people:\n",
    "    pp_meals.append(p_meals[person])\n",
    "    pp_range.append(p_range[person])\n",
    "pre_data = {'persons' : unique_people, 'meals_num' : pp_meals, 'range' : pp_range}\n",
    "corr_data = pd.DataFrame(data=pre_data)\n",
    "corr_data.corr()"
   ]
  },
  {
   "cell_type": "code",
   "execution_count": 46,
   "metadata": {},
   "outputs": [
    {
     "name": "stdout",
     "output_type": "stream",
     "text": [
      "587186\n"
     ]
    }
   ],
   "source": [
    "unique_dates = data.iloc[:, 1].unique()\n",
    "unique_dates.sort()\n",
    "date_people = {}\n",
    "sm = 0\n",
    "for date in unique_dates:\n",
    "    mask = data.Date == date\n",
    "    sz = data.loc[mask, :].shape[0]\n",
    "    date_people[date] = sz\n",
    "    sm += sz\n",
    "print(sm)"
   ]
  },
  {
   "cell_type": "code",
   "execution_count": 47,
   "metadata": {},
   "outputs": [
    {
     "data": {
      "image/png": "[encoded data removed]",
      "text/plain": [
       "<Figure size 432x288 with 1 Axes>"
      ]
     },
     "metadata": {
      "needs_background": "light"
     },
     "output_type": "display_data"
    }
   ],
   "source": [
    "bla = [i for i in unique_dates]\n",
    "blu = [date_people[i] for i in unique_dates]\n",
    "plt.plot([i for i in range(1, 209)], blu, color='purple', label='Traffic')\n",
    "plt.ylabel('Num Users')\n",
    "plt.xlabel('Day')\n",
    "plt.legend()\n",
    "plt.show()"
   ]
  },
  {
   "cell_type": "code",
   "execution_count": 48,
   "metadata": {},
   "outputs": [
    {
     "data": {
      "text/plain": [
       "0"
      ]
     },
     "execution_count": 48,
     "metadata": {},
     "output_type": "execute_result"
    }
   ],
   "source": [
    "dates = []\n",
    "for date in unique_dates:\n",
    "    dates.append(int(date[len(date) - 2:]))\n",
    "missing = 0\n",
    "for i in range(1, len(dates)):\n",
    "    if dates[i - 1] > dates[i]:\n",
    "        if dates[i] != 1:\n",
    "            missing += 1\n",
    "missing"
   ]
  },
  {
   "cell_type": "code",
   "execution_count": 49,
   "metadata": {},
   "outputs": [],
   "source": [
    "nutritions = {}\n",
    "count_nutritions = {}\n",
    "missmatched = []\n",
    "negatives = []\n",
    "for i in data.index:\n",
    "    curr = get_nutritions(data, i)\n",
    "    if is_missmatched(data, i):\n",
    "        missmatched.append(i)\n",
    "    if is_negative(data, i):\n",
    "        negatives.append(i)\n",
    "        \n",
    "    for nutrition in curr:\n",
    "        if nutrition not in count_nutritions:\n",
    "            count_nutritions[nutrition]=1\n",
    "        else:\n",
    "            count_nutritions[nutrition]+=1\n",
    "    nutritions = set.union(curr, nutritions)"
   ]
  },
  {
   "cell_type": "code",
   "execution_count": 50,
   "metadata": {},
   "outputs": [
    {
     "data": {
      "image/png": "[encoded data removed]",
      "text/plain": [
       "<Figure size 1080x504 with 1 Axes>"
      ]
     },
     "metadata": {
      "needs_background": "light"
     },
     "output_type": "display_data"
    }
   ],
   "source": [
    "fig = plt.figure(figsize=(15,7))\n",
    "ax = fig.add_axes([0,0,1,1])\n",
    "ax.bar(list(count_nutritions.keys()),list(count_nutritions.values()))\n",
    "plt.show()"
   ]
  },
  {
   "cell_type": "code",
   "execution_count": 51,
   "metadata": {},
   "outputs": [
    {
     "data": {
      "text/plain": [
       "{'Sodium': 390527,\n",
       " 'Protein': 579872,\n",
       " 'Calories': 587186,\n",
       " 'Carbs': 573048,\n",
       " 'Sugar': 368917,\n",
       " 'Fat': 569334,\n",
       " 'Fiber': 242840,\n",
       " 'Potass.': 19416,\n",
       " 'Iron': 29016,\n",
       " 'Calcium': 22925,\n",
       " 'Sat Fat': 16576,\n",
       " 'Chol': 18252,\n",
       " 'Vit C': 2486,\n",
       " 'Vit A': 774,\n",
       " 'Trn Fat': 1828,\n",
       " 'Mon Fat': 428,\n",
       " 'Ply Fat': 761}"
      ]
     },
     "execution_count": 51,
     "metadata": {},
     "output_type": "execute_result"
    }
   ],
   "source": [
    "count_nutritions"
   ]
  },
  {
   "cell_type": "code",
   "execution_count": 52,
   "metadata": {},
   "outputs": [],
   "source": [
    "nutritions_distribution = {}\n",
    "for person in unique_people:\n",
    "    person_nutritions = get_person_nutritions(data, person)\n",
    "    for nutrition in person_nutritions:\n",
    "        if nutrition not in nutritions_distribution:\n",
    "            nutritions_distribution[nutrition] = 1\n",
    "        else:\n",
    "            nutritions_distribution[nutrition] += 1"
   ]
  },
  {
   "cell_type": "code",
   "execution_count": 53,
   "metadata": {},
   "outputs": [
    {
     "data": {
      "image/png": "[encoded data removed]",
      "text/plain": [
       "<Figure size 1080x504 with 1 Axes>"
      ]
     },
     "metadata": {
      "needs_background": "light"
     },
     "output_type": "display_data"
    }
   ],
   "source": [
    "fig = plt.figure(figsize=(15,7))\n",
    "ax = fig.add_axes([0,0,1,1])\n",
    "ax.bar(list(nutritions_distribution.keys()),list(nutritions_distribution.values()))\n",
    "plt.show()"
   ]
  },
  {
   "cell_type": "code",
   "execution_count": 54,
   "metadata": {},
   "outputs": [
    {
     "data": {
      "text/plain": [
       "{'Sodium': 6676,\n",
       " 'Protein': 9760,\n",
       " 'Calories': 9896,\n",
       " 'Carbs': 9684,\n",
       " 'Sugar': 6543,\n",
       " 'Fat': 9569,\n",
       " 'Fiber': 3629,\n",
       " 'Potass.': 287,\n",
       " 'Iron': 474,\n",
       " 'Calcium': 372,\n",
       " 'Sat Fat': 296,\n",
       " 'Chol': 310,\n",
       " 'Vit C': 49,\n",
       " 'Vit A': 20,\n",
       " 'Trn Fat': 48,\n",
       " 'Mon Fat': 12,\n",
       " 'Ply Fat': 14}"
      ]
     },
     "execution_count": 54,
     "metadata": {},
     "output_type": "execute_result"
    }
   ],
   "source": [
    "nutritions_distribution"
   ]
  },
  {
   "cell_type": "code",
   "execution_count": 55,
   "metadata": {},
   "outputs": [
    {
     "data": {
      "text/plain": [
       "918"
      ]
     },
     "execution_count": 55,
     "metadata": {},
     "output_type": "execute_result"
    }
   ],
   "source": [
    "len(missmatched)"
   ]
  },
  {
   "cell_type": "code",
   "execution_count": 56,
   "metadata": {},
   "outputs": [
    {
     "data": {
      "text/plain": [
       "1399"
      ]
     },
     "execution_count": 56,
     "metadata": {},
     "output_type": "execute_result"
    }
   ],
   "source": [
    "len(negatives)"
   ]
  },
  {
   "cell_type": "code",
   "execution_count": 65,
   "metadata": {},
   "outputs": [
    {
     "data": {
      "text/plain": [
       "877"
      ]
     },
     "execution_count": 65,
     "metadata": {},
     "output_type": "execute_result"
    }
   ],
   "source": [
    "duplicated = []\n",
    "anomalies = []\n",
    "for i in missmatched:\n",
    "    nutrs = get_nutritions(data, i)\n",
    "    curr = 0\n",
    "    for nutr in nutrs:\n",
    "        if get_total_nutrition(data, i, nutr) != None:\n",
    "            if (get_total_nutrition(data, i, nutr) * 2 == get_nutritions_sum(data, i, nutr)[0]): \n",
    "                curr = 1\n",
    "            elif get_total_nutrition(data,i, nutr) != get_nutritions_sum(data, i, nutr)[0]:\n",
    "                curr = 0\n",
    "                break\n",
    "        else:\n",
    "            anomalies.append(i)\n",
    "            curr = 0\n",
    "            break\n",
    "    if curr == 1:\n",
    "        duplicated.append(i)\n",
    "len(duplicated)"
   ]
  },
  {
   "cell_type": "code",
   "execution_count": 66,
   "metadata": {},
   "outputs": [
    {
     "data": {
      "text/plain": [
       "0"
      ]
     },
     "execution_count": 66,
     "metadata": {},
     "output_type": "execute_result"
    }
   ],
   "source": [
    "len(anomalies)"
   ]
  },
  {
   "cell_type": "code",
   "execution_count": 59,
   "metadata": {},
   "outputs": [],
   "source": [
    "def get_range2(num):\n",
    "    if num <= 50 and num != 0:\n",
    "        return 0\n",
    "    elif num <= 100:\n",
    "        return 1\n",
    "    elif num <= 150:\n",
    "        return 2\n",
    "    elif num <= 200:\n",
    "        return 3\n",
    "    elif num <= 250:\n",
    "        return 4\n",
    "    elif num <= 500:\n",
    "        return 5\n",
    "    else:\n",
    "        return 6"
   ]
  },
  {
   "cell_type": "code",
   "execution_count": 60,
   "metadata": {},
   "outputs": [],
   "source": [
    "nutritions_dif = [0, 0, 0, 0, 0, 0, 0]\n",
    "for row in data.index:\n",
    "    rang = get_range2(check_proportions(data, row))\n",
    "    nutritions_dif[rang] += 1"
   ]
  },
  {
   "cell_type": "code",
   "execution_count": 61,
   "metadata": {},
   "outputs": [
    {
     "data": {
      "image/png": "[encoded data removed]",
      "text/plain": [
       "<Figure size 432x288 with 1 Axes>"
      ]
     },
     "metadata": {
      "needs_background": "light"
     },
     "output_type": "display_data"
    }
   ],
   "source": [
    "fig = plt.figure()\n",
    "ax = fig.add_axes([0,0,1,1])\n",
    "ranges = ['0-50', '51-100', '101-150', '150-200', '200-250', '250-500', '500+']\n",
    "ax.bar(ranges, nutritions_dif)\n",
    "plt.show()"
   ]
  },
  {
   "cell_type": "code",
   "execution_count": 62,
   "metadata": {},
   "outputs": [],
   "source": [
    "# Daysta\n",
    "# unique users, unique meals, average nutritions difference, average nutritions sum"
   ]
  },
  {
   "cell_type": "code",
   "execution_count": 68,
   "metadata": {},
   "outputs": [],
   "source": [
    "date_avg_nutritions = []\n",
    "for date in unique_dates:\n",
    "    date_avg_nutritions.append(get_daily_average_nutritions(data, date, anomalies))"
   ]
  },
  {
   "cell_type": "code",
   "execution_count": 69,
   "metadata": {},
   "outputs": [],
   "source": [
    "date_avg_difference = []\n",
    "for date in unique_dates:\n",
    "    date_avg_difference.append(get_daily_average_difference(data, date, anomalies))"
   ]
  },
  {
   "cell_type": "code",
   "execution_count": 70,
   "metadata": {},
   "outputs": [],
   "source": [
    "dictionary = {'unique_dates' : unique_dates, 'unique_users' : [date_people[i] for i in unique_dates]}\n",
    "dictionary['unique_meals'] = [get_daily_meals_num(data, date) for date in unique_dates]\n",
    "our_nutritions = ['Protein', 'Calories', 'Sodium', 'Sugar', 'Fat', 'Carbs', 'Fiber']\n",
    "for nutrition in our_nutritions:\n",
    "    indx = nutrition + '_average_sum'\n",
    "    dictionary[indx] = [dic[nutrition] for dic in date_avg_nutritions]\n",
    "for nutrition in our_nutritions:\n",
    "    indx = nutrition + '_average_dif'\n",
    "    dictionary[indx] = [dic[nutrition] for dic in date_avg_difference]\n",
    "daysta = pd.DataFrame(data=dictionary)"
   ]
  },
  {
   "cell_type": "code",
   "execution_count": 71,
   "metadata": {},
   "outputs": [],
   "source": [
    "daysta.to_csv('daily_data.csv')"
   ]
  },
  {
   "cell_type": "code",
   "execution_count": 72,
   "metadata": {},
   "outputs": [],
   "source": [
    "people_data = {}\n",
    "unique_foods = []\n",
    "input_number = []\n",
    "avg_daily_food = []\n",
    "avg_diff_from_formula = []\n",
    "\n",
    "for person in unique_people:\n",
    "    unique_foods.append(get_persons_unique_foods(data, person))\n",
    "    input_number.append(data.loc[data.Person == person, ['Date']].shape[0])\n",
    "    avg_daily_food.append(unique_foods[len(unique_foods) - 1] / input_number[len(input_number) - 1])\n",
    "    avg_diff_from_formula.append(person_avg_formula_diff(data, person, anomalies))\n",
    "    \n",
    "people_data['unique_foods'] = unique_foods\n",
    "people_data['input_number'] = input_number\n",
    "people_data['avg_daily_food'] = avg_daily_food \n",
    "people_data['avg_proportions_diff'] = avg_diff_from_formula"
   ]
  },
  {
   "cell_type": "code",
   "execution_count": 73,
   "metadata": {},
   "outputs": [],
   "source": [
    "positive_difference = {}\n",
    "negative_difference = {}\n",
    "none_difference = {}\n",
    "for person in unique_people:\n",
    "    for nutrition in our_nutritions:\n",
    "        difference = get_nutrition_difference(data, person, nutrition, anomalies)\n",
    "        if nutrition not in positive_difference:\n",
    "            positive_difference[nutrition] = []\n",
    "            negative_difference[nutrition] = []\n",
    "            none_difference[nutrition] = []\n",
    "        positive_difference[nutrition].append(difference[0])\n",
    "        negative_difference[nutrition].append(difference[1])\n",
    "        none_difference[nutrition].append(difference[2])\n",
    "for nutrition in our_nutritions:\n",
    "    positive_nutrition = nutrition + '_positive' + '_difference'\n",
    "    people_data[positive_nutrition] = positive_difference[nutrition]\n",
    "    negative_nutrition = nutrition + '_negative' + '_difference'\n",
    "    people_data[negative_nutrition] = negative_difference[nutrition]\n",
    "    none_nutrition = nutrition + '_none' + '_difference'\n",
    "    people_data[none_nutrition] = none_difference[nutrition]"
   ]
  },
  {
   "cell_type": "code",
   "execution_count": 75,
   "metadata": {},
   "outputs": [],
   "source": [
    "nutrition_avg_val = {}\n",
    "for person in unique_people:\n",
    "    for nutrition in our_nutritions:\n",
    "        avg = avg_nutrition(data, person, nutrition, anomalies)\n",
    "        if nutrition not in nutrition_avg_val:\n",
    "            nutrition_avg_val[nutrition] = []\n",
    "        nutrition_avg_val[nutrition].append(avg)\n",
    "for nutrition in our_nutritions:\n",
    "    nutrition_avg = nutrition + '_avg'\n",
    "    people_data[nutrition_avg] = nutrition_avg_val[nutrition]"
   ]
  },
  {
   "cell_type": "code",
   "execution_count": 77,
   "metadata": {},
   "outputs": [],
   "source": [
    "people_dataframe = pd.DataFrame(data=people_data)\n",
    "people_dataframe.to_csv('people_data.csv')"
   ]
  },
  {
   "cell_type": "code",
   "execution_count": null,
   "metadata": {},
   "outputs": [],
   "source": []
  }
 ],
 "metadata": {
  "kernelspec": {
   "display_name": "Python 3",
   "language": "python",
   "name": "python3"
  },
  "language_info": {
   "codemirror_mode": {
    "name": "ipython",
    "version": 3
   },
   "file_extension": ".py",
   "mimetype": "text/x-python",
   "name": "python",
   "nbconvert_exporter": "python",
   "pygments_lexer": "ipython3",
   "version": "3.8.5"
  }
 },
 "nbformat": 4,
 "nbformat_minor": 4
}
