{
 "cells": [
  {
   "cell_type": "code",
   "execution_count": 1,
   "metadata": {},
   "outputs": [],
   "source": [
    "import pandas as pd\n",
    "import numpy as np\n",
    "from pandas import DataFrame\n",
    "import json\n",
    "import csv\n",
    "import matplotlib.pyplot as plt"
   ]
  },
  {
   "cell_type": "code",
   "execution_count": 2,
   "metadata": {},
   "outputs": [],
   "source": [
    "# import dataset as pandas.DataFrame\n",
    "data = pd.read_csv('a.tsv', sep='\\t', header=0, names=['Person', 'Date', 'Input', 'Result'])"
   ]
  },
  {
   "cell_type": "code",
   "execution_count": 3,
   "metadata": {},
   "outputs": [
    {
     "data": {
      "text/html": [
       "<div>\n",
       "<style scoped>\n",
       "    .dataframe tbody tr th:only-of-type {\n",
       "        vertical-align: middle;\n",
       "    }\n",
       "\n",
       "    .dataframe tbody tr th {\n",
       "        vertical-align: top;\n",
       "    }\n",
       "\n",
       "    .dataframe thead th {\n",
       "        text-align: right;\n",
       "    }\n",
       "</style>\n",
       "<table border=\"1\" class=\"dataframe\">\n",
       "  <thead>\n",
       "    <tr style=\"text-align: right;\">\n",
       "      <th></th>\n",
       "      <th>Person</th>\n",
       "      <th>Date</th>\n",
       "      <th>Input</th>\n",
       "      <th>Result</th>\n",
       "    </tr>\n",
       "  </thead>\n",
       "  <tbody>\n",
       "    <tr>\n",
       "      <th>0</th>\n",
       "      <td>1</td>\n",
       "      <td>2014-09-15</td>\n",
       "      <td>[{\"meal\": \"MY food\", \"dishes\": [{\"nutritions\":...</td>\n",
       "      <td>{\"total\": [{\"name\": \"Calories\", \"value\": 2430}...</td>\n",
       "    </tr>\n",
       "    <tr>\n",
       "      <th>1</th>\n",
       "      <td>1</td>\n",
       "      <td>2014-09-16</td>\n",
       "      <td>[{\"meal\": \"MY food\", \"dishes\": [{\"nutritions\":...</td>\n",
       "      <td>{\"total\": [{\"name\": \"Calories\", \"value\": 1862}...</td>\n",
       "    </tr>\n",
       "    <tr>\n",
       "      <th>2</th>\n",
       "      <td>1</td>\n",
       "      <td>2014-09-17</td>\n",
       "      <td>[{\"meal\": \"MY food\", \"dishes\": [{\"nutritions\":...</td>\n",
       "      <td>{\"total\": [{\"name\": \"Calories\", \"value\": 2251}...</td>\n",
       "    </tr>\n",
       "    <tr>\n",
       "      <th>3</th>\n",
       "      <td>1</td>\n",
       "      <td>2014-09-18</td>\n",
       "      <td>[{\"meal\": \"MY food\", \"dishes\": [{\"nutritions\":...</td>\n",
       "      <td>{\"total\": [{\"name\": \"Calories\", \"value\": 2001}...</td>\n",
       "    </tr>\n",
       "    <tr>\n",
       "      <th>4</th>\n",
       "      <td>1</td>\n",
       "      <td>2014-09-19</td>\n",
       "      <td>[{\"meal\": \"MY food\", \"dishes\": [{\"nutritions\":...</td>\n",
       "      <td>{\"total\": [{\"name\": \"Calories\", \"value\": 2158}...</td>\n",
       "    </tr>\n",
       "    <tr>\n",
       "      <th>...</th>\n",
       "      <td>...</td>\n",
       "      <td>...</td>\n",
       "      <td>...</td>\n",
       "      <td>...</td>\n",
       "    </tr>\n",
       "    <tr>\n",
       "      <th>587181</th>\n",
       "      <td>9897</td>\n",
       "      <td>2015-03-02</td>\n",
       "      <td>[{\"meal\": \"Breakfast\", \"dishes\": [{\"nutritions...</td>\n",
       "      <td>{\"total\": [{\"name\": \"Calories\", \"value\": 1979}...</td>\n",
       "    </tr>\n",
       "    <tr>\n",
       "      <th>587182</th>\n",
       "      <td>9897</td>\n",
       "      <td>2015-03-03</td>\n",
       "      <td>[{\"meal\": \"Breakfast\", \"dishes\": [{\"nutritions...</td>\n",
       "      <td>{\"total\": [{\"name\": \"Calories\", \"value\": 2141}...</td>\n",
       "    </tr>\n",
       "    <tr>\n",
       "      <th>587183</th>\n",
       "      <td>9897</td>\n",
       "      <td>2015-03-04</td>\n",
       "      <td>[{\"meal\": \"Breakfast\", \"dishes\": [{\"nutritions...</td>\n",
       "      <td>{\"total\": [{\"name\": \"Calories\", \"value\": 543},...</td>\n",
       "    </tr>\n",
       "    <tr>\n",
       "      <th>587184</th>\n",
       "      <td>9897</td>\n",
       "      <td>2015-03-14</td>\n",
       "      <td>[{\"meal\": \"Breakfast\", \"dishes\": [{\"nutritions...</td>\n",
       "      <td>{\"total\": [{\"name\": \"Calories\", \"value\": 2024}...</td>\n",
       "    </tr>\n",
       "    <tr>\n",
       "      <th>587185</th>\n",
       "      <td>9897</td>\n",
       "      <td>2015-03-15</td>\n",
       "      <td>[{\"meal\": \"Breakfast\", \"dishes\": [{\"nutritions...</td>\n",
       "      <td>{\"total\": [{\"name\": \"Calories\", \"value\": 1496}...</td>\n",
       "    </tr>\n",
       "  </tbody>\n",
       "</table>\n",
       "<p>587186 rows × 4 columns</p>\n",
       "</div>"
      ],
      "text/plain": [
       "        Person        Date                                              Input  \\\n",
       "0            1  2014-09-15  [{\"meal\": \"MY food\", \"dishes\": [{\"nutritions\":...   \n",
       "1            1  2014-09-16  [{\"meal\": \"MY food\", \"dishes\": [{\"nutritions\":...   \n",
       "2            1  2014-09-17  [{\"meal\": \"MY food\", \"dishes\": [{\"nutritions\":...   \n",
       "3            1  2014-09-18  [{\"meal\": \"MY food\", \"dishes\": [{\"nutritions\":...   \n",
       "4            1  2014-09-19  [{\"meal\": \"MY food\", \"dishes\": [{\"nutritions\":...   \n",
       "...        ...         ...                                                ...   \n",
       "587181    9897  2015-03-02  [{\"meal\": \"Breakfast\", \"dishes\": [{\"nutritions...   \n",
       "587182    9897  2015-03-03  [{\"meal\": \"Breakfast\", \"dishes\": [{\"nutritions...   \n",
       "587183    9897  2015-03-04  [{\"meal\": \"Breakfast\", \"dishes\": [{\"nutritions...   \n",
       "587184    9897  2015-03-14  [{\"meal\": \"Breakfast\", \"dishes\": [{\"nutritions...   \n",
       "587185    9897  2015-03-15  [{\"meal\": \"Breakfast\", \"dishes\": [{\"nutritions...   \n",
       "\n",
       "                                                   Result  \n",
       "0       {\"total\": [{\"name\": \"Calories\", \"value\": 2430}...  \n",
       "1       {\"total\": [{\"name\": \"Calories\", \"value\": 1862}...  \n",
       "2       {\"total\": [{\"name\": \"Calories\", \"value\": 2251}...  \n",
       "3       {\"total\": [{\"name\": \"Calories\", \"value\": 2001}...  \n",
       "4       {\"total\": [{\"name\": \"Calories\", \"value\": 2158}...  \n",
       "...                                                   ...  \n",
       "587181  {\"total\": [{\"name\": \"Calories\", \"value\": 1979}...  \n",
       "587182  {\"total\": [{\"name\": \"Calories\", \"value\": 2141}...  \n",
       "587183  {\"total\": [{\"name\": \"Calories\", \"value\": 543},...  \n",
       "587184  {\"total\": [{\"name\": \"Calories\", \"value\": 2024}...  \n",
       "587185  {\"total\": [{\"name\": \"Calories\", \"value\": 1496}...  \n",
       "\n",
       "[587186 rows x 4 columns]"
      ]
     },
     "execution_count": 3,
     "metadata": {},
     "output_type": "execute_result"
    }
   ],
   "source": [
    "data"
   ]
  },
  {
   "cell_type": "code",
   "execution_count": 4,
   "metadata": {},
   "outputs": [],
   "source": [
    "def get_real_total(data, row):\n",
    "    value = get_value(data, row, 2, True)\n",
    "    default = default_nutrition()\n",
    "    for j in range(len(value)):\n",
    "        val = value[j]['dishes']\n",
    "        for i in range(len(val)):\n",
    "            nutrs = val[i]['nutritions']\n",
    "            for k in nutrs:\n",
    "                merge_nutritions(default, k['name'], to_int(k['value']))\n",
    "    return default"
   ]
  },
  {
   "cell_type": "code",
   "execution_count": 76,
   "metadata": {},
   "outputs": [],
   "source": [
    "def get_meals(data, row):\n",
    "    meals = set()\n",
    "    value = get_value(data, row, 2, True)\n",
    "    for i in range(len(value)):\n",
    "        meals.add(value[i]['meal'])\n",
    "    return meals"
   ]
  },
  {
   "cell_type": "code",
   "execution_count": 5,
   "metadata": {},
   "outputs": [],
   "source": [
    "def is_missmatched(data, row):\n",
    "    default = get_real_total(data, row)\n",
    "    total = get_value(data, row, 3, True)['total']\n",
    "    total_default = default_nutrition()\n",
    "    for total_nutr in total:\n",
    "        merge_nutritions(total_default, total_nutr['name'], total_nutr['value'])\n",
    "    for key in default:\n",
    "        if default[key] - total_default[key] != 0:\n",
    "            return True\n",
    "    return False"
   ]
  },
  {
   "cell_type": "code",
   "execution_count": 6,
   "metadata": {},
   "outputs": [],
   "source": [
    "def is_negative(data, row):\n",
    "    value = get_value(data, row, 2, True)\n",
    "    for j in range(len(value)):\n",
    "        val = value[j]['dishes']\n",
    "        for i in range(len(val)):\n",
    "            nutrs = val[i]['nutritions']\n",
    "            for k in nutrs:\n",
    "                if to_int(k['value']) < 0:\n",
    "                    return True\n",
    "    return False"
   ]
  },
  {
   "cell_type": "code",
   "execution_count": 38,
   "metadata": {},
   "outputs": [],
   "source": [
    "def get_nutritions_sum(data, row, nutrition):\n",
    "    res = 0\n",
    "    value = get_value(data, row, 2, True)\n",
    "    for j in range(len(value)):\n",
    "        val = value[j]['dishes']\n",
    "        for i in range(len(val)):\n",
    "            nutrs = val[i]['nutritions']\n",
    "            for nutr in nutrs:\n",
    "                if nutr['name'] == nutrition:\n",
    "                    res += to_int(nutr['value'])\n",
    "    return res"
   ]
  },
  {
   "cell_type": "code",
   "execution_count": 7,
   "metadata": {},
   "outputs": [],
   "source": [
    "def to_int(string):\n",
    "    curr = \"\"\n",
    "    for dig in string:\n",
    "        if dig.isdigit() or dig == '-':\n",
    "            curr += dig\n",
    "    if len(curr) == 0:\n",
    "        return -1\n",
    "    return int(curr)"
   ]
  },
  {
   "cell_type": "code",
   "execution_count": 8,
   "metadata": {},
   "outputs": [],
   "source": [
    "def merge_nutritions(default, key, value):\n",
    "    default[key] += value"
   ]
  },
  {
   "cell_type": "code",
   "execution_count": 9,
   "metadata": {},
   "outputs": [],
   "source": [
    "def default_nutrition():\n",
    "    return {'Protein': 0,\n",
    "     'Calories': 0,\n",
    "     'Sodium': 0,\n",
    "     'Sugar': 0,\n",
    "     'Fat': 0,\n",
    "     'Carbs': 0,\n",
    "     'Fiber': 0,\n",
    "     'Potass.': 0,\n",
    "     'Iron': 0,\n",
    "     'Calcium': 0,\n",
    "     'Sat Fat': 0,\n",
    "     'Chol': 0,\n",
    "     'Vit A': 0,\n",
    "     'Vit C': 0,\n",
    "     'Trn Fat': 0,\n",
    "     'Mon Fat': 0,\n",
    "     'Ply Fat': 0}"
   ]
  },
  {
   "cell_type": "code",
   "execution_count": 10,
   "metadata": {},
   "outputs": [],
   "source": [
    "def get_total_nutrition(data,row, nutrition):\n",
    "    value = get_value(data, row, 3, True)['total']\n",
    "    for nutr in value:\n",
    "        if nutr['name'] == nutrition:\n",
    "            return nutr['value']"
   ]
  },
  {
   "cell_type": "code",
   "execution_count": 11,
   "metadata": {},
   "outputs": [],
   "source": [
    "def get_goal_nutrition(data,row, nutrition):\n",
    "    value = get_value(data, row, 3, True)['goal']\n",
    "    for nutr in value:\n",
    "        if nutr['name'] == nutrition:\n",
    "            return nutr['value']"
   ]
  },
  {
   "cell_type": "code",
   "execution_count": 12,
   "metadata": {},
   "outputs": [],
   "source": [
    "def get_value(data, row, col, jsn):\n",
    "    if jsn:\n",
    "        return json.loads(data.iloc[row, col])\n",
    "    else:\n",
    "        return data.iloc[row, col]"
   ]
  },
  {
   "cell_type": "code",
   "execution_count": 13,
   "metadata": {},
   "outputs": [],
   "source": [
    "def num_days_for_person(data, person):\n",
    "    mask = data.Person == person\n",
    "    return data.Person.loc[mask].shape[0]"
   ]
  },
  {
   "cell_type": "code",
   "execution_count": 14,
   "metadata": {},
   "outputs": [],
   "source": [
    "def num_persons_for_date(data, date):\n",
    "    mask = data.Date == date\n",
    "    return data.Date.loc[mask].shape[0]"
   ]
  },
  {
   "cell_type": "code",
   "execution_count": 15,
   "metadata": {},
   "outputs": [],
   "source": [
    "def get_nutritions(data, row):\n",
    "    val = get_value(data, row, 2, True)\n",
    "    nutritions = set()\n",
    "    for j in range(len(val)):\n",
    "        value = val[j]['dishes']\n",
    "        for i in range(len(value)):\n",
    "            nutrs = value[i]['nutritions']\n",
    "            for j in range(len(nutrs)):\n",
    "                nutritions.add(nutrs[j]['name'])\n",
    "    return nutritions"
   ]
  },
  {
   "cell_type": "code",
   "execution_count": 16,
   "metadata": {},
   "outputs": [
    {
     "data": {
      "text/plain": [
       "{'Calories', 'Carbs', 'Fat', 'Protein', 'Sodium', 'Sugar'}"
      ]
     },
     "execution_count": 16,
     "metadata": {},
     "output_type": "execute_result"
    }
   ],
   "source": [
    "get_nutritions(data, 0)"
   ]
  },
  {
   "cell_type": "code",
   "execution_count": 17,
   "metadata": {},
   "outputs": [],
   "source": [
    "def increase_y_by_range(y, num):\n",
    "    if num <= 50 and num != 0:\n",
    "        y[0]+=1\n",
    "    elif num <= 100:\n",
    "        y[1]+=1\n",
    "    elif num <= 150:\n",
    "        y[2]+=1\n",
    "    elif num <= 200:\n",
    "        y[3]+=1"
   ]
  },
  {
   "cell_type": "code",
   "execution_count": 18,
   "metadata": {},
   "outputs": [
    {
     "data": {
      "text/plain": [
       "Person      9896\n",
       "Date         208\n",
       "Input     578774\n",
       "Result    581728\n",
       "dtype: int64"
      ]
     },
     "execution_count": 18,
     "metadata": {},
     "output_type": "execute_result"
    }
   ],
   "source": [
    "data.nunique(axis=0, dropna=False)"
   ]
  },
  {
   "cell_type": "code",
   "execution_count": 19,
   "metadata": {},
   "outputs": [],
   "source": [
    "y = [0,0,0,0]\n",
    "unique_people = data.iloc[:, 0].unique()\n",
    "for person in unique_people:\n",
    "    increase_y_by_range(y, data.loc[data.Person == person, ['Person']].shape[0])"
   ]
  },
  {
   "cell_type": "code",
   "execution_count": 20,
   "metadata": {},
   "outputs": [
    {
     "data": {
      "image/png": "[encoded data removed]",
      "text/plain": [
       "<Figure size 432x288 with 1 Axes>"
      ]
     },
     "metadata": {
      "needs_background": "light"
     },
     "output_type": "display_data"
    }
   ],
   "source": [
    "fig = plt.figure()\n",
    "ax = fig.add_axes([0,0,1,1])\n",
    "ranges = ['0-50', '51-100', '101-150', '151-200']\n",
    "ax.bar(ranges,y)\n",
    "plt.show()"
   ]
  },
  {
   "cell_type": "code",
   "execution_count": 90,
   "metadata": {},
   "outputs": [],
   "source": [
    "meals_distribution ={}\n",
    "p_range = {}\n",
    "p_meals = {}\n",
    "for person in unique_people:\n",
    "    mask = data.Person == person\n",
    "    person_meals = set()\n",
    "    person_data = data.loc[mask, ['Person']]\n",
    "    for i in person_data.index:\n",
    "        curr = get_meals(data, i)\n",
    "        person_meals = set.union(person_meals, curr)\n",
    "    n = len(person_meals)\n",
    "    \n",
    "    # რომელი საკვები რამდენჯერ გვხვდება\n",
    "    if n in meals_distribution:\n",
    "        meals_distribution[n] += 1\n",
    "    else:\n",
    "        meals_distribution[n] = 1\n",
    "        \n",
    "    # კონკრეტულმა ადამიანმა რამდენი განსხვავებული meal შეიყვანა და თითოეულმა ადამიანმა რამდენი მონაცემი შეიყვანა\n",
    "    p_meals[person] = len(person_meals)\n",
    "    p_range[person] = person_data.shape[0]"
   ]
  },
  {
   "cell_type": "code",
   "execution_count": 91,
   "metadata": {},
   "outputs": [
    {
     "data": {
      "image/png": "[encoded data removed]",
      "text/plain": [
       "<Figure size 576x288 with 1 Axes>"
      ]
     },
     "metadata": {
      "needs_background": "light"
     },
     "output_type": "display_data"
    }
   ],
   "source": [
    "fig = plt.figure(figsize=(8,4))\n",
    "ax = fig.add_axes([0,0,1,1])\n",
    "ax.bar(list(meals_distribution.keys()),list(meals_distribution.values()))\n",
    "plt.show()"
   ]
  },
  {
   "cell_type": "code",
   "execution_count": 94,
   "metadata": {},
   "outputs": [
    {
     "data": {
      "text/html": [
       "<div>\n",
       "<style scoped>\n",
       "    .dataframe tbody tr th:only-of-type {\n",
       "        vertical-align: middle;\n",
       "    }\n",
       "\n",
       "    .dataframe tbody tr th {\n",
       "        vertical-align: top;\n",
       "    }\n",
       "\n",
       "    .dataframe thead th {\n",
       "        text-align: right;\n",
       "    }\n",
       "</style>\n",
       "<table border=\"1\" class=\"dataframe\">\n",
       "  <thead>\n",
       "    <tr style=\"text-align: right;\">\n",
       "      <th></th>\n",
       "      <th>persons</th>\n",
       "      <th>meals_num</th>\n",
       "      <th>range</th>\n",
       "    </tr>\n",
       "  </thead>\n",
       "  <tbody>\n",
       "    <tr>\n",
       "      <th>persons</th>\n",
       "      <td>1.000000</td>\n",
       "      <td>0.005707</td>\n",
       "      <td>-0.000615</td>\n",
       "    </tr>\n",
       "    <tr>\n",
       "      <th>meals_num</th>\n",
       "      <td>0.005707</td>\n",
       "      <td>1.000000</td>\n",
       "      <td>0.276064</td>\n",
       "    </tr>\n",
       "    <tr>\n",
       "      <th>range</th>\n",
       "      <td>-0.000615</td>\n",
       "      <td>0.276064</td>\n",
       "      <td>1.000000</td>\n",
       "    </tr>\n",
       "  </tbody>\n",
       "</table>\n",
       "</div>"
      ],
      "text/plain": [
       "            persons  meals_num     range\n",
       "persons    1.000000   0.005707 -0.000615\n",
       "meals_num  0.005707   1.000000  0.276064\n",
       "range     -0.000615   0.276064  1.000000"
      ]
     },
     "execution_count": 94,
     "metadata": {},
     "output_type": "execute_result"
    }
   ],
   "source": [
    "pp_meals = []\n",
    "pp_range = []\n",
    "for person in unique_people:\n",
    "    pp_meals.append(p_meals[person])\n",
    "    pp_range.append(p_range[person])\n",
    "pre_data = {'persons' : unique_people, 'meals_num' : pp_meals, 'range' : pp_range}\n",
    "corr_data = pd.DataFrame(data=pre_data)\n",
    "corr_data.corr()"
   ]
  },
  {
   "cell_type": "code",
   "execution_count": 21,
   "metadata": {},
   "outputs": [
    {
     "name": "stdout",
     "output_type": "stream",
     "text": [
      "587186\n"
     ]
    }
   ],
   "source": [
    "unique_dates = data.iloc[:, 1].unique()\n",
    "unique_dates.sort()\n",
    "date_people = {}\n",
    "sm = 0\n",
    "for date in unique_dates:\n",
    "    mask = data.Date == date\n",
    "    sz = data.loc[mask, :].shape[0]\n",
    "    date_people[date] = sz\n",
    "    sm += sz\n",
    "print(sm)"
   ]
  },
  {
   "cell_type": "code",
   "execution_count": 22,
   "metadata": {},
   "outputs": [
    {
     "data": {
      "image/png": "[encoded data removed]",
      "text/plain": [
       "<Figure size 432x288 with 1 Axes>"
      ]
     },
     "metadata": {
      "needs_background": "light"
     },
     "output_type": "display_data"
    }
   ],
   "source": [
    "bla = [i for i in unique_dates]\n",
    "blu = [date_people[i] for i in unique_dates]\n",
    "plt.plot([i for i in range(1, 209)], blu, color='purple', label='Traffic')\n",
    "plt.ylabel('Num Users')\n",
    "plt.xlabel('Day')\n",
    "plt.legend()\n",
    "plt.show()"
   ]
  },
  {
   "cell_type": "code",
   "execution_count": 23,
   "metadata": {},
   "outputs": [
    {
     "data": {
      "text/plain": [
       "0"
      ]
     },
     "execution_count": 23,
     "metadata": {},
     "output_type": "execute_result"
    }
   ],
   "source": [
    "unique_dates.sort()\n",
    "dates = []\n",
    "for date in unique_dates:\n",
    "    dates.append(int(date[len(date) - 2:]))\n",
    "missing = 0\n",
    "for i in range(1, len(dates)):\n",
    "    if dates[i - 1] > dates[i]:\n",
    "        if dates[i] != 1:\n",
    "            missing += 1\n",
    "missing"
   ]
  },
  {
   "cell_type": "code",
   "execution_count": 24,
   "metadata": {},
   "outputs": [],
   "source": [
    "nutritions = {}\n",
    "count_nutritions = {}\n",
    "missmatched = []\n",
    "negatives = []\n",
    "for i in data.index:\n",
    "    curr = get_nutritions(data, i)\n",
    "    if is_missmatched(data, i):\n",
    "        missmatched.append(i)\n",
    "    if is_negative(data, i):\n",
    "        negatives.append(i)\n",
    "        \n",
    "    for nutrition in curr:\n",
    "        if nutrition not in count_nutritions:\n",
    "            count_nutritions[nutrition]=1\n",
    "        else:\n",
    "            count_nutritions[nutrition]+=1\n",
    "    nutritions = set.union(curr, nutritions)"
   ]
  },
  {
   "cell_type": "code",
   "execution_count": 25,
   "metadata": {},
   "outputs": [
    {
     "data": {
      "image/png": "[encoded data removed]",
      "text/plain": [
       "<Figure size 1080x504 with 1 Axes>"
      ]
     },
     "metadata": {
      "needs_background": "light"
     },
     "output_type": "display_data"
    }
   ],
   "source": [
    "fig = plt.figure(figsize=(15,7))\n",
    "ax = fig.add_axes([0,0,1,1])\n",
    "ax.bar(list(count_nutritions.keys()),list(count_nutritions.values()))\n",
    "plt.show()"
   ]
  },
  {
   "cell_type": "code",
   "execution_count": 26,
   "metadata": {},
   "outputs": [
    {
     "data": {
      "text/plain": [
       "{'Sugar': 368917,\n",
       " 'Sodium': 390527,\n",
       " 'Protein': 579872,\n",
       " 'Calories': 587186,\n",
       " 'Carbs': 573048,\n",
       " 'Fat': 569334,\n",
       " 'Fiber': 242840,\n",
       " 'Potass.': 19416,\n",
       " 'Iron': 29016,\n",
       " 'Calcium': 22925,\n",
       " 'Sat Fat': 16576,\n",
       " 'Chol': 18252,\n",
       " 'Vit A': 774,\n",
       " 'Vit C': 2486,\n",
       " 'Trn Fat': 1828,\n",
       " 'Mon Fat': 428,\n",
       " 'Ply Fat': 761}"
      ]
     },
     "execution_count": 26,
     "metadata": {},
     "output_type": "execute_result"
    }
   ],
   "source": [
    "count_nutritions"
   ]
  },
  {
   "cell_type": "code",
   "execution_count": 27,
   "metadata": {},
   "outputs": [
    {
     "data": {
      "text/plain": [
       "918"
      ]
     },
     "execution_count": 27,
     "metadata": {},
     "output_type": "execute_result"
    }
   ],
   "source": [
    "len(missmatched)"
   ]
  },
  {
   "cell_type": "code",
   "execution_count": 29,
   "metadata": {},
   "outputs": [
    {
     "data": {
      "text/plain": [
       "1399"
      ]
     },
     "execution_count": 29,
     "metadata": {},
     "output_type": "execute_result"
    }
   ],
   "source": [
    "len(negatives)"
   ]
  },
  {
   "cell_type": "code",
   "execution_count": 75,
   "metadata": {},
   "outputs": [
    {
     "data": {
      "text/plain": [
       "877"
      ]
     },
     "execution_count": 75,
     "metadata": {},
     "output_type": "execute_result"
    }
   ],
   "source": [
    "duplicated = []\n",
    "anomalies = []\n",
    "for i in missmatched:\n",
    "    nutrs = get_nutritions(data, i)\n",
    "    curr = 0\n",
    "    for nutr in nutrs:\n",
    "        if get_total_nutrition(data, i, nutr) != None:\n",
    "            if (get_total_nutrition(data, i, nutr) * 2 == get_nutritions_sum(data, i, nutr)): \n",
    "                curr = 1\n",
    "            elif get_total_nutrition(data,i, nutr) != get_nutritions_sum(data, i, nutr):\n",
    "                curr = 0\n",
    "                break\n",
    "        else:\n",
    "            anomalies.append(i)\n",
    "            curr = 0\n",
    "            break\n",
    "    if curr == 1:\n",
    "        duplicated.append(i)\n",
    "len(duplicated)"
   ]
  },
  {
   "cell_type": "code",
   "execution_count": 73,
   "metadata": {},
   "outputs": [
    {
     "data": {
      "text/plain": [
       "41"
      ]
     },
     "execution_count": 73,
     "metadata": {},
     "output_type": "execute_result"
    }
   ],
   "source": [
    "len(anomalies)"
   ]
  }
 ],
 "metadata": {
  "kernelspec": {
   "display_name": "Python 3",
   "language": "python",
   "name": "python3"
  },
  "language_info": {
   "codemirror_mode": {
    "name": "ipython",
    "version": 3
   },
   "file_extension": ".py",
   "mimetype": "text/x-python",
   "name": "python",
   "nbconvert_exporter": "python",
   "pygments_lexer": "ipython3",
   "version": "3.8.3"
  }
 },
 "nbformat": 4,
 "nbformat_minor": 4
}
